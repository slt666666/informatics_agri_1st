{
  "nbformat": 4,
  "nbformat_minor": 0,
  "metadata": {
    "colab": {
      "name": "RL02.ipynb",
      "provenance": [],
      "collapsed_sections": [
        "GCvov-22cbuZ",
        "F1LT-36VzmfL",
        "LZedukk8kiUd",
        "7iISjW5SFMiM",
        "9POOz23j-uVC",
        "CHTj7WeRiQ8M",
        "svIe4WIG0Mtx",
        "f8aQtx7pG4YI",
        "DUJPIMkMFnGt",
        "WtLcB07NaLLi",
        "H4i4EtK_e3W-",
        "WAnAGWbyHXBr",
        "Z_575L3ju8zN"
      ],
      "toc_visible": true
    },
    "kernelspec": {
      "name": "ir",
      "display_name": "R"
    }
  },
  "cells": [
    {
      "cell_type": "markdown",
      "metadata": {
        "id": "31NfnQcvPDoY"
      },
      "source": [
        "# Rの基礎\n"
      ]
    },
    {
      "cell_type": "markdown",
      "metadata": {
        "id": "PT4HhDaqnLEl"
      },
      "source": [
        "## はじめに\n",
        "\n",
        "　**R** には、数値計算（ベクトルや行列の計算）や、統計解析、機械学習（Machine Learning）、深層学習（Deep Learning）、グラフ描画など、データ解析用の追加パッケージ（ライブラリ）が豊富に揃っています。そのため、データ解析の分野で最も使われているプログラミング言語の１つです。\n",
        "\n",
        "この実習テキストでは、Rの基礎を学んでいきます。\n"
      ]
    },
    {
      "cell_type": "markdown",
      "metadata": {
        "id": "rwbSm1T7f7sG"
      },
      "source": [
        "## 今回の実習内容\n",
        "1. 文字列や数値を表示する\n",
        "1. 文字列や数値に呼び出し名を付ける\n",
        "1. DNA配列の長さを調べる\n",
        "1. DNA配列を繋げる\n",
        "1. DNA配列を切り出す\n",
        "1. DNA配列を一文字ずつ取り出す\n",
        "1. DNA配列に特定の配列があるか調べる\n",
        "1. 特定の配列があるとき、DNA配列を表示する\n",
        "\n",
        "---"
      ]
    },
    {
      "cell_type": "markdown",
      "metadata": {
        "id": "Hs9azyTbghPg"
      },
      "source": [
        "## 1. 文字や数値を表示する\n",
        "　プログラムを使って、文字列や数値を表示してみましょう。`print`関数というものを使用すると、文字列や数値を表示（出力）できます。\n",
        "\n",
        "```R\n",
        "# print関数の書き方\n",
        "print(\"文字列\")\n",
        "\n",
        "print(数値)\n",
        "```\n",
        "\n"
      ]
    },
    {
      "cell_type": "code",
      "metadata": {
        "id": "vTuh7WAjmB6r",
        "outputId": "f232de65-91e5-4978-a4b4-2ed0dffdd4af",
        "colab": {
          "base_uri": "https://localhost:8080/"
        }
      },
      "source": [
        "# 例1\n",
        "print(\"ATAGAATTCT\")"
      ],
      "execution_count": 3,
      "outputs": [
        {
          "output_type": "stream",
          "name": "stdout",
          "text": [
            "[1] \"ATAGAATTCT\"\n"
          ]
        }
      ]
    },
    {
      "cell_type": "code",
      "source": [
        "# 例2\n",
        "print(234)"
      ],
      "metadata": {
        "id": "pCi95X1wUhry"
      },
      "execution_count": null,
      "outputs": []
    },
    {
      "cell_type": "markdown",
      "metadata": {
        "id": "G-6RkDybls_v"
      },
      "source": [
        "### 実習1\n",
        "\n",
        "　print関数を使って、次の文字列を画面に表示させてください。\n",
        " \n",
        "```\n",
        "情報基礎演習\n",
        "```"
      ]
    },
    {
      "cell_type": "code",
      "metadata": {
        "id": "byriPTWCU3vl"
      },
      "source": [
        ""
      ],
      "execution_count": null,
      "outputs": []
    },
    {
      "cell_type": "markdown",
      "metadata": {
        "id": "dQCq3qdRHlCp"
      },
      "source": [
        "#### 解答例"
      ]
    },
    {
      "cell_type": "code",
      "metadata": {
        "id": "SrSswowaHoN1",
        "outputId": "7b9e3f7c-14a0-4213-c0e2-1a6b228b104e",
        "colab": {
          "base_uri": "https://localhost:8080/"
        }
      },
      "source": [
        "print(\"情報基礎演習\")"
      ],
      "execution_count": 4,
      "outputs": [
        {
          "output_type": "stream",
          "name": "stdout",
          "text": [
            "[1] \"情報基礎演習\"\n"
          ]
        }
      ]
    },
    {
      "cell_type": "markdown",
      "metadata": {
        "id": "dyNplNaCksNi"
      },
      "source": [
        "### 「関数」とは  "
      ]
    },
    {
      "cell_type": "markdown",
      "metadata": {
        "id": "ILnrpTt66-aq"
      },
      "source": [
        "　特定の機能を持ったコードのことを **関数 (Function)** と言います。 `print`関数は、「文字列や数値などの値（プログラミング用語で**引数**）が渡されると、それを画面に表示する」機能を持ったものです。Rには、`print`関数以外にも多くの関数があります。また、独自の関数を作成することも可能です。\n",
        " \n",
        "<img src=\"https://lh3.googleusercontent.com/pw/ACtC-3d1dYl5Bv3sNkYyXOUJ6r5rH8BNbKylMXBO3eDldtuDAo2Enaip_fJYat293BpjZdOXSjHxh1Xt6KTqH2K_q6Bev04LqjyxmMLd025hqqwe7UcBEPsC4lKrVj59nxSGgJj8pwmVftzHTde-mz4uLA7v=w1487-h725-no?authuser=0\" alt=\"function\" height=\"200px\">"
      ]
    },
    {
      "cell_type": "markdown",
      "metadata": {
        "id": "kjtKKHHT7QL1"
      },
      "source": [
        "### クオテーション"
      ]
    },
    {
      "cell_type": "markdown",
      "metadata": {
        "id": "3nnaj9R_7XhB"
      },
      "source": [
        "　Rでは、文字列を必ずクオテーションで挟む必要があります。\n",
        "\n",
        "　クオテーションは、**シングルクオテーション**（`'`） と **ダブルクオテーション**（`\"`）のどちらも使用可能です。ただし、ひとつの文字列に使うクオテーションは同じものでなければなりません。\n",
        "\n",
        "　なお、クオテーションで挟まない場合、後ほど学ぶ「変数」として認識されてしまいます。\n"
      ]
    },
    {
      "cell_type": "code",
      "metadata": {
        "id": "YZZmbSOtBt0-",
        "outputId": "bc873903-572d-4345-8767-1c9f5ea22379",
        "colab": {
          "base_uri": "https://localhost:8080/"
        }
      },
      "source": [
        "print('Kyoto')  # シングルクオテーション\n",
        "print(\"University\") # ダブルクオテーション"
      ],
      "execution_count": 6,
      "outputs": [
        {
          "output_type": "stream",
          "name": "stdout",
          "text": [
            "[1] \"Kyoto\"\n",
            "[1] \"University\"\n"
          ]
        }
      ]
    },
    {
      "cell_type": "code",
      "metadata": {
        "id": "6JGmbtxAt_tz",
        "outputId": "00bf466a-036a-4ada-bcad-fa1500761001",
        "colab": {
          "base_uri": "https://localhost:8080/",
          "height": 135
        }
      },
      "source": [
        "print('Agriculture\") # シングルとダブルの併用はNG"
      ],
      "execution_count": 7,
      "outputs": [
        {
          "output_type": "error",
          "ename": "ERROR",
          "evalue": "ignored",
          "traceback": [
            "Error in parse(text = x, srcfile = src): <text>:1:7: unexpected INCOMPLETE_STRING\n1: print('Agriculture\") # シングルとダブルの併用はNG\n          ^\nTraceback:\n"
          ]
        }
      ]
    },
    {
      "cell_type": "markdown",
      "metadata": {
        "id": "fGVebsoILAZO"
      },
      "source": [
        "### プログラム中のコメント"
      ]
    },
    {
      "cell_type": "markdown",
      "metadata": {
        "id": "ncfvy6iYLHeI"
      },
      "source": [
        "　ここまでのプログラムの例でも使用してきましたが、プログラムの中にコメント（説明文やメモ）などを差し込むことが可能です。ハッシュ記号（`#`）を使うと、ハッシュ記号からその行末までは、プログラムとして認識されず、スキップされます。"
      ]
    },
    {
      "cell_type": "code",
      "metadata": {
        "id": "GDuNFbd4Mw19",
        "outputId": "bc5a09fc-c533-46b4-93a4-7e4557646203",
        "colab": {
          "base_uri": "https://localhost:8080/"
        }
      },
      "source": [
        "# print(\"Hello\")  # 次の一行はプログラムとして実行されません。\n",
        "print(\"Python\")  # これはプログラムとして実行されます"
      ],
      "execution_count": 8,
      "outputs": [
        {
          "output_type": "stream",
          "name": "stdout",
          "text": [
            "[1] \"Python\"\n"
          ]
        }
      ]
    },
    {
      "cell_type": "markdown",
      "metadata": {
        "id": "vl0VFi_gpO8f"
      },
      "source": [
        "## 2. 文字列や数値に呼び出し名を付ける\n",
        "\n",
        "　文字列 `Friday` に `informatics` という呼び出し名を付けてみましょう。\n",
        "\n",
        "　下記のコードセルには、(1) 1行目で文字列に`informatics`という呼び出し名を付けて、(2) 2行目で呼び出し名に設定された文字列を表示させる、といったプログラムが書かれています。"
      ]
    },
    {
      "cell_type": "code",
      "metadata": {
        "id": "E1RE9ZSgzYcR",
        "outputId": "710942cc-4757-4708-b865-02dbeded171a",
        "colab": {
          "base_uri": "https://localhost:8080/"
        }
      },
      "source": [
        "informatics <- \"Friday\"\n",
        "print(informatics)"
      ],
      "execution_count": 9,
      "outputs": [
        {
          "output_type": "stream",
          "name": "stdout",
          "text": [
            "[1] \"Friday\"\n"
          ]
        }
      ]
    },
    {
      "cell_type": "markdown",
      "metadata": {
        "id": "PBFW6APzzdsw"
      },
      "source": [
        "　呼び出し名を付けることをプログラミング用語で **変数を設定する（宣言する、定義する）** と言います。また、呼び出し名のことを **変数名** と言い、変数名に対応する文字列などのことを **値** と言います。上述の例では、`informatics`が変数名で、`\"Friday\"`が値です。\n",
        "\n",
        "```python\n",
        "# 変数を設定する\n",
        "変数名 <- 値（文字列など）\n",
        "変数名 = 値（文字列など）\n",
        "```\n",
        "\n",
        "　変数に設定した値は変数名を使って何度でも取り出せます。また、同じ名前の変数を再設定することで、対応する値を何度でも入れ替えられます。"
      ]
    },
    {
      "cell_type": "code",
      "metadata": {
        "id": "nIkbLrwW4hBV",
        "outputId": "7eeaf9e2-a92b-4106-8bda-b1842723ed61",
        "colab": {
          "base_uri": "https://localhost:8080/"
        }
      },
      "source": [
        "# 値は何度でも取り出し可能\n",
        "informatics = \"Friday\"  # 変数を設定\n",
        "print(informatics)\n",
        "print(informatics)\n",
        "print(informatics)"
      ],
      "execution_count": 10,
      "outputs": [
        {
          "output_type": "stream",
          "name": "stdout",
          "text": [
            "[1] \"Friday\"\n",
            "[1] \"Friday\"\n",
            "[1] \"Friday\"\n"
          ]
        }
      ]
    },
    {
      "cell_type": "code",
      "metadata": {
        "id": "3Wbzv-6QoTs1",
        "outputId": "49af07f9-3f5b-470a-a0ab-b62b3e6366cc",
        "colab": {
          "base_uri": "https://localhost:8080/"
        }
      },
      "source": [
        "# 値は何度でも入れ替え可能\n",
        "informatics = \"Friday\"      # 変数を設定\n",
        "print(informatics)\n",
        "\n",
        "informatics = \"Monday\"  # 変数を再設定（上書き）\n",
        "print(informatics)\n",
        "\n",
        "informatics = \"Sunday\"  # 変数を再設定（上書き）\n",
        "print(informatics)"
      ],
      "execution_count": 11,
      "outputs": [
        {
          "output_type": "stream",
          "name": "stdout",
          "text": [
            "[1] \"Friday\"\n",
            "[1] \"Monday\"\n",
            "[1] \"Sunday\"\n"
          ]
        }
      ]
    },
    {
      "cell_type": "markdown",
      "metadata": {
        "id": "DUJmDpzco5eO"
      },
      "source": [
        "### 実習2\n",
        "\n",
        "　xという変数に`start`という文字列を値にした変数を設定してあります。\n",
        "\n",
        "まずxの変数の中身を出力し、その後xの変数に`next`という文字列を設定して、再び出力してください。"
      ]
    },
    {
      "cell_type": "code",
      "metadata": {
        "id": "d1xuP59bo4--"
      },
      "source": [
        "x = \"start\"\n",
        "\n",
        "print()\n",
        "x = "
      ],
      "execution_count": null,
      "outputs": []
    },
    {
      "cell_type": "markdown",
      "metadata": {
        "id": "L9kpSlDHowPq"
      },
      "source": [
        "#### 解答例"
      ]
    },
    {
      "cell_type": "code",
      "metadata": {
        "id": "IZaJG1M_ovMs",
        "outputId": "64b8c5ba-c9ec-4206-955b-3b2e11a73996",
        "colab": {
          "base_uri": "https://localhost:8080/"
        }
      },
      "source": [
        "x = \"start\"\n",
        "\n",
        "print(x)\n",
        "x = \"next\"\n",
        "print(x)"
      ],
      "execution_count": 12,
      "outputs": [
        {
          "output_type": "stream",
          "name": "stdout",
          "text": [
            "[1] \"start\"\n",
            "[1] \"next\"\n"
          ]
        }
      ]
    },
    {
      "cell_type": "markdown",
      "metadata": {
        "id": "Ja1t6Z547i2D"
      },
      "source": [
        "### 変数設定のイコール記号`=`について"
      ]
    },
    {
      "cell_type": "markdown",
      "metadata": {
        "id": "BPraGeyZ7pPq"
      },
      "source": [
        "　変数の設定では`<-`という記号と、イコール記号 `=`が使われています。通常`<-`を使用することが多いですが、イコール記号 `=`でも設定可能です。\n",
        "\n",
        "このイコール記号は\"等しい\"という意味で使われていません。右辺の値を左辺の変数名に **代入**（登録）する、といった意味合いで使われています。今のところあまり意識する必要はありませんが、変数設定のイコール記号は「イコール（等しい）の意味ではない」と覚えておいてください。\n",
        "\n",
        "<img src=\"https://lh3.googleusercontent.com/pw/ACtC-3dXnLTVmks3JyRY6n-uMz9kkfdqIx2mlKDkqtbQFob7EURWPVJPp5q91463mPlpvNO4OYHBbaHaAuookELsZqVCjV_kMh_An50sxuFr0QpmAmycrJV6zuN3I7sRVip4mPDo85QOiTrPP2h9bieYMcRL=w1493-h737-no?authuser=0\" alt=\"set_variable\" height=\"200px\">"
      ]
    },
    {
      "cell_type": "markdown",
      "metadata": {
        "id": "ceszKAvVUpCQ"
      },
      "source": [
        "### 変数名のルール"
      ]
    },
    {
      "cell_type": "markdown",
      "metadata": {
        "id": "1GD4ZXlEUrqy"
      },
      "source": [
        "　変数は、以下のルールに従って、任意の名前を付けることが可能です。\n",
        "- 使える文字は、半角英数のアルファベットと数字、アンダースコア\n",
        "  - 例) `ABC_abc_123`は可\n",
        "  - 例) `ABC-abc-123`は不可\n",
        "- 数字から始まる変数名は不可  \n",
        "  - 例) `123_ABC_abc`は不可\n",
        "  - 例) アンダーバーから始まる変数`_123_ABC_abc`は可\n",
        "- Rが定義している [予約語](https://so-zou.jp/robot/tech/numerical-analysis/r/grammar/reserved-words.htm) は使用不可\n",
        "  - 例） `for`、`if`、`class`などは不可\n",
        "  - 例） `forA`、`ifB`、`classC`などは可"
      ]
    },
    {
      "cell_type": "markdown",
      "metadata": {
        "id": "8LLhR8jBrInQ"
      },
      "source": [
        "### 変数名を`print`関数で表示する"
      ]
    },
    {
      "cell_type": "markdown",
      "metadata": {
        "id": "nAldlI55rNb_"
      },
      "source": [
        "　変数名を`print`関数の引数にすると、変数の中身が出力されます。変数名自体を出力したい場合にはどのようにすれば良いでしょうか？　答えは、変数名自体を「文字列」として`print`関数に認識させればOKです。変数名をクオテーションで挟んだものを`print`関数に渡します。"
      ]
    },
    {
      "cell_type": "code",
      "metadata": {
        "id": "MNYnp1I1tCt-",
        "outputId": "5757635e-a62b-46af-8e9f-811868712453",
        "colab": {
          "base_uri": "https://localhost:8080/"
        }
      },
      "source": [
        "informatics = \"Friday\"\n",
        "print(informatics)\n",
        "print(\"informatics\")"
      ],
      "execution_count": 13,
      "outputs": [
        {
          "output_type": "stream",
          "name": "stdout",
          "text": [
            "[1] \"Friday\"\n",
            "[1] \"informatics\"\n"
          ]
        }
      ]
    },
    {
      "cell_type": "markdown",
      "metadata": {
        "id": "UTvWpnIwrbCy"
      },
      "source": [
        "## 3. ベクトルの長さを調べる\n",
        "\n",
        "　DNA配列の長さ（塩基数）を調べてみましょう。`len`関数というものを使います。\n",
        "\n",
        "```python\n",
        "# len関数の書き方\n",
        "len(\"<文字列>\")\n",
        "```\n",
        "\n",
        "　`len`関数は与えられた値の文字数を調べる関数です。下記のプログラムでは、`len`関数で調べた結果を`print`関数で出力しています。"
      ]
    },
    {
      "cell_type": "code",
      "metadata": {
        "id": "gx79GbN91D5D",
        "outputId": "35cda5f4-3414-461e-c719-47cac17bf054",
        "colab": {
          "base_uri": "https://localhost:8080/"
        }
      },
      "source": [
        "# 例1\n",
        "print(length(\"ATAGAATTCT\"))"
      ],
      "execution_count": 14,
      "outputs": [
        {
          "output_type": "stream",
          "name": "stdout",
          "text": [
            "[1] 1\n"
          ]
        }
      ]
    },
    {
      "cell_type": "code",
      "metadata": {
        "id": "oDSUwtCo_PZy"
      },
      "source": [
        "# 例2: 変数を使った場合\n",
        "rice = \"ATAGAATTCT\"\n",
        "riceL = len(rice)\n",
        "print(riceL)"
      ],
      "execution_count": null,
      "outputs": []
    },
    {
      "cell_type": "markdown",
      "metadata": {
        "id": "8IShVxL0AbxI"
      },
      "source": [
        "### 実習3\n",
        "　変数`wheat`に代入されているDNA配列の塩基数を`len`関数で調べて、出力してください。"
      ]
    },
    {
      "cell_type": "code",
      "metadata": {
        "id": "TPHVX4pBAeYE"
      },
      "source": [
        "wheat = \"ACAGAAATACCCAATATCTTGTTCTAGCAAGATATTGGGTATTTCTGTCT\"\n"
      ],
      "execution_count": null,
      "outputs": []
    },
    {
      "cell_type": "markdown",
      "metadata": {
        "id": "5pFLk7PFBHRM"
      },
      "source": [
        "#### 解答例"
      ]
    },
    {
      "cell_type": "code",
      "metadata": {
        "id": "BAQNScHpBJFw"
      },
      "source": [
        "wheat = \"ACAGAAATACCCAATATCTTGTTCTAGCAAGATATTGGGTATTTCTGTCT\"\n",
        "wheatL = len(wheat)\n",
        "print(wheatL)"
      ],
      "execution_count": null,
      "outputs": []
    },
    {
      "cell_type": "markdown",
      "metadata": {
        "id": "u-iXGK3j-O3j"
      },
      "source": [
        "## 4. ベクトルを繋げる\n",
        "\n",
        "　2つのDNA配列（文字列）を繋げて、ひとつのDNA配列してみましょう。文字列同士の結合は、文字列と文字列の足し算でできます。\n",
        "\n",
        "```python\n",
        "# 文字列を繋げる（結合する）\n",
        "\"<文字列1>\" + \"<文字列2>\"\n",
        "```"
      ]
    },
    {
      "cell_type": "code",
      "metadata": {
        "id": "e0IzT9I1-QwP"
      },
      "source": [
        "# 例1\n",
        "print(\"ATAGAATTCT\" + \"GAATTC\")"
      ],
      "execution_count": null,
      "outputs": []
    },
    {
      "cell_type": "code",
      "metadata": {
        "id": "2N3R9DJkHgTS"
      },
      "source": [
        "# 例2: 変数を使った場合(1)\n",
        "rice = \"ATAGAATTCT\"\n",
        "cake = \"GAATTC\"\n",
        "print(rice + cake)"
      ],
      "execution_count": null,
      "outputs": []
    },
    {
      "cell_type": "code",
      "metadata": {
        "id": "YFfaT3LwHt7x"
      },
      "source": [
        "# 例3: 変数を使った場合(2)\n",
        "rice = \"ATAGAATTCT\"\n",
        "cake = \"GAATTC\"\n",
        "rice_cake = rice + cake\n",
        "print(rice_cake)"
      ],
      "execution_count": null,
      "outputs": []
    },
    {
      "cell_type": "markdown",
      "metadata": {
        "id": "IMnkE5jvNibd"
      },
      "source": [
        "### 数列などを作成する"
      ]
    },
    {
      "cell_type": "markdown",
      "metadata": {
        "id": "pO82bf4_Nt6H"
      },
      "source": [
        "　ここでは、同じ文字列5個を直列に繋げてみましょう。ここでは2通りの方法を紹介します。\n",
        "\n",
        "　まずは、上で習った文字列の足し算を使う方法です。"
      ]
    },
    {
      "cell_type": "code",
      "metadata": {
        "id": "CKo4MKbSOCmD"
      },
      "source": [
        "# 文字列の足し算をつかう方法\n",
        "rice = \"TTCAGGAA\"\n",
        "print(rice + rice + rice + rice + rice)"
      ],
      "execution_count": null,
      "outputs": []
    },
    {
      "cell_type": "markdown",
      "metadata": {
        "id": "h2pytNtiOqfP"
      },
      "source": [
        "　文字列の掛け算を使うと、もっと簡単に上と同じことができます。"
      ]
    },
    {
      "cell_type": "code",
      "metadata": {
        "id": "WEB9eaUYOSyr",
        "outputId": "38031804-4275-44bc-bb1e-ce6d1483c661",
        "colab": {
          "base_uri": "https://localhost:8080/",
          "height": 135
        }
      },
      "source": [
        "# 文字列の掛け算をつかう方法\n",
        "rice = \"TTCAGGAA\"\n",
        "print(rice * 5)"
      ],
      "execution_count": 15,
      "outputs": [
        {
          "output_type": "error",
          "ename": "ERROR",
          "evalue": "ignored",
          "traceback": [
            "Error in rice * 5: non-numeric argument to binary operator\nTraceback:\n",
            "1. print(rice * 5)"
          ]
        }
      ]
    },
    {
      "cell_type": "markdown",
      "metadata": {
        "id": "KiO3rwYYHf5-"
      },
      "source": [
        "### 実習4\n",
        "\n",
        "　変数`s1`、`s2`、`s3`、`s4`、`s5`のそれぞれには、10塩基のDNA配列が入っています。それらを文字列を自由に繋げて、50塩基以上の長さのDNA配列を作ってください。\n",
        "\n",
        "<small>＊ 一度も使用しない変数があっても構いません。</small>"
      ]
    },
    {
      "cell_type": "code",
      "metadata": {
        "id": "6a0iYy4yJo5z"
      },
      "source": [
        "s1 = \"ACAGAAATAC\"\n",
        "s2 = \"CCAATATCTT\"\n",
        "s3 = \"GTTCTAGCAA\"\n",
        "s4 = \"GATATTGGGT\"\n",
        "s5 = \"ATTTCTGTCT\"\n"
      ],
      "execution_count": null,
      "outputs": []
    },
    {
      "cell_type": "markdown",
      "metadata": {
        "id": "5vG-8XJUKAf4"
      },
      "source": [
        "#### 解答例"
      ]
    },
    {
      "cell_type": "code",
      "metadata": {
        "id": "V973X9gIKcIl"
      },
      "source": [
        "s1 = \"ACAGAAATAC\"\n",
        "s2 = \"CCAATATCTT\"\n",
        "s3 = \"GTTCTAGCAA\"\n",
        "s4 = \"GATATTGGGT\"\n",
        "s5 = \"ATTTCTGTCT\"\n",
        "\n",
        "# 80塩基のDNA配列\n",
        "long_s = s5 + s4 + s3 + s2 + s1 + s4 + s5 + s1\n",
        "\n",
        "print(long_s)      # DNA配列を出力\n",
        "print(len(long_s))  # DNA配列の長さを出力"
      ],
      "execution_count": null,
      "outputs": []
    },
    {
      "cell_type": "markdown",
      "metadata": {
        "id": "H3bLuW8M-Rc6"
      },
      "source": [
        "## 5. ベクトルから値を切り出す\n",
        "\n",
        "　DNA配列の一部分を切り出す方法を学びます。"
      ]
    },
    {
      "cell_type": "markdown",
      "metadata": {
        "id": "15nx2GHkbyUK"
      },
      "source": [
        "### 任意の1塩基を切り出す"
      ]
    },
    {
      "cell_type": "markdown",
      "metadata": {
        "id": "rTsxPiA-b0IG"
      },
      "source": [
        "　任意の1塩基だけを切り出す方法から学びましょう。Pythonでは、文字列中の各文字に位置番号が振られています。その位置番号は、先頭の文字が0番、次の文字が1番、その次が2番、・・・のように振られています。この先頭から数える番号は、**0番から始まっている**ことに注意してください。\n",
        "\n",
        "　また、文字列の最後尾から数える位置番号も設定されています。最後尾の文字が-1番、その前の文字が-2番、さらに前の文字が-3番、・・・のように番号が振られています。\n",
        "\n",
        "　この位置番号のことを **インデックス（添字; Index）** と言います。\n",
        "\n",
        "　任意の1文字を切り出すためには、そのインデックスを指定することになります。\n",
        "\n",
        "```python\n",
        "# 書き方: 1文字だけを切り出す\n",
        "\"<文字列>\"[インデックス]\n",
        "```\n",
        "\n",
        "<img src=\"https://lh3.googleusercontent.com/pw/ACtC-3fBBp4s6Ck3dFa7RCY2QDzvU14YHQpPvmHtJgsiXI_0VmLcKqJwnGK5_UvkAa_0mGjByLJ-2Bl8BtOeaxh0bTuCAMhALmbGacUyPQKVaZA73N_6pwinXzuQQbH7TDAhgpzQz8WuF6ugL142y7CPwt-4=w1738-h606-no?authuser=0\" alt=\"str_index\" height=\"150px\">"
      ]
    },
    {
      "cell_type": "code",
      "metadata": {
        "id": "r3mLujt3YxKE"
      },
      "source": [
        "# 例1\n",
        "# \"2番目\"　の塩基を切り出す\n",
        "print(\"ATAGAATTCT\"[2])"
      ],
      "execution_count": null,
      "outputs": []
    },
    {
      "cell_type": "code",
      "metadata": {
        "id": "AASO2ST_-UjW"
      },
      "source": [
        "# 例2: 変数を使った場合\n",
        "rice = \"ATAGAATTCT\"\n",
        "print(rice[2])"
      ],
      "execution_count": null,
      "outputs": []
    },
    {
      "cell_type": "markdown",
      "metadata": {
        "id": "VvZnCp4tZJsB"
      },
      "source": [
        "### 実習5-1\n",
        "\n",
        "　変数`wheat`には、50塩基のDNA配列が入っています。最後尾の1塩基`T`を取り出してください。"
      ]
    },
    {
      "cell_type": "code",
      "metadata": {
        "id": "ahtG0qdwZwOs"
      },
      "source": [
        "wheat = \"ACAGAAATACCCAATATCTTGTTCTAGCAAGATATTGGGTATTTCTGTCT\"\n"
      ],
      "execution_count": null,
      "outputs": []
    },
    {
      "cell_type": "markdown",
      "metadata": {
        "id": "zEGrLX9gbK35"
      },
      "source": [
        "#### 解答例"
      ]
    },
    {
      "cell_type": "code",
      "metadata": {
        "id": "m6iSqyMrbMLu"
      },
      "source": [
        "wheat = \"ACAGAAATACCCAATATCTTGTTCTAGCAAGATATTGGGTATTTCTGTCT\"\n",
        "print(wheat[49]) # 先頭からの番号を指定\n",
        "print(wheat[-1]) # 最後尾からの番号を指定"
      ],
      "execution_count": null,
      "outputs": []
    },
    {
      "cell_type": "markdown",
      "metadata": {
        "id": "Q_HBcFM1WiqC"
      },
      "source": [
        "### 範囲指定で複数の値を切り出す"
      ]
    },
    {
      "cell_type": "markdown",
      "metadata": {
        "id": "Sg_eNdUkbq0V"
      },
      "source": [
        "　次に、範囲指定で複数塩基をまとめて切り出す方法を学びます。こちらも位置番号を指定することになりますが、位置番号の解釈が少し異なります。\n",
        "\n",
        "```python\n",
        "# 書き方: 範囲指定で複数文字を切り出す\n",
        "\"<文字列>\"[開始位置:終点位置]\n",
        "```\n",
        "\n",
        "　文字そのものの位置番号（インデックス）を指定するというよりも、文字と文字の間にある見えない\"壁\"に番号が振られていて、その番号を指定すると考えれば理解しやすいです。\n",
        "\n",
        "　この範囲指定で文字列を切り出すことを **スライス (slice)** と言います。\n",
        "\n",
        "<img src=\"https://lh3.googleusercontent.com/pw/ACtC-3feZBG8qm3g_bGLxk1TT9Hw77dmAgjp4A3_3ebN8v8KRUrpoO-5-ZE5d2l-GsBGn0L2gxobKoSwyNP84fExE0RLuZcI87T4RzSC7s-jBpbYqy5ZH9ABii5PMLkUO32YjXYM_jJkJGzd6G8S3HXkzQUW=w1738-h666-no?authuser=0\" alt=\"str_slice\" height=\"150px\">"
      ]
    },
    {
      "cell_type": "code",
      "metadata": {
        "id": "R9YY1-FldUTe"
      },
      "source": [
        "# 例\n",
        "rice = \"ATAGAATTCT\"\n",
        "print(rice[2:5])"
      ],
      "execution_count": null,
      "outputs": []
    },
    {
      "cell_type": "markdown",
      "metadata": {
        "id": "rfKYmBFvdgy_"
      },
      "source": [
        "### 実習5-2\n",
        "\n",
        "　変数wheatに入っているDNA配列の「3番目から9番目まで」の7塩基`GAAATAC`を切り出してください。なお、この\"3番目\"や\"9番目\"は、Pythonの「0番スタート」の数え方による番号です。\n"
      ]
    },
    {
      "cell_type": "code",
      "metadata": {
        "id": "jX1MYZKweGD-"
      },
      "source": [
        "wheat = \"ACAGAAATACCCAATATCTTGTTCTAGCAAGATATTGGGTATTTCTGTCT\"\n"
      ],
      "execution_count": null,
      "outputs": []
    },
    {
      "cell_type": "markdown",
      "metadata": {
        "id": "KC7kRYpFdj1L"
      },
      "source": [
        "#### 解答例"
      ]
    },
    {
      "cell_type": "code",
      "metadata": {
        "id": "uhMyRPoDfJN4"
      },
      "source": [
        "wheat = \"ACAGAAATACCCAATATCTTGTTCTAGCAAGATATTGGGTATTTCTGTCT\"\n",
        "print(wheat[3:10])"
      ],
      "execution_count": null,
      "outputs": []
    },
    {
      "cell_type": "markdown",
      "metadata": {
        "id": "XXrQf7T7-U0z"
      },
      "source": [
        "## 6. ベクトルの中身を１つずつ取り出す\n",
        "\n",
        "　DNA配列のすべての文字を精査したいとき、どのようにすれば良いでしょうか？　\"先頭から一文字ずつ取り出して調べる\"といったことができれば実現できそうです。\n",
        "\n",
        "　ここでは、DNA配列の先頭の塩基から一文字ずつ取り出して表示する方法を学びます。\n",
        "\n",
        "　一文字ずつ順番に取り出すには、**`for`構文（ループ構文、繰り返し構文）**というものを使います。\n",
        "\n",
        "```python\n",
        "# 書き方: 一文字ずつ取り出して表示する\n",
        "# - forの行末に「コロン(:)」を忘れないように注意してください。\n",
        "# - for構文のなかの処理を表すためには「字下げ」が必要です。\n",
        "for 変数 in \"<文字列>\":\n",
        "  print(変数)\n",
        "```\n",
        "\n",
        "<img src=\"https://lh3.googleusercontent.com/pw/ACtC-3fuCWvJRS4gYy0EGjCKtka1cjlRf2RtXMw7mv1f6DangBHD7uG_cEvzVwduJzFBfHFmSwg15tHRdYGveZ1aXuMslAx7D9m0X_fEQSXPPMAsuM6J4d5fItd6v1aLOTPne77V1r2yZQPwmv80jEuRahqC=w1979-h883-no?authuser=0\" alt=\"for_syntax\" height=\"250px\">\n"
      ]
    },
    {
      "cell_type": "code",
      "metadata": {
        "id": "ibSPoY1S-YIB"
      },
      "source": [
        "# 例1\n",
        "for i in \"ATAGAATTCT\":\n",
        "  print(i)"
      ],
      "execution_count": null,
      "outputs": []
    },
    {
      "cell_type": "code",
      "metadata": {
        "id": "sin5d9mEg93T"
      },
      "source": [
        "# 例2: 変数を使った場合\n",
        "rice = \"ATAGAATTCT\"\n",
        "for i in rice:\n",
        "  print(i)"
      ],
      "execution_count": null,
      "outputs": []
    },
    {
      "cell_type": "markdown",
      "metadata": {
        "id": "JOAVGWqSpndl"
      },
      "source": [
        "　`for`構文のなかの処理（上記の例の場合は`print(i)`）であることを示すために、`print(i)`のところは「半角スペース2個分」が字下げされています。この字下げは、半角スペース2個か4個分が一般的です。\n",
        " "
      ]
    },
    {
      "cell_type": "markdown",
      "metadata": {
        "id": "6Dshg5RMh0e5"
      },
      "source": [
        "### 実習6\n",
        "\n",
        "　変数wheatに入っているDNA配列の「3番目から9番目まで」の7塩基`GAAATAC`を切り出して、一文字ずつ順番に表示してください。なお、この\"3番目\"や\"9番目\"は、Pythonの「0番スタート」の数え方による番号です。"
      ]
    },
    {
      "cell_type": "code",
      "metadata": {
        "id": "UMYVWka1h0Ho"
      },
      "source": [
        "wheat = \"ACAGAAATACCCAATATCTTGTTCTAGCAAGATATTGGGTATTTCTGTCT\"\n"
      ],
      "execution_count": null,
      "outputs": []
    },
    {
      "cell_type": "markdown",
      "metadata": {
        "id": "y9OAuF6-kpT_"
      },
      "source": [
        "#### 解答例"
      ]
    },
    {
      "cell_type": "code",
      "metadata": {
        "id": "CgeFYR38krKD"
      },
      "source": [
        "wheat = \"ACAGAAATACCCAATATCTTGTTCTAGCAAGATATTGGGTATTTCTGTCT\"\n",
        "for i in wheat[3:10]:\n",
        "  print(i)"
      ],
      "execution_count": null,
      "outputs": []
    },
    {
      "cell_type": "markdown",
      "metadata": {
        "id": "E2D9A94DryFb"
      },
      "source": [
        "### 「タブ」キーを使って簡単に字下げができる"
      ]
    },
    {
      "cell_type": "markdown",
      "metadata": {
        "id": "7E34PchqrwT1"
      },
      "source": [
        "　Google Colabでは入力補完機能で勝手に字下げされる場合もありますが、その字下げを削除しまった場合、自分で入力する必要があります。そのようなときには、「スペース」キーを2回か4回叩いても良いですが、「tab」キーを使うと簡単に字下げできます。"
      ]
    },
    {
      "cell_type": "markdown",
      "metadata": {
        "id": "4PL_pKrWnbuS"
      },
      "source": [
        "### 同じ処理を任意の回数繰り返す"
      ]
    },
    {
      "cell_type": "markdown",
      "metadata": {
        "id": "92lwauXEnhl5"
      },
      "source": [
        "　さきほど文字列に対して`for`構文を使いました。`for`構文は、文字列を一文字ずつ取り出すためだけに使われるものではありません。同じ処理を何回か繰り返したいときにも使います。\n",
        "\n",
        "　字下げがなくなったところからは、`for`構文の外側（`for`構文が終わった後）の処理です。\n",
        "\n",
        "```python\n",
        "# 書き方: 同じ処理を任意の回数繰り返す\n",
        "for 変数 in range(繰り返し回数):\n",
        "  処理1\n",
        "  処理2\n",
        "  　:\n",
        "  処理N\n",
        "処理M # for構文が終わった後の処理\n",
        "```"
      ]
    },
    {
      "cell_type": "code",
      "metadata": {
        "id": "JWH6RdZEtPiy"
      },
      "source": [
        "# Helloを5回表示して、最後にGoodbyeを1回表示する\n",
        "for i in range(5):\n",
        "  print(\"Hello\", i)\n",
        "print(\"Goodbye\")"
      ],
      "execution_count": null,
      "outputs": []
    },
    {
      "cell_type": "markdown",
      "metadata": {
        "id": "Mc9_yXTh-cks"
      },
      "source": [
        "## 8. 特定の条件を満たす値があるとき、値を表示する\n",
        "\n",
        "　最後に、与えられた情報にしたがって、異なる処理をおこなう方法を勉強します。使用するのは、**`if`構文（条件分岐構文）**です。\n",
        "\n",
        "```python\n",
        "# 書き方: 条件分岐\n",
        "if 条件1:\n",
        "  処理1\n",
        "elif 条件2:\n",
        "  処理2\n",
        "else:\n",
        "  処理3\n",
        "```\n",
        "\n",
        "`if`構文の各節の設置ルール\n",
        "- `if`節は、`if`構文の最初の節として必須です。\n",
        "- `elif`節は、`if`節以外の条件を設定したいときに使用します。`if`節以降に、任意の回数（0回以上）を設定できます。\n",
        "- `else`節は、`if`節や`elif`節の条件に合わなかった場合の処理をおこないたいときに使用します。`if`構文の最後の節に設置できます。省略することも可能です。\n",
        "\n",
        "<img src=\"https://lh3.googleusercontent.com/pw/ACtC-3fLpwUsnktp9SnsalwyGuc6GwKzSPS2ONyde9VLqmBXaT7Y_7s1DGIPN2JxqIe5kBaK-lfQL2RR-rFyta3Z5iZC9kwgHhZCK8FnPTtuMo-75_Wv9qORcgwNW0USPRK8YcpApQBa1sGfGblT6vG7uOMn=w1270-h862-no?authuser=0\" alt=\"if_syntax\" height=\"250px\">\n"
      ]
    },
    {
      "cell_type": "code",
      "metadata": {
        "id": "ojUs6qaT-iVk"
      },
      "source": [
        "# 例\n",
        "rice = \"ATAGAATTCT\"\n",
        "\n",
        "if \"TTAA\" in rice:\n",
        "  print(\"TTAA is found in rice sequence.\")\n",
        "\n",
        "elif \"GAATTC\" in rice:\n",
        "  print(\"GAATTC is found in rice sequence.\")\n",
        "\n",
        "else:\n",
        "  print(\"Not found\")\n"
      ],
      "execution_count": null,
      "outputs": []
    },
    {
      "cell_type": "markdown",
      "metadata": {
        "id": "jyCwWxNvLbuo"
      },
      "source": [
        "### 実習8\n",
        "\n",
        "　変数wheatのDNA配列に`GAATTC`が含まれている場合には「Found」を出力し、含まれていない場合には「Not found」を出力するプログラムを作成してください。"
      ]
    },
    {
      "cell_type": "code",
      "metadata": {
        "id": "awPfVEMGLZJy"
      },
      "source": [
        "wheat = \"ACAGAAATACCCAATATCTTGTTCTAGCAAGATATTGGGTATTTCTGTCT\"\n"
      ],
      "execution_count": null,
      "outputs": []
    },
    {
      "cell_type": "markdown",
      "metadata": {
        "id": "Yczgrn42MZuk"
      },
      "source": [
        "#### 解答例"
      ]
    },
    {
      "cell_type": "code",
      "metadata": {
        "id": "pYoCdaziLRmG"
      },
      "source": [
        "wheat = \"ACAGAAATACCCAATATCTTGTTCTAGCAAGATATTGGGTATTTCTGTCT\"\n",
        "\n",
        "if \"GAATTC\" in wheat:\n",
        "  print(\"Found\")\n",
        "\n",
        "else:\n",
        "  print(\"Not found\")\n",
        "\n"
      ],
      "execution_count": null,
      "outputs": []
    },
    {
      "cell_type": "markdown",
      "metadata": {
        "id": "5sXPIWxtST4w"
      },
      "source": [
        "### 比較演算子"
      ]
    },
    {
      "cell_type": "markdown",
      "metadata": {
        "id": "zlLtBX6pTLJf"
      },
      "source": [
        "　ここで、**比較演算子**というものを少し勉強しましょう。\n",
        "\n",
        "　例えば、下記のような条件を設定したい場合に、比較演算子を使います。\n",
        "- AとBは同じDNA配列であるか\n",
        "- AとBのDNA配列の長さは同じか\n",
        "- AよりBのDNA配列の方が長いか\n",
        "\n",
        "おもな比較演算子:\n",
        "- AとBは等しい `A == B` （文字列の比較も可能）   \n",
        "<small>**イコール記号が2つであることに注意してください。**</small>\n",
        "- AとBは等しくない `A != B` （文字列の比較も可能）\n",
        "- AはBより大きい `A > B`\n",
        "- AはBより小さい `A < B`\n",
        "- AはB以上 `A >= B`\n",
        "- AはB以下 `A <= B`"
      ]
    },
    {
      "cell_type": "code",
      "metadata": {
        "id": "asKikkGpUoCZ"
      },
      "source": [
        "A = \"ATG\"\n",
        "B = \"ATG\"\n",
        "\n",
        "# AとBは等しいか？\n",
        "if A == B:\n",
        "  print(\"True\")\n",
        "else:\n",
        "  print(\"False\")"
      ],
      "execution_count": null,
      "outputs": []
    },
    {
      "cell_type": "code",
      "metadata": {
        "id": "fzgPT_BXU_FI"
      },
      "source": [
        "A = \"ATG\"\n",
        "B = \"ATG\"\n",
        "\n",
        "# AとBは等しくないか？\n",
        "if A != B:\n",
        "  print(\"True\")\n",
        "else:\n",
        "  print(\"False\")"
      ],
      "execution_count": null,
      "outputs": []
    },
    {
      "cell_type": "code",
      "metadata": {
        "id": "bEBiweCGVH95"
      },
      "source": [
        "A = len(\"ATGC\")\n",
        "B = len(\"ATG\")\n",
        "\n",
        "# AはBより小さいか？\n",
        "if A < B:\n",
        "  print(\"True\")\n",
        "else:\n",
        "  print(\"False\")"
      ],
      "execution_count": null,
      "outputs": []
    },
    {
      "cell_type": "markdown",
      "metadata": {
        "id": "WFxyx7o8VwOM"
      },
      "source": [
        "### for構文とif構文を組み合わせる"
      ]
    },
    {
      "cell_type": "markdown",
      "metadata": {
        "id": "MxcILH_qV1YR"
      },
      "source": [
        "　for構文中でif構文を使うと、より複雑な自動化処理をおこなえます。\n",
        "\n",
        "以下の例では、与えられた文字列に対して、次の処理をおこなっています。\n",
        "- 例1: 相補鎖上の塩基を順番に表示する\n",
        "- 例2: 例1で読み上げている塩基を繋いだ文字列を作る\n",
        "- 例3: 例2で作った文字列を逆さにして、相補鎖配列（reverse complementary sequence）にする"
      ]
    },
    {
      "cell_type": "code",
      "metadata": {
        "id": "ncZa49GiWLLR"
      },
      "source": [
        "# 例1: 相補鎖上の塩基を順番に表示する\n",
        "rice = \"ATAGAATTCT\"\n",
        "for i in rice:\n",
        "  if i == \"A\":\n",
        "    print(\"T\")\n",
        "  elif i == \"T\":\n",
        "    print(\"A\")\n",
        "  elif i == \"G\":\n",
        "    print(\"C\")\n",
        "  elif i == \"C\":\n",
        "    print(\"G\")\n",
        "  else:\n",
        "    print(\"N\")"
      ],
      "execution_count": null,
      "outputs": []
    },
    {
      "cell_type": "code",
      "metadata": {
        "id": "OuB6oWOLW3B2"
      },
      "source": [
        "# 例2: 例1で読み上げている塩基を繋いだ文字列を作る\n",
        "rice = \"ATAGAATTCT\"\n",
        "\n",
        "rice_comp = \"\" # 空の文字列を用意する\n",
        "\n",
        "for i in rice:\n",
        "  if i == \"A\":\n",
        "    rice_comp = rice_comp + \"T\"\n",
        "  elif i == \"T\":\n",
        "    rice_comp = rice_comp + \"A\"\n",
        "  elif i == \"G\":\n",
        "    rice_comp = rice_comp + \"C\"\n",
        "  elif i == \"C\":\n",
        "    rice_comp = rice_comp + \"G\"\n",
        "  else:\n",
        "    rice_comp = rice_comp + \"N\"\n",
        "\n",
        "# 出来上がった文字列を表示\n",
        "print(rice_comp)"
      ],
      "execution_count": null,
      "outputs": []
    },
    {
      "cell_type": "code",
      "metadata": {
        "id": "5P3yYIOaYFnf"
      },
      "source": [
        "# 例3: 相補鎖配列（reverse complementary sequence）を表示する\n",
        "rice = \"ATAGAATTCT\"\n",
        "\n",
        "rice_comp = \"\" # 空の文字列を用意する\n",
        "\n",
        "for i in rice:\n",
        "  if i == \"A\":\n",
        "    rice_comp = rice_comp + \"T\"\n",
        "  elif i == \"T\":\n",
        "    rice_comp = rice_comp + \"A\"\n",
        "  elif i == \"G\":\n",
        "    rice_comp = rice_comp + \"C\"\n",
        "  elif i == \"C\":\n",
        "    rice_comp = rice_comp + \"G\"\n",
        "  else:\n",
        "    rice_comp = rice_comp + \"N\"\n",
        "    \n",
        "# 出来上がった文字列を表示\n",
        "print(rice_comp)\n",
        "\n",
        "# 文字列を逆さにし、相補鎖配列（reverse complementary sequence）をにする\n",
        "rice_revcomp = rice_comp[::-1]\n",
        "print(rice_revcomp)"
      ],
      "execution_count": null,
      "outputs": []
    },
    {
      "cell_type": "markdown",
      "metadata": {
        "id": "NzTGZhVzZDDF"
      },
      "source": [
        "　例3の22行目のコードで使われている`[::-1]`は、「5. DNA配列を切り出す」で勉強したスライス機能です。\n",
        "\n",
        "　詳しい説明は省きますが、最初から最後までの文字列を切り出し、それを後ろから1文字ずつ並べ直しています。\n",
        "```python\n",
        "[(最初から):(最後まで):-1(後ろから1文字ずつ)]\n",
        "```\n",
        "\n"
      ]
    },
    {
      "cell_type": "markdown",
      "metadata": {
        "id": "0x7enzMdMk80"
      },
      "source": [
        "---\n",
        "## まとめ\n",
        "\n",
        "　今回の実習では、短いDNA配列を使って、Pythonの基礎を勉強しました。\n",
        "- `print`関数（文字列の出力）や`len`関数（文字列の長さの取得）\n",
        "- 変数の設定\n",
        "- 文字列の結合、切り出し\n",
        "- `for`構文（繰り返し処理）、`if`構文（条件分岐処理）\n",
        "\n",
        "　今回学んだことだけでも、下記のようなゲノム解析をおこなえます。\n",
        "- ゲノム配列の塩基数を調べる\n",
        "- 一部の塩基配列を取り出す\n",
        "- 各塩基を精査する\n",
        "- 任意の塩基配列が含まれているかどうかを調べる\n",
        "\n",
        "　しかし、数千万塩基〜数十億塩基のゲノム配列をプログラム上にコピー＆ペーストするというのは現実的な方法ではありません。通常のゲノム解析では、ゲノム情報が書きこまれたファイルを読み込んで、なんらかの解析をおこないます。\n",
        "\n",
        "　次回は、Biopythonライブラリを使って、次世代シーケンサーから出力されるファイル（FASTQ形式ファイル）を読み込み、多量の塩基配列データの処理を自動化する方法を勉強します。\n",
        "\n",
        "<div align=\"right\"><a href=\"https://github.com/CropEvol/lecture#section2\">実習表ページに戻る</a></div>"
      ]
    }
  ]
}