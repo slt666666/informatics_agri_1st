{
  "nbformat": 4,
  "nbformat_minor": 0,
  "metadata": {
    "colab": {
      "name": "RL02.ipynb",
      "provenance": [],
      "collapsed_sections": [
        "GCvov-22cbuZ",
        "F1LT-36VzmfL",
        "LZedukk8kiUd",
        "7iISjW5SFMiM",
        "9POOz23j-uVC",
        "CHTj7WeRiQ8M",
        "svIe4WIG0Mtx",
        "f8aQtx7pG4YI",
        "DUJPIMkMFnGt",
        "WtLcB07NaLLi",
        "H4i4EtK_e3W-",
        "WAnAGWbyHXBr",
        "Z_575L3ju8zN"
      ],
      "toc_visible": true
    },
    "kernelspec": {
      "name": "ir",
      "display_name": "R"
    }
  },
  "cells": [
    {
      "cell_type": "markdown",
      "metadata": {
        "id": "31NfnQcvPDoY"
      },
      "source": [
        "# Rの基礎\n"
      ]
    },
    {
      "cell_type": "markdown",
      "metadata": {
        "id": "PT4HhDaqnLEl"
      },
      "source": [
        "## はじめに\n",
        "\n",
        "　**R** には、数値計算（ベクトルや行列の計算）や、統計解析、機械学習（Machine Learning）、深層学習（Deep Learning）、グラフ描画など、データ解析用の追加パッケージ（ライブラリ）が豊富に揃っています。そのため、データ解析の分野で最も使われているプログラミング言語の１つです。\n",
        "\n",
        "この実習テキストでは、Rの基礎を学んでいきます。\n"
      ]
    },
    {
      "cell_type": "markdown",
      "metadata": {
        "id": "rwbSm1T7f7sG"
      },
      "source": [
        "## 今回の実習内容\n",
        "1. 文字列や数値を表示する\n",
        "1. 文字列や数値に呼び出し名を付ける\n",
        "1. 簡単な計算、関数\n",
        "1. ベクトルの作成\n",
        "1. ベクトルの要素へアクセス\n",
        "1. ベクトルの計算\n",
        "1. ベクトルの置換・結合・挿入\n",
        "1. 文字列の操作\n",
        "1. 行列の作成\n",
        "1. 行列の操作\n",
        "1. 行列の計算\n",
        "1. 繰り返し処理(ベクトルから値を１つずつ取り出す)\n",
        "1. 条件分岐(ベクトルの要素に特定の配列があるか調べる)\n",
        "---"
      ]
    },
    {
      "cell_type": "markdown",
      "metadata": {
        "id": "Hs9azyTbghPg"
      },
      "source": [
        "## 1. 文字や数値を表示する\n",
        "　プログラムを使って、文字列や数値を表示してみましょう。`print`関数というものを使用すると、文字列や数値を表示（出力）できます。\n",
        "\n",
        "```R\n",
        "# print関数の書き方\n",
        "print(\"文字列\")\n",
        "print(数値)\n",
        "```\n",
        "\n"
      ]
    },
    {
      "cell_type": "code",
      "metadata": {
        "id": "vTuh7WAjmB6r",
        "outputId": "2bed988d-3fde-45a7-9db7-5204e7e0ef21",
        "colab": {
          "base_uri": "https://localhost:8080/"
        }
      },
      "source": [
        "# 例1\n",
        "print(\"agriculture\")"
      ],
      "execution_count": 1,
      "outputs": [
        {
          "output_type": "stream",
          "name": "stdout",
          "text": [
            "[1] \"agriculture\"\n"
          ]
        }
      ]
    },
    {
      "cell_type": "code",
      "source": [
        "# 例2\n",
        "print(234)"
      ],
      "metadata": {
        "id": "pCi95X1wUhry",
        "colab": {
          "base_uri": "https://localhost:8080/"
        },
        "outputId": "21c335b3-9b75-49ac-e757-3298017f779b"
      },
      "execution_count": 2,
      "outputs": [
        {
          "output_type": "stream",
          "name": "stdout",
          "text": [
            "[1] 234\n"
          ]
        }
      ]
    },
    {
      "cell_type": "markdown",
      "metadata": {
        "id": "G-6RkDybls_v"
      },
      "source": [
        "### 実習1\n",
        "\n",
        "　print関数を使って、次の文字列を画面に表示させてください。\n",
        " \n",
        "```\n",
        "情報基礎演習\n",
        "```"
      ]
    },
    {
      "cell_type": "code",
      "metadata": {
        "id": "byriPTWCU3vl"
      },
      "source": [
        ""
      ],
      "execution_count": null,
      "outputs": []
    },
    {
      "cell_type": "markdown",
      "metadata": {
        "id": "dQCq3qdRHlCp"
      },
      "source": [
        "#### 解答例"
      ]
    },
    {
      "cell_type": "code",
      "metadata": {
        "id": "SrSswowaHoN1",
        "outputId": "7b9e3f7c-14a0-4213-c0e2-1a6b228b104e",
        "colab": {
          "base_uri": "https://localhost:8080/"
        }
      },
      "source": [
        "print(\"情報基礎演習\")"
      ],
      "execution_count": null,
      "outputs": [
        {
          "output_type": "stream",
          "name": "stdout",
          "text": [
            "[1] \"情報基礎演習\"\n"
          ]
        }
      ]
    },
    {
      "cell_type": "markdown",
      "metadata": {
        "id": "dyNplNaCksNi"
      },
      "source": [
        "### 「関数」とは  "
      ]
    },
    {
      "cell_type": "markdown",
      "metadata": {
        "id": "ILnrpTt66-aq"
      },
      "source": [
        "　特定の機能を持ったコードのことを **関数 (Function)** と言います。 `print`関数は、「文字列や数値などの値（プログラミング用語で**引数**）が渡されると、それを画面に表示する」機能を持ったものです。Rには、`print`関数以外にも多くの関数があります。また、独自の関数を作成することも可能です。\n",
        " \n",
        "<img src=\"https://lh3.googleusercontent.com/pw/ACtC-3d1dYl5Bv3sNkYyXOUJ6r5rH8BNbKylMXBO3eDldtuDAo2Enaip_fJYat293BpjZdOXSjHxh1Xt6KTqH2K_q6Bev04LqjyxmMLd025hqqwe7UcBEPsC4lKrVj59nxSGgJj8pwmVftzHTde-mz4uLA7v=w1487-h725-no?authuser=0\" alt=\"function\" height=\"200px\">"
      ]
    },
    {
      "cell_type": "markdown",
      "metadata": {
        "id": "kjtKKHHT7QL1"
      },
      "source": [
        "### クオテーション"
      ]
    },
    {
      "cell_type": "markdown",
      "metadata": {
        "id": "3nnaj9R_7XhB"
      },
      "source": [
        "　Rでは、文字列を必ずクオテーションで挟む必要があります。\n",
        "\n",
        "　クオテーションは、**シングルクオテーション**（`'`） と **ダブルクオテーション**（`\"`）のどちらも使用可能です。ただし、ひとつの文字列に使うクオテーションは同じものでなければなりません。\n",
        "\n",
        "　なお、クオテーションで挟まない場合、後ほど学ぶ「変数」として認識されてしまいます。\n"
      ]
    },
    {
      "cell_type": "code",
      "metadata": {
        "id": "YZZmbSOtBt0-",
        "outputId": "bc873903-572d-4345-8767-1c9f5ea22379",
        "colab": {
          "base_uri": "https://localhost:8080/"
        }
      },
      "source": [
        "print('Kyoto')  # シングルクオテーション\n",
        "print(\"University\") # ダブルクオテーション"
      ],
      "execution_count": null,
      "outputs": [
        {
          "output_type": "stream",
          "name": "stdout",
          "text": [
            "[1] \"Kyoto\"\n",
            "[1] \"University\"\n"
          ]
        }
      ]
    },
    {
      "cell_type": "code",
      "metadata": {
        "id": "6JGmbtxAt_tz",
        "outputId": "00bf466a-036a-4ada-bcad-fa1500761001",
        "colab": {
          "base_uri": "https://localhost:8080/",
          "height": 135
        }
      },
      "source": [
        "print('Agriculture\") # シングルとダブルの併用はNG"
      ],
      "execution_count": null,
      "outputs": [
        {
          "output_type": "error",
          "ename": "ERROR",
          "evalue": "ignored",
          "traceback": [
            "Error in parse(text = x, srcfile = src): <text>:1:7: unexpected INCOMPLETE_STRING\n1: print('Agriculture\") # シングルとダブルの併用はNG\n          ^\nTraceback:\n"
          ]
        }
      ]
    },
    {
      "cell_type": "markdown",
      "metadata": {
        "id": "fGVebsoILAZO"
      },
      "source": [
        "### プログラム中のコメント"
      ]
    },
    {
      "cell_type": "markdown",
      "metadata": {
        "id": "ncfvy6iYLHeI"
      },
      "source": [
        "　ここまでのプログラムの例でも使用してきましたが、プログラムの中にコメント（説明文やメモ）などを差し込むことが可能です。ハッシュ記号（`#`）を使うと、ハッシュ記号からその行末までは、プログラムとして認識されず、スキップされます。"
      ]
    },
    {
      "cell_type": "code",
      "metadata": {
        "id": "GDuNFbd4Mw19",
        "outputId": "927160a9-41d1-4060-9595-f2c2c7263599",
        "colab": {
          "base_uri": "https://localhost:8080/"
        }
      },
      "source": [
        "# print(\"Hello\")  # 次の一行はプログラムとして実行されません。\n",
        "print(\"R\")  # これはプログラムとして実行されます"
      ],
      "execution_count": 3,
      "outputs": [
        {
          "output_type": "stream",
          "name": "stdout",
          "text": [
            "[1] \"R\"\n"
          ]
        }
      ]
    },
    {
      "cell_type": "markdown",
      "metadata": {
        "id": "vl0VFi_gpO8f"
      },
      "source": [
        "## 2. 文字列や数値に呼び出し名を付ける\n",
        "\n",
        "　文字列 `Friday` に `informatics` という呼び出し名を付けてみましょう。\n",
        "\n",
        "　下記のコードセルには、(1) 1行目で文字列に`informatics`という呼び出し名を付けて、(2) 2行目で呼び出し名に設定された文字列を表示させる、といったプログラムが書かれています。"
      ]
    },
    {
      "cell_type": "code",
      "metadata": {
        "id": "E1RE9ZSgzYcR",
        "outputId": "710942cc-4757-4708-b865-02dbeded171a",
        "colab": {
          "base_uri": "https://localhost:8080/"
        }
      },
      "source": [
        "informatics <- \"Friday\"\n",
        "print(informatics)"
      ],
      "execution_count": null,
      "outputs": [
        {
          "output_type": "stream",
          "name": "stdout",
          "text": [
            "[1] \"Friday\"\n"
          ]
        }
      ]
    },
    {
      "cell_type": "markdown",
      "metadata": {
        "id": "PBFW6APzzdsw"
      },
      "source": [
        "　呼び出し名を付けることをプログラミング用語で **変数を設定する（宣言する、定義する）** と言います。また、呼び出し名のことを **変数名** と言い、変数名に対応する文字列などのことを **値** と言います。上述の例では、`informatics`が変数名で、`\"Friday\"`が値です。\n",
        "\n",
        "```python\n",
        "# 変数を設定する\n",
        "変数名 <- 値（文字列など）\n",
        "変数名 = 値（文字列など）\n",
        "```\n",
        "\n",
        "　変数に設定した値は変数名を使って何度でも取り出せます。また、同じ名前の変数を再設定することで、対応する値を何度でも入れ替えられます。"
      ]
    },
    {
      "cell_type": "code",
      "metadata": {
        "id": "nIkbLrwW4hBV",
        "outputId": "7eeaf9e2-a92b-4106-8bda-b1842723ed61",
        "colab": {
          "base_uri": "https://localhost:8080/"
        }
      },
      "source": [
        "# 値は何度でも取り出し可能\n",
        "informatics <- \"Friday\"  # 変数を設定\n",
        "print(informatics)\n",
        "print(informatics)\n",
        "print(informatics)"
      ],
      "execution_count": null,
      "outputs": [
        {
          "output_type": "stream",
          "name": "stdout",
          "text": [
            "[1] \"Friday\"\n",
            "[1] \"Friday\"\n",
            "[1] \"Friday\"\n"
          ]
        }
      ]
    },
    {
      "cell_type": "code",
      "metadata": {
        "id": "3Wbzv-6QoTs1",
        "outputId": "49af07f9-3f5b-470a-a0ab-b62b3e6366cc",
        "colab": {
          "base_uri": "https://localhost:8080/"
        }
      },
      "source": [
        "# 値は何度でも入れ替え可能\n",
        "informatics <- \"Friday\"      # 変数を設定\n",
        "print(informatics)\n",
        "\n",
        "informatics <- \"Monday\"  # 変数を再設定（上書き）\n",
        "print(informatics)\n",
        "\n",
        "informatics <- \"Sunday\"  # 変数を再設定（上書き）\n",
        "print(informatics)"
      ],
      "execution_count": null,
      "outputs": [
        {
          "output_type": "stream",
          "name": "stdout",
          "text": [
            "[1] \"Friday\"\n",
            "[1] \"Monday\"\n",
            "[1] \"Sunday\"\n"
          ]
        }
      ]
    },
    {
      "cell_type": "markdown",
      "metadata": {
        "id": "DUJmDpzco5eO"
      },
      "source": [
        "### 実習2\n",
        "\n",
        "　xという変数に`start`という文字列を値にした変数を設定してあります。\n",
        "\n",
        "まずxの変数の中身を出力し、その後xの変数に`next`という文字列を設定して、再び出力してください。"
      ]
    },
    {
      "cell_type": "code",
      "metadata": {
        "id": "d1xuP59bo4--"
      },
      "source": [
        "x <- \"start\"\n",
        "\n",
        "print()\n",
        "x <- "
      ],
      "execution_count": null,
      "outputs": []
    },
    {
      "cell_type": "markdown",
      "metadata": {
        "id": "L9kpSlDHowPq"
      },
      "source": [
        "#### 解答例"
      ]
    },
    {
      "cell_type": "code",
      "metadata": {
        "id": "IZaJG1M_ovMs",
        "outputId": "64b8c5ba-c9ec-4206-955b-3b2e11a73996",
        "colab": {
          "base_uri": "https://localhost:8080/"
        }
      },
      "source": [
        "x <- \"start\"\n",
        "\n",
        "print(x)\n",
        "x <- \"next\"\n",
        "print(x)"
      ],
      "execution_count": null,
      "outputs": [
        {
          "output_type": "stream",
          "name": "stdout",
          "text": [
            "[1] \"start\"\n",
            "[1] \"next\"\n"
          ]
        }
      ]
    },
    {
      "cell_type": "markdown",
      "metadata": {
        "id": "Ja1t6Z547i2D"
      },
      "source": [
        "### 変数設定のイコール記号`=`について"
      ]
    },
    {
      "cell_type": "markdown",
      "metadata": {
        "id": "BPraGeyZ7pPq"
      },
      "source": [
        "　変数の設定では`<-`という記号と、イコール記号 `=`が使われています。通常`<-`を使用することが多いですが、イコール記号 `=`でも設定可能です。\n",
        "\n",
        "このイコール記号は\"等しい\"という意味で使われていません。右辺の値を左辺の変数名に **代入**（登録）する、といった意味合いで使われています。今のところあまり意識する必要はありませんが、変数設定のイコール記号は「イコール（等しい）の意味ではない」と覚えておいてください。\n",
        "\n",
        "<img src=\"https://lh3.googleusercontent.com/pw/ACtC-3dXnLTVmks3JyRY6n-uMz9kkfdqIx2mlKDkqtbQFob7EURWPVJPp5q91463mPlpvNO4OYHBbaHaAuookELsZqVCjV_kMh_An50sxuFr0QpmAmycrJV6zuN3I7sRVip4mPDo85QOiTrPP2h9bieYMcRL=w1493-h737-no?authuser=0\" alt=\"set_variable\" height=\"200px\">"
      ]
    },
    {
      "cell_type": "markdown",
      "metadata": {
        "id": "ceszKAvVUpCQ"
      },
      "source": [
        "### 変数名のルール"
      ]
    },
    {
      "cell_type": "markdown",
      "metadata": {
        "id": "1GD4ZXlEUrqy"
      },
      "source": [
        "　変数は、以下のルールに従って、任意の名前を付けることが可能です。\n",
        "- 使える文字は、半角英数のアルファベットと数字、アンダースコア\n",
        "  - 例) `ABC_abc_123`は可\n",
        "  - 例) `ABC-abc-123`は不可\n",
        "- 数字から始まる変数名は不可  \n",
        "  - 例) `123_ABC_abc`は不可\n",
        "  - 例) アンダーバーから始まる変数`_123_ABC_abc`は可\n",
        "- Rが定義している [予約語](https://so-zou.jp/robot/tech/numerical-analysis/r/grammar/reserved-words.htm) は使用不可\n",
        "  - 例） `for`、`if`、`class`などは不可\n",
        "  - 例） `forA`、`ifB`、`classC`などは可"
      ]
    },
    {
      "cell_type": "markdown",
      "metadata": {
        "id": "8LLhR8jBrInQ"
      },
      "source": [
        "### 変数名を`print`関数で表示する"
      ]
    },
    {
      "cell_type": "markdown",
      "metadata": {
        "id": "nAldlI55rNb_"
      },
      "source": [
        "　変数名を`print`関数の引数にすると、変数の中身が出力されます。変数名自体を出力したい場合にはどのようにすれば良いでしょうか？　答えは、変数名自体を「文字列」として`print`関数に認識させればOKです。変数名をクオテーションで挟んだものを`print`関数に渡します。"
      ]
    },
    {
      "cell_type": "code",
      "metadata": {
        "id": "MNYnp1I1tCt-",
        "outputId": "5757635e-a62b-46af-8e9f-811868712453",
        "colab": {
          "base_uri": "https://localhost:8080/"
        }
      },
      "source": [
        "informatics = \"Friday\"\n",
        "print(informatics)\n",
        "print(\"informatics\")"
      ],
      "execution_count": null,
      "outputs": [
        {
          "output_type": "stream",
          "name": "stdout",
          "text": [
            "[1] \"Friday\"\n",
            "[1] \"informatics\"\n"
          ]
        }
      ]
    },
    {
      "cell_type": "markdown",
      "source": [
        "## 3. 簡単な計算、関数\n",
        "\n",
        "Rでは数値計算を行うことが出来ます。\n",
        "\n",
        "```R\n",
        "15 + 5 #足し算\n",
        "15 - 5 # 引き算\n",
        "15 * 5 # かけ算\n",
        "15 / 5 # 割り算\n",
        "15 ^ 5 # 累乗\n",
        "15 %/% 5 # 整数商\n",
        "15 %% 5 # 余り\n",
        "```"
      ],
      "metadata": {
        "id": "opVv_8NguyGt"
      }
    },
    {
      "cell_type": "markdown",
      "source": [
        "簡単な計算を動かしてみましょう"
      ],
      "metadata": {
        "id": "8rUs81h37-7B"
      }
    },
    {
      "cell_type": "code",
      "source": [
        "# 簡単な例\n",
        "(100 + 200 - 30 * 4) / 100 %/% 5"
      ],
      "metadata": {
        "colab": {
          "base_uri": "https://localhost:8080/",
          "height": 34
        },
        "id": "i7hkHU5vv2mM",
        "outputId": "506e0dc3-1422-451f-8e51-61297510be29"
      },
      "execution_count": 6,
      "outputs": [
        {
          "output_type": "display_data",
          "data": {
            "text/plain": [
              "[1] 9"
            ],
            "text/latex": "9",
            "text/markdown": "9",
            "text/html": [
              "9"
            ]
          },
          "metadata": {}
        }
      ]
    },
    {
      "cell_type": "markdown",
      "source": [
        "### 数学関数の利用\n",
        "また、Rには基本的な四則演算だけでなく、ルートや三角関数の計算が出来る関数も用意されています。\n",
        "\n",
        "以下に一部の例を載せています。\n",
        "\n",
        "```R\n",
        "sqrt() # ルート\n",
        "abs() # 絶対値\n",
        "exp() # 指数関数\n",
        "log() # 自然対数\n",
        "log10() # 常用対数 （底が10の対数）\n",
        "sin() # 正弦関数(サイン) 引数は弧度法の値\n",
        "cos() # 余弦関数(コサイン)\n",
        "tan() # 正接関数(タンジェント)\n",
        "round() # 四捨五入\n",
        "```\n"
      ],
      "metadata": {
        "id": "54Lep-8KwMoT"
      }
    },
    {
      "cell_type": "code",
      "source": [
        "# 例\n",
        "round(23.6)"
      ],
      "metadata": {
        "colab": {
          "base_uri": "https://localhost:8080/",
          "height": 34
        },
        "id": "wli_hWw-xWX3",
        "outputId": "1b56a3a9-f076-4f4e-a3cc-24bd3621aa50"
      },
      "execution_count": 20,
      "outputs": [
        {
          "output_type": "display_data",
          "data": {
            "text/plain": [
              "[1] 24"
            ],
            "text/latex": "24",
            "text/markdown": "24",
            "text/html": [
              "24"
            ]
          },
          "metadata": {}
        }
      ]
    },
    {
      "cell_type": "markdown",
      "source": [
        "### 実習3\n",
        "xという変数に数字が設定されている。\n",
        "\n",
        "xに500をかけた値の自然対数を計算して、xを上書きしてください。\n"
      ],
      "metadata": {
        "id": "jANQgg9LyTKW"
      }
    },
    {
      "cell_type": "code",
      "source": [
        "x <- 1234567893141592"
      ],
      "metadata": {
        "id": "k9uHTadry4EQ"
      },
      "execution_count": null,
      "outputs": []
    },
    {
      "cell_type": "markdown",
      "source": [
        "## 4. ベクトルの作成\n",
        "Rでは、データを一つずつ単独で扱う代わりに，複数のデータをまとめたベクトルと呼ばれる形で取り扱うことが出来ます。\n",
        "\n",
        "ベクトルを作成する基本的な関数は`c()`になります。\n",
        "\n",
        "```R\n",
        "vector <- c(12, 24, 36, 5, 10, 15)\n",
        "```\n",
        "\n",
        "```R\n",
        "vector_moji <- c(\"a\", \"b\", \"c\")\n",
        "```"
      ],
      "metadata": {
        "id": "O_CI0NDdyFF6"
      }
    },
    {
      "cell_type": "code",
      "source": [
        "# ベクトルの作成例\n",
        "vector <- c(12, 24, 36, 5, 10, 15)\n",
        "vector"
      ],
      "metadata": {
        "colab": {
          "base_uri": "https://localhost:8080/",
          "height": 34
        },
        "id": "ytkMYhEN7Dd4",
        "outputId": "be741a6e-dbfc-4b38-ce5d-d2c27fe8e5e9"
      },
      "execution_count": 32,
      "outputs": [
        {
          "output_type": "display_data",
          "data": {
            "text/plain": [
              "[1] 12 24 36  5 10 15"
            ],
            "text/latex": "\\begin{enumerate*}\n\\item 12\n\\item 24\n\\item 36\n\\item 5\n\\item 10\n\\item 15\n\\end{enumerate*}\n",
            "text/markdown": "1. 12\n2. 24\n3. 36\n4. 5\n5. 10\n6. 15\n\n\n",
            "text/html": [
              "<style>\n",
              ".list-inline {list-style: none; margin:0; padding: 0}\n",
              ".list-inline>li {display: inline-block}\n",
              ".list-inline>li:not(:last-child)::after {content: \"\\00b7\"; padding: 0 .5ex}\n",
              "</style>\n",
              "<ol class=list-inline><li>12</li><li>24</li><li>36</li><li>5</li><li>10</li><li>15</li></ol>\n"
            ]
          },
          "metadata": {}
        }
      ]
    },
    {
      "cell_type": "markdown",
      "source": [
        "ベクトルに含まれる要素の数は`length()`関数で調べることが出来ます。"
      ],
      "metadata": {
        "id": "rkw4uAqZ7Lv8"
      }
    },
    {
      "cell_type": "code",
      "source": [
        "# nagasaという変数にvectorの要素数を入れる\n",
        "vector <- c(12, 24, 36, 5, 10, 15)\n",
        "nagasa <- length(vector)\n",
        "print(nagasa)\n",
        "\n",
        "# print関数内にまとめてしまう事も出来る。\n",
        "length(vector)"
      ],
      "metadata": {
        "colab": {
          "base_uri": "https://localhost:8080/",
          "height": 52
        },
        "id": "Hn5R1ZGA7RCL",
        "outputId": "ad0e39a3-c035-4f92-fee2-ee9e4a2aeb61"
      },
      "execution_count": 52,
      "outputs": [
        {
          "output_type": "display_data",
          "data": {
            "text/plain": [
              "[1] 6"
            ],
            "text/latex": "6",
            "text/markdown": "6",
            "text/html": [
              "6"
            ]
          },
          "metadata": {}
        },
        {
          "output_type": "display_data",
          "data": {
            "text/plain": [
              "[1] 6"
            ],
            "text/latex": "6",
            "text/markdown": "6",
            "text/html": [
              "6"
            ]
          },
          "metadata": {}
        }
      ]
    },
    {
      "cell_type": "markdown",
      "source": [
        "また、Rでは、関数`c()`以外に、規則的なベクトルを生成する関数が多数用意されています。\n",
        "例を以下に示します。\n",
        "\n",
        "```R\n",
        "1:5 # 1から5までの数値ベクトル\n",
        "5:-3 # 5から-3までの数値ベクトル\n",
        "rep(1:3, length=8) # 長さが8になるまで1:3を繰り返す\n",
        "seq(1, 10, length=5) # 1から10までを5分割した数値ベクトル\n",
        "seq(1, 10, by=2) # 1から10まで2ずつ増えていく数値ベクトル\n",
        "```"
      ],
      "metadata": {
        "id": "Dva_jgmW8u2d"
      }
    },
    {
      "cell_type": "code",
      "source": [
        "print(5:-3)\n",
        "print(seq(1, 10, length=5))"
      ],
      "metadata": {
        "colab": {
          "base_uri": "https://localhost:8080/"
        },
        "id": "fgfcm6hn8uJk",
        "outputId": "79dbe3e0-13be-4cc0-ae85-37d09b832ec9"
      },
      "execution_count": 41,
      "outputs": [
        {
          "output_type": "stream",
          "name": "stdout",
          "text": [
            "[1]  5  4  3  2  1  0 -1 -2 -3\n",
            "[1]  1.00  3.25  5.50  7.75 10.00\n"
          ]
        }
      ]
    },
    {
      "cell_type": "markdown",
      "source": [
        "ベクトルとベクトルを結合することも出来ます。\n",
        "\n",
        "`c()`で2つ以上のベクトルを繋げることが出来ます。"
      ],
      "metadata": {
        "id": "1YnEFw7ILQZm"
      }
    },
    {
      "cell_type": "code",
      "source": [
        "vector1 <- c(1,2,3)\n",
        "vector2 <- c(4,5,6)\n",
        "vector3 <- c(7,8,9)\n",
        "c(vector1, vector2, vector3)"
      ],
      "metadata": {
        "colab": {
          "base_uri": "https://localhost:8080/",
          "height": 34
        },
        "id": "NnkThNhBLPji",
        "outputId": "196e647a-5a8f-4796-a77d-42d497dd7c49"
      },
      "execution_count": 51,
      "outputs": [
        {
          "output_type": "display_data",
          "data": {
            "text/plain": [
              "[1] 1 2 3 4 5 6 7 8 9"
            ],
            "text/latex": "\\begin{enumerate*}\n\\item 1\n\\item 2\n\\item 3\n\\item 4\n\\item 5\n\\item 6\n\\item 7\n\\item 8\n\\item 9\n\\end{enumerate*}\n",
            "text/markdown": "1. 1\n2. 2\n3. 3\n4. 4\n5. 5\n6. 6\n7. 7\n8. 8\n9. 9\n\n\n",
            "text/html": [
              "<style>\n",
              ".list-inline {list-style: none; margin:0; padding: 0}\n",
              ".list-inline>li {display: inline-block}\n",
              ".list-inline>li:not(:last-child)::after {content: \"\\00b7\"; padding: 0 .5ex}\n",
              "</style>\n",
              "<ol class=list-inline><li>1</li><li>2</li><li>3</li><li>4</li><li>5</li><li>6</li><li>7</li><li>8</li><li>9</li></ol>\n"
            ]
          },
          "metadata": {}
        }
      ]
    },
    {
      "cell_type": "markdown",
      "metadata": {
        "id": "UTvWpnIwrbCy"
      },
      "source": [
        "## 5. ベクトルの要素にアクセスする\n",
        "ベクトルに含まれている各要素にアクセスするには`vector[x]`のようにします。\n",
        "以下の例では3番目の要素を取り出しています。\n",
        "```R\n",
        "vector <- c(100,200,300,400,500)\n",
        "# 3番目の要素を取り出す\n",
        "vector[3]\n",
        "```\n",
        "この[ ]内の位置番号のことを インデックス（添字; Index） と言います。\n",
        "任意の要素を取り出すには、インデックスを指定します。\n",
        "\n",
        "また、複数の要素を取り出したいときは、取り出したい要素のインデックスをベクトルとして指定します。\n",
        "\n",
        "例えば1,3,5番目の要素を取り出したければ、以下の様になります。\n",
        "```R\n",
        "vector <- c(100,200,300,400,500)\n",
        "# 1,3,5番目の要素を取り出す\n",
        "vector[1,3,5]\n",
        "```"
      ]
    },
    {
      "cell_type": "code",
      "source": [
        "vector <- c(100, 200, 300, 400, 500)\n",
        "vector[3]"
      ],
      "metadata": {
        "colab": {
          "base_uri": "https://localhost:8080/",
          "height": 34
        },
        "id": "35bxtblLAqO5",
        "outputId": "a66e894b-5350-4f0b-e56b-655c2ee02cc3"
      },
      "execution_count": 30,
      "outputs": [
        {
          "output_type": "display_data",
          "data": {
            "text/plain": [
              "[1] 300"
            ],
            "text/latex": "300",
            "text/markdown": "300",
            "text/html": [
              "300"
            ]
          },
          "metadata": {}
        }
      ]
    },
    {
      "cell_type": "markdown",
      "source": [
        "また、ベクトルの要素を入れ替えたいときには、インデックスで指定して`<-`で値を代入します。\n",
        "\n",
        "3番目の値を1000にしたければ以下のようになります。\n",
        "\n",
        "```R\n",
        "vector <- c(100, 200, 300, 400, 500)\n",
        "vector[3] <- 1000\n",
        "```"
      ],
      "metadata": {
        "id": "8crE-6SlCkvE"
      }
    },
    {
      "cell_type": "code",
      "source": [
        "vector <- c(100, 200, 300, 400, 500)\n",
        "print(vector)\n",
        "vector[3] <- 1000\n",
        "print(vector)"
      ],
      "metadata": {
        "colab": {
          "base_uri": "https://localhost:8080/"
        },
        "id": "SAe4IGM6DIpG",
        "outputId": "9f82f70f-def1-400f-f177-afeccfca7a30"
      },
      "execution_count": 33,
      "outputs": [
        {
          "output_type": "stream",
          "name": "stdout",
          "text": [
            "[1] 100 200 300 400 500\n",
            "[1]  100  200 1000  400  500\n"
          ]
        }
      ]
    },
    {
      "cell_type": "markdown",
      "metadata": {
        "id": "8IShVxL0AbxI"
      },
      "source": [
        "### 実習4\n",
        "　↓の変数`vector`の3番目の値を1024×512の結果に入れ替えてください。"
      ]
    },
    {
      "cell_type": "code",
      "metadata": {
        "id": "TPHVX4pBAeYE"
      },
      "source": [
        "vector <- c(1024, 512, 256, 128, 64)\n"
      ],
      "execution_count": null,
      "outputs": []
    },
    {
      "cell_type": "markdown",
      "metadata": {
        "id": "5pFLk7PFBHRM"
      },
      "source": [
        "#### 解答例"
      ]
    },
    {
      "cell_type": "code",
      "metadata": {
        "id": "BAQNScHpBJFw",
        "colab": {
          "base_uri": "https://localhost:8080/",
          "height": 34
        },
        "outputId": "97f6b052-5497-4822-b110-d70aa862fe91"
      },
      "source": [
        "vector <- c(1024, 512, 256, 128, 64)\n",
        "vector[3] <- 1024*512\n",
        "vector"
      ],
      "execution_count": 34,
      "outputs": [
        {
          "output_type": "display_data",
          "data": {
            "text/plain": [
              "[1]   1024    512 524288    128     64"
            ],
            "text/latex": "\\begin{enumerate*}\n\\item 1024\n\\item 512\n\\item 524288\n\\item 128\n\\item 64\n\\end{enumerate*}\n",
            "text/markdown": "1. 1024\n2. 512\n3. 524288\n4. 128\n5. 64\n\n\n",
            "text/html": [
              "<style>\n",
              ".list-inline {list-style: none; margin:0; padding: 0}\n",
              ".list-inline>li {display: inline-block}\n",
              ".list-inline>li:not(:last-child)::after {content: \"\\00b7\"; padding: 0 .5ex}\n",
              "</style>\n",
              "<ol class=list-inline><li>1024</li><li>512</li><li>524288</li><li>128</li><li>64</li></ol>\n"
            ]
          },
          "metadata": {}
        }
      ]
    },
    {
      "cell_type": "markdown",
      "metadata": {
        "id": "u-iXGK3j-O3j"
      },
      "source": [
        "## 6. ベクトルの計算\n",
        "\n",
        "ベクトルの計算は各要素ごとに行われます。\n",
        "また、ベクトルに値を足したりかけると、全ての要素に計算が適用されます。\n",
        "```R\n",
        "vector1 <- c(5, 50, 500, 5000)\n",
        "vector2 <- c(1, 10, 100, 1000)\n",
        "\n",
        "vector1 - vector2 # 結果は 5-1, 50-10, 500-100, 5000-1000となる\n",
        "vector1 * 10 # 結果は5*10, 50*10, 500*10, 5000*10となる\n",
        "```"
      ]
    },
    {
      "cell_type": "code",
      "metadata": {
        "id": "e0IzT9I1-QwP",
        "colab": {
          "base_uri": "https://localhost:8080/"
        },
        "outputId": "97cb279d-7b12-479e-851a-b7bb6889e908"
      },
      "source": [
        "# ベクトルの計算例\n",
        "vector1 <- c(5, 50, 500, 5000)\n",
        "vector2 <- c(1, 10, 100, 1000)\n",
        "\n",
        "# ベクトル同士の引き算\n",
        "print(vector1 - vector2)\n",
        "\n",
        "# ベクトル同士のかけ算\n",
        "print(vector1 / vector2)\n",
        "\n",
        "# 各要素に同じ計算\n",
        "print(vector1 * 10)"
      ],
      "execution_count": 38,
      "outputs": [
        {
          "output_type": "stream",
          "name": "stdout",
          "text": [
            "[1]    4   40  400 4000\n",
            "[1] 5 5 5 5\n",
            "[1]    50   500  5000 50000\n"
          ]
        }
      ]
    },
    {
      "cell_type": "markdown",
      "source": [
        "Rにはベクトル計算用の関数がいくつもあり、平均値や標準偏差などが簡単に計算できます。\n",
        "\n",
        "```R\n",
        "vector <- c(100, 200, 300, 400, 500)\n",
        "sum(vector) # 全ベクトル要素の合計\n",
        "mean(vector) # ベクトル要素の平均値\n",
        "var(vector) # ベクトル要素の不偏分散\n",
        "median(vector) # ベクトル要素の中央値\n",
        "```"
      ],
      "metadata": {
        "id": "hW-20huFJDdu"
      }
    },
    {
      "cell_type": "code",
      "source": [
        "# 例\n",
        "vector <- c(100, 200, 300, 400, 500)\n",
        "sum(vector) # 全ベクトル要素の合計"
      ],
      "metadata": {
        "colab": {
          "base_uri": "https://localhost:8080/",
          "height": 34
        },
        "id": "1lTE6yVmJ5Wm",
        "outputId": "8b6c1498-d5b9-4103-ebe7-763616df538f"
      },
      "execution_count": 46,
      "outputs": [
        {
          "output_type": "display_data",
          "data": {
            "text/plain": [
              "[1] 1500"
            ],
            "text/latex": "1500",
            "text/markdown": "1500",
            "text/html": [
              "1500"
            ]
          },
          "metadata": {}
        }
      ]
    },
    {
      "cell_type": "markdown",
      "source": [
        "### 実習5\n",
        "2から1000までの偶数すべてに、17をかけた数列を作成して、その合計を計算してください。\n",
        "\n",
        "```R\n",
        "seq(1, 10, by=2) # 2ずつ増えていく数値ベクトル\n",
        "```\n",
        "などを使ってみましょう。"
      ],
      "metadata": {
        "id": "TSHeAvKQF6XO"
      }
    },
    {
      "cell_type": "code",
      "source": [
        ""
      ],
      "metadata": {
        "colab": {
          "base_uri": "https://localhost:8080/",
          "height": 34
        },
        "id": "IYTsrx5JF6j9",
        "outputId": "c49bec2c-67d9-411c-956f-8fb383506260"
      },
      "execution_count": 47,
      "outputs": [
        {
          "output_type": "display_data",
          "data": {
            "text/plain": [
              "[1] 4258500"
            ],
            "text/latex": "4258500",
            "text/markdown": "4258500",
            "text/html": [
              "4258500"
            ]
          },
          "metadata": {}
        }
      ]
    },
    {
      "cell_type": "markdown",
      "metadata": {
        "id": "IMnkE5jvNibd"
      },
      "source": [
        "## 7. 行列の作成・操作・計算\n",
        "本講義ではそれほど複雑な行列計算をすることはないので簡単に紹介するにとどめますが、Rでは行列の計算も簡単にすることが出来ます。\n",
        "\n",
        "まず、行列を作成するには、行列の要素をベクトルで用意する、そして関数`matrix()`でベクトルを行列に変換します。\n",
        "\n",
        "1~24を要素とするベクトルを4行×6列の行列に変換したい場合は以下のようになります。"
      ]
    },
    {
      "cell_type": "code",
      "source": [
        "vector <- 1:24\n",
        "matrix(vector, nrow=4, ncol=6) "
      ],
      "metadata": {
        "colab": {
          "base_uri": "https://localhost:8080/",
          "height": 177
        },
        "id": "DzIGSjX_NqVp",
        "outputId": "a27c090f-d48c-4f15-8247-929ad0f6ffe9"
      },
      "execution_count": 56,
      "outputs": [
        {
          "output_type": "display_data",
          "data": {
            "text/plain": [
              "     [,1] [,2] [,3] [,4] [,5] [,6]\n",
              "[1,] 1    5     9   13   17   21  \n",
              "[2,] 2    6    10   14   18   22  \n",
              "[3,] 3    7    11   15   19   23  \n",
              "[4,] 4    8    12   16   20   24  "
            ],
            "text/latex": "A matrix: 4 × 6 of type int\n\\begin{tabular}{llllll}\n\t 1 & 5 &  9 & 13 & 17 & 21\\\\\n\t 2 & 6 & 10 & 14 & 18 & 22\\\\\n\t 3 & 7 & 11 & 15 & 19 & 23\\\\\n\t 4 & 8 & 12 & 16 & 20 & 24\\\\\n\\end{tabular}\n",
            "text/markdown": "\nA matrix: 4 × 6 of type int\n\n| 1 | 5 |  9 | 13 | 17 | 21 |\n| 2 | 6 | 10 | 14 | 18 | 22 |\n| 3 | 7 | 11 | 15 | 19 | 23 |\n| 4 | 8 | 12 | 16 | 20 | 24 |\n\n",
            "text/html": [
              "<table class=\"dataframe\">\n",
              "<caption>A matrix: 4 × 6 of type int</caption>\n",
              "<tbody>\n",
              "\t<tr><td>1</td><td>5</td><td> 9</td><td>13</td><td>17</td><td>21</td></tr>\n",
              "\t<tr><td>2</td><td>6</td><td>10</td><td>14</td><td>18</td><td>22</td></tr>\n",
              "\t<tr><td>3</td><td>7</td><td>11</td><td>15</td><td>19</td><td>23</td></tr>\n",
              "\t<tr><td>4</td><td>8</td><td>12</td><td>16</td><td>20</td><td>24</td></tr>\n",
              "</tbody>\n",
              "</table>\n"
            ]
          },
          "metadata": {}
        }
      ]
    },
    {
      "cell_type": "markdown",
      "source": [
        "数字を並べる順序を上下左右変えたければ`byrow=T`というオプションを付けます。"
      ],
      "metadata": {
        "id": "M10KRcvrN_Ir"
      }
    },
    {
      "cell_type": "code",
      "source": [
        "matrix(vector, nrow=4, ncol=6, byrow=T) "
      ],
      "metadata": {
        "colab": {
          "base_uri": "https://localhost:8080/",
          "height": 160
        },
        "id": "JEtqDTTtN8oi",
        "outputId": "ff19b3a2-f67b-440d-9636-9ab591fb85ef"
      },
      "execution_count": 57,
      "outputs": [
        {
          "output_type": "display_data",
          "data": {
            "text/plain": [
              "     [,1] [,2] [,3] [,4] [,5] [,6]\n",
              "[1,]  1    2    3    4    5    6  \n",
              "[2,]  7    8    9   10   11   12  \n",
              "[3,] 13   14   15   16   17   18  \n",
              "[4,] 19   20   21   22   23   24  "
            ],
            "text/latex": "A matrix: 4 × 6 of type int\n\\begin{tabular}{llllll}\n\t  1 &  2 &  3 &  4 &  5 &  6\\\\\n\t  7 &  8 &  9 & 10 & 11 & 12\\\\\n\t 13 & 14 & 15 & 16 & 17 & 18\\\\\n\t 19 & 20 & 21 & 22 & 23 & 24\\\\\n\\end{tabular}\n",
            "text/markdown": "\nA matrix: 4 × 6 of type int\n\n|  1 |  2 |  3 |  4 |  5 |  6 |\n|  7 |  8 |  9 | 10 | 11 | 12 |\n| 13 | 14 | 15 | 16 | 17 | 18 |\n| 19 | 20 | 21 | 22 | 23 | 24 |\n\n",
            "text/html": [
              "<table class=\"dataframe\">\n",
              "<caption>A matrix: 4 × 6 of type int</caption>\n",
              "<tbody>\n",
              "\t<tr><td> 1</td><td> 2</td><td> 3</td><td> 4</td><td> 5</td><td> 6</td></tr>\n",
              "\t<tr><td> 7</td><td> 8</td><td> 9</td><td>10</td><td>11</td><td>12</td></tr>\n",
              "\t<tr><td>13</td><td>14</td><td>15</td><td>16</td><td>17</td><td>18</td></tr>\n",
              "\t<tr><td>19</td><td>20</td><td>21</td><td>22</td><td>23</td><td>24</td></tr>\n",
              "</tbody>\n",
              "</table>\n"
            ]
          },
          "metadata": {}
        }
      ]
    },
    {
      "cell_type": "markdown",
      "source": [
        "行列の各要素へのアクセス方法は行番号と列番号を指定して行います。\n",
        "\n",
        "```R\n",
        "vector <- 1:24\n",
        "matrix <- matrix(vector, nrow=4, ncol=6)\n",
        "# 2行目3列目の要素にアクセス\n",
        "matrix[2, 3]\n",
        "# 2行目の要素全て\n",
        "matrix[2, ]\n",
        "# 3列目の要素全て\n",
        "matrix[ ,3]\n",
        "```"
      ],
      "metadata": {
        "id": "H4b5YrKROTSM"
      }
    },
    {
      "cell_type": "code",
      "source": [
        "vector <- 1:24\n",
        "matrix <- matrix(vector, nrow=4, ncol=6)\n",
        "matrix\n",
        "\n",
        "# matrixの3行目4列目の要素\n",
        "matrix[3,4]\n",
        "# matrixの2列目の要素\n",
        "matrix[ ,2]"
      ],
      "metadata": {
        "colab": {
          "base_uri": "https://localhost:8080/",
          "height": 212
        },
        "id": "Z3HVqX7BO4de",
        "outputId": "702e8d97-f233-4027-90f1-f45a6b5318d1"
      },
      "execution_count": 59,
      "outputs": [
        {
          "output_type": "display_data",
          "data": {
            "text/plain": [
              "     [,1] [,2] [,3] [,4] [,5] [,6]\n",
              "[1,] 1    5     9   13   17   21  \n",
              "[2,] 2    6    10   14   18   22  \n",
              "[3,] 3    7    11   15   19   23  \n",
              "[4,] 4    8    12   16   20   24  "
            ],
            "text/latex": "A matrix: 4 × 6 of type int\n\\begin{tabular}{llllll}\n\t 1 & 5 &  9 & 13 & 17 & 21\\\\\n\t 2 & 6 & 10 & 14 & 18 & 22\\\\\n\t 3 & 7 & 11 & 15 & 19 & 23\\\\\n\t 4 & 8 & 12 & 16 & 20 & 24\\\\\n\\end{tabular}\n",
            "text/markdown": "\nA matrix: 4 × 6 of type int\n\n| 1 | 5 |  9 | 13 | 17 | 21 |\n| 2 | 6 | 10 | 14 | 18 | 22 |\n| 3 | 7 | 11 | 15 | 19 | 23 |\n| 4 | 8 | 12 | 16 | 20 | 24 |\n\n",
            "text/html": [
              "<table class=\"dataframe\">\n",
              "<caption>A matrix: 4 × 6 of type int</caption>\n",
              "<tbody>\n",
              "\t<tr><td>1</td><td>5</td><td> 9</td><td>13</td><td>17</td><td>21</td></tr>\n",
              "\t<tr><td>2</td><td>6</td><td>10</td><td>14</td><td>18</td><td>22</td></tr>\n",
              "\t<tr><td>3</td><td>7</td><td>11</td><td>15</td><td>19</td><td>23</td></tr>\n",
              "\t<tr><td>4</td><td>8</td><td>12</td><td>16</td><td>20</td><td>24</td></tr>\n",
              "</tbody>\n",
              "</table>\n"
            ]
          },
          "metadata": {}
        },
        {
          "output_type": "display_data",
          "data": {
            "text/plain": [
              "[1] 15"
            ],
            "text/latex": "15",
            "text/markdown": "15",
            "text/html": [
              "15"
            ]
          },
          "metadata": {}
        },
        {
          "output_type": "display_data",
          "data": {
            "text/plain": [
              "[1] 5 6 7 8"
            ],
            "text/latex": "\\begin{enumerate*}\n\\item 5\n\\item 6\n\\item 7\n\\item 8\n\\end{enumerate*}\n",
            "text/markdown": "1. 5\n2. 6\n3. 7\n4. 8\n\n\n",
            "text/html": [
              "<style>\n",
              ".list-inline {list-style: none; margin:0; padding: 0}\n",
              ".list-inline>li {display: inline-block}\n",
              ".list-inline>li:not(:last-child)::after {content: \"\\00b7\"; padding: 0 .5ex}\n",
              "</style>\n",
              "<ol class=list-inline><li>5</li><li>6</li><li>7</li><li>8</li></ol>\n"
            ]
          },
          "metadata": {}
        }
      ]
    },
    {
      "cell_type": "markdown",
      "source": [
        "行列の足し算、かけ算などの基本的な行列演算はベクトルと同じ様に行うことが出来る．\n",
        "\n",
        "```R\n",
        "matrix1 <- matrix(1:16, nrow=4, ncol=4)\n",
        "matrix2 <- matrix(1:16, nrow=4, ncol=4)\n",
        "\n",
        "# 行列同士の計算\n",
        "matrix1 + matrix2\n",
        "\n",
        "かけ算に関しては、気を付ける必要がある。\n",
        "# 内積\n",
        "matrix1 %*% matrix2\n",
        "# 外積\n",
        "matrix1 %o% matrix2  \n",
        "#要素同士のかけ算\n",
        "matrix1 * matrix2\n",
        "\n",
        "```"
      ],
      "metadata": {
        "id": "WuRI9zI1Ph44"
      }
    },
    {
      "cell_type": "code",
      "source": [
        "matrix1 <- matrix(1:16, nrow=4, ncol=4)\n",
        "matrix2 <- matrix(1:16, nrow=4, ncol=4)\n",
        "\n",
        "matrix1\n",
        "\n",
        "# 要素同士のかけ算\n",
        "matrix1 * matrix2\n",
        "# 内積\n",
        "matrix1 %*% matrix2"
      ],
      "metadata": {
        "id": "01SW7fVoRJKh"
      },
      "execution_count": null,
      "outputs": []
    },
    {
      "cell_type": "markdown",
      "metadata": {
        "id": "KiO3rwYYHf5-"
      },
      "source": [
        "### 実習6\n",
        "\n",
        "　すべてが5で構成されている5行5列の行列を2つ作成し、それらの内積を求めて下さい。\n",
        "\n",
        "行列を作るための要素には\n",
        "```R\n",
        "rep(1:3, length=8) # 長さが8になるまで1:3を繰り返す\n",
        "```\n",
        "などを使ってみましょう。"
      ]
    },
    {
      "cell_type": "code",
      "metadata": {
        "id": "6a0iYy4yJo5z"
      },
      "source": [
        ""
      ],
      "execution_count": null,
      "outputs": []
    },
    {
      "cell_type": "markdown",
      "metadata": {
        "id": "5vG-8XJUKAf4"
      },
      "source": [
        "#### 解答例"
      ]
    },
    {
      "cell_type": "code",
      "metadata": {
        "id": "V973X9gIKcIl"
      },
      "source": [
        "vector <- rep(5, length=25)\n",
        "matrix1 <- matrix(vector, nrow=5, ncol=5)\n",
        "matrix2 <- matrix(vector, nrow=5, ncol=5)\n",
        "matrix1 %*% matrix2"
      ],
      "execution_count": null,
      "outputs": []
    },
    {
      "cell_type": "markdown",
      "metadata": {
        "id": "H3bLuW8M-Rc6"
      },
      "source": [
        "## 8. 繰り返し処理(ベクトルから値を１つずつ取り出す)\n",
        "\n",
        "`for構文`というものを使うことで、同じ処理を何度も繰り返し行うことが出来ます。\n",
        "\n",
        "同じ処理をコンピュータに繰り返させるというのは、プログラムを組む最大の目的の一つです。\n",
        "\n",
        "`for ( ループ変数 in ベクトル ) { 繰り返し処理 }`という書き方になります。\n",
        "\n",
        "ベクトルの要素の一番目から順に要素をループ変数に設定して{ }中の式を実行し，ベクトルの要素が無くなった時点で for ループから抜けるという動作をします。\n",
        "\n",
        "```R\n",
        " for (i in 1:5) {              # for (ループ変数 in ベクトル)\n",
        "   print(i)                       # { }内の処理がベクトルの要素の数だけ繰り返される\n",
        " }       \n",
        "```\n",
        "\n",
        "今回はベクトルの要素を先頭から１つずつ取り出して3乗の計算処理を行うといったことやってみます。"
      ]
    },
    {
      "cell_type": "code",
      "source": [
        "# 1~5までの各要素を順番に取り出し、３乗したものを表示\n",
        "for (i in 1:5) {\n",
        "  print(i*i*i)\n",
        "}"
      ],
      "metadata": {
        "colab": {
          "base_uri": "https://localhost:8080/"
        },
        "id": "BoqlongnW6a5",
        "outputId": "7a1b7651-a352-41b5-f92e-9d42c37be693"
      },
      "execution_count": 70,
      "outputs": [
        {
          "output_type": "stream",
          "name": "stdout",
          "text": [
            "[1] 1\n",
            "[1] 8\n",
            "[1] 27\n",
            "[1] 64\n",
            "[1] 125\n"
          ]
        }
      ]
    },
    {
      "cell_type": "code",
      "source": [
        "# 要素を取り出すベクトルの要素数を増やすと、{}内の処理が繰り返される回数も増える\n",
        "for (i in 1:10) {\n",
        "  print(i*i*i)\n",
        "}"
      ],
      "metadata": {
        "colab": {
          "base_uri": "https://localhost:8080/"
        },
        "id": "EuCyau18XNuz",
        "outputId": "57da7629-fda0-4504-c551-f9d4c02dc82c"
      },
      "execution_count": 72,
      "outputs": [
        {
          "output_type": "stream",
          "name": "stdout",
          "text": [
            "[1] 1\n",
            "[1] 8\n",
            "[1] 27\n",
            "[1] 64\n",
            "[1] 125\n",
            "[1] 216\n",
            "[1] 343\n",
            "[1] 512\n",
            "[1] 729\n",
            "[1] 1000\n"
          ]
        }
      ]
    },
    {
      "cell_type": "markdown",
      "metadata": {
        "id": "4PL_pKrWnbuS"
      },
      "source": [
        "### 同じ処理を任意の回数繰り返す"
      ]
    },
    {
      "cell_type": "markdown",
      "metadata": {
        "id": "92lwauXEnhl5"
      },
      "source": [
        "　さきほどベクトルに対して`for`構文を使い各要素毎に計算をしました。`for`構文は、必ずしもベクトルの要素を使用する必要はありません。\n",
        "同じ処理を何回か繰り返したいときにも使います。\n",
        "\n",
        "```R\n",
        "# 書き方: 同じ処理をベクトルの要素数だけ繰り返す\n",
        "for (変数 in ベクトル) {\n",
        "  処理\n",
        "}\n",
        "```"
      ]
    },
    {
      "cell_type": "code",
      "source": [
        "# 繰り返させる処理は何でも良い → 任意の処理を好きなだけ繰り返させることが出来る。\n",
        "for (i in 1:5) {\n",
        "  print(\"繰り返したい文字列\")\n",
        "}"
      ],
      "metadata": {
        "colab": {
          "base_uri": "https://localhost:8080/"
        },
        "id": "U_78hWvDXow3",
        "outputId": "7e894875-f357-4358-fb4c-4b054b7ae893"
      },
      "execution_count": 77,
      "outputs": [
        {
          "output_type": "stream",
          "name": "stdout",
          "text": [
            "[1] \"繰り返したい文字列\"\n",
            "[1] \"繰り返したい文字列\"\n",
            "[1] \"繰り返したい文字列\"\n",
            "[1] \"繰り返したい文字列\"\n",
            "[1] \"繰り返したい文字列\"\n"
          ]
        }
      ]
    },
    {
      "cell_type": "code",
      "source": [
        "# 「xという変数の値に+1する」という処理をベクトルの要素の数だけ繰り返している\n",
        "x <- 100\n",
        "for (i in 1:5) {\n",
        "  x <- x + 1\n",
        "  print(x)\n",
        "}"
      ],
      "metadata": {
        "colab": {
          "base_uri": "https://localhost:8080/"
        },
        "id": "zlSouzs6YauB",
        "outputId": "0fb44230-8c18-4ef4-9d7d-204bfd033056"
      },
      "execution_count": 76,
      "outputs": [
        {
          "output_type": "stream",
          "name": "stdout",
          "text": [
            "[1] 101\n",
            "[1] 102\n",
            "[1] 103\n",
            "[1] 104\n",
            "[1] 105\n"
          ]
        }
      ]
    },
    {
      "cell_type": "markdown",
      "metadata": {
        "id": "6Dshg5RMh0e5"
      },
      "source": [
        "### 実習7\n",
        "下のコードを埋めて、2500に１から100までの数字をかけた答えを求めて下さい。"
      ]
    },
    {
      "cell_type": "code",
      "metadata": {
        "id": "UMYVWka1h0Ho"
      },
      "source": [
        "x = 2500\n",
        "\n",
        "for (i in 1:100) {\n",
        "  \n",
        "}"
      ],
      "execution_count": null,
      "outputs": []
    },
    {
      "cell_type": "markdown",
      "metadata": {
        "id": "y9OAuF6-kpT_"
      },
      "source": [
        "#### 解答例"
      ]
    },
    {
      "cell_type": "code",
      "metadata": {
        "id": "CgeFYR38krKD"
      },
      "source": [
        "x = 2500\n",
        "\n",
        "for (i in 1:100) {\n",
        "  x <- x * i\n",
        "}"
      ],
      "execution_count": 79,
      "outputs": []
    },
    {
      "cell_type": "markdown",
      "metadata": {
        "id": "Mc9_yXTh-cks"
      },
      "source": [
        "## 8. 条件分岐(ベクトルの要素に特定の配列があるか調べる)\n",
        "\n",
        "　最後に、与えられた情報にしたがって、異なる処理をおこなう方法を勉強します。使用するのは `if構文`です。\n",
        "\n",
        "ExcelにもIf関数というのはありましたが、似た様なものです。\n",
        "\n",
        "```R\n",
        "# 書き方: 条件分岐\n",
        "if (条件1) {\n",
        "  条件1を満たす時の処理\n",
        "} else {\n",
        "  条件1を満たさなかった時の処理\n",
        "}\n",
        "\n",
        "if (条件1) {\n",
        "  条件1を満たす時の処理\n",
        "} else if (条件2) {\n",
        "  条件1を満たさないが条件2を満たす時の処理\n",
        "} else {\n",
        "  条件1も2も満たさない時の処理\n",
        "}\n",
        "```\n",
        "\n",
        "<img src=\"https://lh3.googleusercontent.com/pw/ACtC-3fLpwUsnktp9SnsalwyGuc6GwKzSPS2ONyde9VLqmBXaT7Y_7s1DGIPN2JxqIe5kBaK-lfQL2RR-rFyta3Z5iZC9kwgHhZCK8FnPTtuMo-75_Wv9qORcgwNW0USPRK8YcpApQBa1sGfGblT6vG7uOMn=w1270-h862-no?authuser=0\" alt=\"if_syntax\" height=\"250px\">"
      ]
    },
    {
      "cell_type": "markdown",
      "metadata": {
        "id": "5sXPIWxtST4w"
      },
      "source": [
        "### 比較演算子"
      ]
    },
    {
      "cell_type": "markdown",
      "metadata": {
        "id": "zlLtBX6pTLJf"
      },
      "source": [
        "　条件文には、**比較演算子**というものを使います。\n",
        "\n",
        "おもな比較演算子:\n",
        "- AとBは等しい `A == B` \n",
        "<small>**イコール記号が2つであることに注意してください。**</small>\n",
        "- AとBは等しくない `A != B` \n",
        "- AはBより大きい `A > B`\n",
        "- AはBより小さい `A < B`\n",
        "- AはB以上 `A >= B`\n",
        "- AはB以下 `A <= B`"
      ]
    },
    {
      "cell_type": "code",
      "metadata": {
        "id": "ojUs6qaT-iVk",
        "colab": {
          "base_uri": "https://localhost:8080/"
        },
        "outputId": "7fd80663-26c2-4c19-d748-a768b0477c48"
      },
      "source": [
        "# 例1\n",
        "rice = \"Koshihikari\"\n",
        "\n",
        "if (rice == \"Koshihikari\") {\n",
        "  print(\"Rice 1\")\n",
        "} else {\n",
        "  print(\"Rice 2\")\n",
        "}\n"
      ],
      "execution_count": 80,
      "outputs": [
        {
          "output_type": "stream",
          "name": "stdout",
          "text": [
            "[1] \"Rice 1\"\n"
          ]
        }
      ]
    },
    {
      "cell_type": "code",
      "source": [
        "# 例2\n",
        "number = 1024\n",
        "\n",
        "if (number < 0) {\n",
        "  print(\"number is minus\")\n",
        "} else if (number < 100) {\n",
        "  print(\"number is less than 100\")\n",
        "} else {\n",
        "  print(\"number is over 100!!!\")\n",
        "}\n"
      ],
      "metadata": {
        "colab": {
          "base_uri": "https://localhost:8080/"
        },
        "id": "k_MS6qpvfhaP",
        "outputId": "0abcca58-b1c5-4bad-d110-1e4e58636feb"
      },
      "execution_count": 85,
      "outputs": [
        {
          "output_type": "stream",
          "name": "stdout",
          "text": [
            "[1] \"number is over 100!!!\"\n"
          ]
        }
      ]
    },
    {
      "cell_type": "markdown",
      "metadata": {
        "id": "jyCwWxNvLbuo"
      },
      "source": [
        "### 実習8\n",
        "変数xの値の常用対数（底が10の対数）が3以上なら\"number is over 1000\"、そうでないなら\"number is less than 1000\"と出力するプログラムを書いて下さい。"
      ]
    },
    {
      "cell_type": "code",
      "metadata": {
        "id": "awPfVEMGLZJy",
        "colab": {
          "base_uri": "https://localhost:8080/",
          "height": 34
        },
        "outputId": "9ba1f5fe-12ce-4723-cca0-7a7103edcce3"
      },
      "source": [
        "x <- 100000\n",
        "\n"
      ],
      "execution_count": 83,
      "outputs": [
        {
          "output_type": "display_data",
          "data": {
            "text/plain": [
              "[1] 3"
            ],
            "text/latex": "3",
            "text/markdown": "3",
            "text/html": [
              "3"
            ]
          },
          "metadata": {}
        }
      ]
    },
    {
      "cell_type": "markdown",
      "metadata": {
        "id": "Yczgrn42MZuk"
      },
      "source": [
        "#### 解答例"
      ]
    },
    {
      "cell_type": "code",
      "metadata": {
        "id": "pYoCdaziLRmG",
        "colab": {
          "base_uri": "https://localhost:8080/"
        },
        "outputId": "5407bb05-31ff-44be-a04b-7479567fac53"
      },
      "source": [
        "x <- 100000\n",
        "\n",
        "if (log10(x) >= 3) {\n",
        "  print(\"number is over 1000\")\n",
        "} else {\n",
        "  print(\"number is less than 1000\")\n",
        "}"
      ],
      "execution_count": 84,
      "outputs": [
        {
          "output_type": "stream",
          "name": "stdout",
          "text": [
            "[1] \"number is over 1000\"\n"
          ]
        }
      ]
    },
    {
      "cell_type": "markdown",
      "metadata": {
        "id": "WFxyx7o8VwOM"
      },
      "source": [
        "### for構文とif構文を組み合わせる"
      ]
    },
    {
      "cell_type": "markdown",
      "metadata": {
        "id": "MxcILH_qV1YR"
      },
      "source": [
        "　for構文中でif構文を使うと、より複雑な自動化処理をおこなえます。\n",
        "\n",
        "以下の例では、与えられた文字列に対して、次の処理をおこなっています。\n",
        "- 例1: 相補鎖上の塩基を順番に表示する\n",
        "- 例2: 例1で読み上げている塩基を繋いだ文字列を作る\n",
        "- 例3: 例2で作った文字列を逆さにして、相補鎖配列（reverse complementary sequence）にする"
      ]
    },
    {
      "cell_type": "code",
      "metadata": {
        "id": "ncZa49GiWLLR"
      },
      "source": [
        "# 例1: 相補鎖上の塩基を順番に表示する\n",
        "rice = \"ATAGAATTCT\"\n",
        "for i in rice:\n",
        "  if i == \"A\":\n",
        "    print(\"T\")\n",
        "  elif i == \"T\":\n",
        "    print(\"A\")\n",
        "  elif i == \"G\":\n",
        "    print(\"C\")\n",
        "  elif i == \"C\":\n",
        "    print(\"G\")\n",
        "  else:\n",
        "    print(\"N\")"
      ],
      "execution_count": null,
      "outputs": []
    },
    {
      "cell_type": "code",
      "metadata": {
        "id": "OuB6oWOLW3B2"
      },
      "source": [
        "# 例2: 例1で読み上げている塩基を繋いだ文字列を作る\n",
        "rice = \"ATAGAATTCT\"\n",
        "\n",
        "rice_comp = \"\" # 空の文字列を用意する\n",
        "\n",
        "for i in rice:\n",
        "  if i == \"A\":\n",
        "    rice_comp = rice_comp + \"T\"\n",
        "  elif i == \"T\":\n",
        "    rice_comp = rice_comp + \"A\"\n",
        "  elif i == \"G\":\n",
        "    rice_comp = rice_comp + \"C\"\n",
        "  elif i == \"C\":\n",
        "    rice_comp = rice_comp + \"G\"\n",
        "  else:\n",
        "    rice_comp = rice_comp + \"N\"\n",
        "\n",
        "# 出来上がった文字列を表示\n",
        "print(rice_comp)"
      ],
      "execution_count": null,
      "outputs": []
    },
    {
      "cell_type": "code",
      "metadata": {
        "id": "5P3yYIOaYFnf"
      },
      "source": [
        "# 例3: 相補鎖配列（reverse complementary sequence）を表示する\n",
        "rice = \"ATAGAATTCT\"\n",
        "\n",
        "rice_comp = \"\" # 空の文字列を用意する\n",
        "\n",
        "for i in rice:\n",
        "  if i == \"A\":\n",
        "    rice_comp = rice_comp + \"T\"\n",
        "  elif i == \"T\":\n",
        "    rice_comp = rice_comp + \"A\"\n",
        "  elif i == \"G\":\n",
        "    rice_comp = rice_comp + \"C\"\n",
        "  elif i == \"C\":\n",
        "    rice_comp = rice_comp + \"G\"\n",
        "  else:\n",
        "    rice_comp = rice_comp + \"N\"\n",
        "    \n",
        "# 出来上がった文字列を表示\n",
        "print(rice_comp)\n",
        "\n",
        "# 文字列を逆さにし、相補鎖配列（reverse complementary sequence）をにする\n",
        "rice_revcomp = rice_comp[::-1]\n",
        "print(rice_revcomp)"
      ],
      "execution_count": null,
      "outputs": []
    },
    {
      "cell_type": "markdown",
      "metadata": {
        "id": "NzTGZhVzZDDF"
      },
      "source": [
        "　例3の22行目のコードで使われている`[::-1]`は、「5. DNA配列を切り出す」で勉強したスライス機能です。\n",
        "\n",
        "　詳しい説明は省きますが、最初から最後までの文字列を切り出し、それを後ろから1文字ずつ並べ直しています。\n",
        "```python\n",
        "[(最初から):(最後まで):-1(後ろから1文字ずつ)]\n",
        "```\n",
        "\n"
      ]
    },
    {
      "cell_type": "markdown",
      "metadata": {
        "id": "0x7enzMdMk80"
      },
      "source": [
        "---\n",
        "## まとめ\n",
        "\n",
        "　今回の実習では、短いDNA配列を使って、Pythonの基礎を勉強しました。\n",
        "- `print`関数（文字列の出力）や`len`関数（文字列の長さの取得）\n",
        "- 変数の設定\n",
        "- 文字列の結合、切り出し\n",
        "- `for`構文（繰り返し処理）、`if`構文（条件分岐処理）\n",
        "\n",
        "　今回学んだことだけでも、下記のようなゲノム解析をおこなえます。\n",
        "- ゲノム配列の塩基数を調べる\n",
        "- 一部の塩基配列を取り出す\n",
        "- 各塩基を精査する\n",
        "- 任意の塩基配列が含まれているかどうかを調べる\n",
        "\n",
        "　しかし、数千万塩基〜数十億塩基のゲノム配列をプログラム上にコピー＆ペーストするというのは現実的な方法ではありません。通常のゲノム解析では、ゲノム情報が書きこまれたファイルを読み込んで、なんらかの解析をおこないます。\n",
        "\n",
        "　次回は、Biopythonライブラリを使って、次世代シーケンサーから出力されるファイル（FASTQ形式ファイル）を読み込み、多量の塩基配列データの処理を自動化する方法を勉強します。\n",
        "\n",
        "<div align=\"right\"><a href=\"https://github.com/CropEvol/lecture#section2\">実習表ページに戻る</a></div>"
      ]
    }
  ]
}