{
  "nbformat": 4,
  "nbformat_minor": 0,
  "metadata": {
    "colab": {
      "name": "RL04.ipynb",
      "provenance": [],
      "collapsed_sections": [
        "WOglWe2_AQWv",
        "zBp_bpS4Arnr",
        "TzC0qomQWWmo",
        "MGQ7h7qXT1mi",
        "sXUUAgSc2w1z"
      ]
    },
    "kernelspec": {
      "name": "ir",
      "display_name": "R"
    }
  },
  "cells": [
    {
      "cell_type": "markdown",
      "source": [
        "# **R基礎 その3**\n",
        "\n",
        "このテキストでは、様々なパッケージを利用して、ネットワーク図・地図・系統樹などを描写してみます。\n",
        "\n",
        "細かいコードの意味は大丈夫なので、Rを使うとどういったことが出来るのか、体験してみましょう。\n",
        "\n",
        "今後使う機会が出て来たり気になる機能があれば、より細かい使い方等は自分で調べてみて下さい。"
      ],
      "metadata": {
        "id": "WoLGYF6vBbzJ"
      }
    },
    {
      "cell_type": "code",
      "source": [
        "# # network\n",
        "# install.packages(\"igraph\")\n",
        "# install.packages(\"tidygraph\")\n",
        "# install.packages(\"ggraph\")\n",
        "# # phylogeny\n",
        "# install.packages(\"ape\")\n",
        "# # map\n",
        "# install.packages(\"maps\")\n",
        "# install.packages(\"mapdata\")\n",
        "# # map2\n",
        "# install.packages(\"htmlwidgets\")\n",
        "# install.packages(\"magrittr\")\n",
        "# install.packages(\"leaflet\")"
      ],
      "metadata": {
        "id": "yTY_2u1LMBZQ"
      },
      "execution_count": null,
      "outputs": []
    },
    {
      "cell_type": "code",
      "source": [
        "system(\"wget -q -O library.tgz https://github.com/slt666666/informatics_agri_1st/raw/main/source/_static/colab_notebook/library.tgz\")\n",
        "system(\"tar zxvf library.tgz\")\n",
        ".libPaths(\"library\")"
      ],
      "metadata": {
        "id": "x0auEU4sZiH6"
      },
      "execution_count": null,
      "outputs": []
    },
    {
      "cell_type": "code",
      "source": [
        "library(igraph)\n",
        "library(tidygraph)\n",
        "\n",
        "A <- matrix(c(\n",
        "  0,1,1,1,0,1,0,0,0,0,0,1,1,0,0,0,0,0,0,0, \n",
        "  1,0,0,0,0,0,0,1,0,0,1,0,1,0,0,0,0,1,0,0, \n",
        "  1,0,0,0,0,0,0,0,0,0,1,1,0,0,0,0,0,0,0,0, \n",
        "  1,0,0,0,0,0,0,0,0,0,1,0,0,0,0,0,0,0,0,0, \n",
        "  0,0,0,0,0,1,1,0,0,0,0,0,0,0,0,1,1,0,0,0, \n",
        "  1,0,0,0,1,0,1,0,0,0,1,0,0,0,1,0,1,0,0,0, \n",
        "  0,0,0,0,1,1,0,0,0,0,0,0,0,0,1,1,0,0,0,0, \n",
        "  0,1,0,0,0,0,0,0,1,1,0,1,0,0,0,0,0,0,1,1, \n",
        "  0,0,0,0,0,0,0,1,0,1,0,0,0,0,0,0,0,1,0,1, \n",
        "  0,0,0,0,0,0,0,1,1,0,0,0,0,1,0,0,0,0,0,0,\n",
        "  0,1,1,1,0,1,0,0,0,0,0,1,0,0,0,1,0,0,0,0, \n",
        "  1,0,1,0,0,0,0,1,0,0,1,0,1,1,0,0,0,1,0,0, \n",
        "  1,1,0,0,0,0,0,0,0,0,0,1,0,0,0,0,0,0,0,0, \n",
        "  0,0,0,0,0,0,0,0,0,1,0,1,0,0,0,1,0,0,0,0, \n",
        "  0,0,0,0,0,1,1,0,0,0,0,0,0,0,0,0,1,0,0,0, \n",
        "  0,0,0,0,1,0,1,0,0,0,1,0,0,1,0,0,1,0,0,0, \n",
        "  0,0,0,0,1,1,0,0,0,0,0,0,0,0,1,1,0,0,0,0, \n",
        "  0,1,0,0,0,0,0,0,1,0,0,1,0,0,0,0,0,0,1,1, \n",
        "  0,0,0,0,0,0,0,1,0,0,0,0,0,0,0,0,0,1,0,1, \n",
        "  0,0,0,0,0,0,0,1,1,0,0,0,0,0,0,0,0,1,1,0),\n",
        "  nrow = 20, ncol = 20, byrow = TRUE)\n",
        "\n",
        "colnames(A) <- c(1:20)\n",
        "rownames(A) <- c(1:20)"
      ],
      "metadata": {
        "id": "auPGTZ4cfazr"
      },
      "execution_count": null,
      "outputs": []
    },
    {
      "cell_type": "code",
      "source": [
        "g1 <- graph_from_adjacency_matrix(A)\n",
        "g1_tbl <- as_tbl_graph(g1, direted = F)\n",
        "\n",
        "library(ggraph)\n",
        "\n",
        "# グラフ描写\n",
        "plot_tbl_data <- function(tbl_data, title = \"centrality\"){\n",
        "  tbl_data %>%  \n",
        "    ggraph(layout = \"kk\") +\n",
        "    geom_edge_link(alpha=0.8, colour = \"lightgray\") + \n",
        "    scale_edge_width(range = c(0.1,1)) +\n",
        "    geom_node_point(aes( size = centrality)) +\n",
        "    geom_node_label(aes(label = name),repel = TRUE)+\n",
        "    ggtitle(title)\n",
        "}\n",
        "\n",
        "# 次数中心性\n",
        "g1_tbl.deg <- g1_tbl %>% \n",
        "  mutate(centrality = centrality_degree())\n",
        "\n",
        "plot_tbl_data(g1_tbl.deg, \"centrality:degree\")"
      ],
      "metadata": {
        "id": "LS00zkXNfl7G"
      },
      "execution_count": null,
      "outputs": []
    },
    {
      "cell_type": "code",
      "source": [
        "library(ape)\n",
        "data(woodmouse)\n",
        "wm.d<-dist.dna(woodmouse)\n",
        "wm.hc<-hclust(wm.d,\"average\")\n",
        "wm.phy<-as.phylo(wm.hc)\n",
        "plot(wm.phy)"
      ],
      "metadata": {
        "id": "vreDEPKhhUVx"
      },
      "execution_count": null,
      "outputs": []
    },
    {
      "cell_type": "code",
      "source": [
        "library(maps)\n",
        "library(mapdata)\n",
        "\n",
        "map(\"japan\", interior = FALSE)\n",
        "map(\"japan\", boundary = FALSE, lty = 2, add = TRUE)"
      ],
      "metadata": {
        "id": "E9tk17qcpz-4"
      },
      "execution_count": null,
      "outputs": []
    },
    {
      "cell_type": "code",
      "source": [
        "library(magrittr)\n",
        "library(leaflet)\n",
        "\n",
        "library(htmlwidgets)\n",
        "m <- leaflet() %>% \n",
        "    addTiles() %>% \n",
        "    setView(lng=135,lat=35,zoom=7)\n",
        "saveWidget(m, file=\"m.html\")"
      ],
      "metadata": {
        "id": "04PPu86sqnmh"
      },
      "execution_count": null,
      "outputs": []
    },
    {
      "cell_type": "code",
      "source": [
        ""
      ],
      "metadata": {
        "id": "q3gKK5DjrHUn"
      },
      "execution_count": null,
      "outputs": []
    }
  ]
}