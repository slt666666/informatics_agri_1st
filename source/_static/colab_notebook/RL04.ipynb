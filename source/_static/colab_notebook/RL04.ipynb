{
  "nbformat": 4,
  "nbformat_minor": 0,
  "metadata": {
    "colab": {
      "name": "RL04.ipynb",
      "provenance": [],
      "collapsed_sections": [
        "WOglWe2_AQWv",
        "zBp_bpS4Arnr",
        "TzC0qomQWWmo",
        "MGQ7h7qXT1mi",
        "sXUUAgSc2w1z"
      ],
      "toc_visible": true
    },
    "kernelspec": {
      "name": "ir",
      "display_name": "R"
    }
  },
  "cells": [
    {
      "cell_type": "markdown",
      "source": [
        "# **R基礎 その3**\n",
        "\n",
        "このテキストでは、基本的な統計検定について触れた後、様々なパッケージを利用して、様々な図形を描写してみます。\n",
        "\n",
        "細かいコードの意味は大丈夫なので、Rを使うとどういったことが出来るのか、体験してみましょう。\n",
        "\n",
        "今後使う機会が出て来たり気になる機能があれば、より細かい使い方等は自分で調べてみて下さい。"
      ],
      "metadata": {
        "id": "WoLGYF6vBbzJ"
      }
    },
    {
      "cell_type": "markdown",
      "source": [
        "# 統計解析\n",
        "\n",
        "まだ統計学に関しては講義等で触れたことが無い人も多いかとは思いますが、\n",
        "\n",
        "研究やサイエンスを学んでいく上で、「検定」や「回帰分析」などには必ず触れる機会があると思います。\n",
        "\n",
        "今回はRに用意されている関数を用いて基本的な検定などを試してみます。\n",
        "\n",
        "Rは統計解析用のパッケージも充実しており、今後、様々な検定や統計処理を学ぶ機会があると思いますが、その大部分はRで簡単に行うことが出来ることを覚えておくと良いでしょう。\n",
        "\n"
      ],
      "metadata": {
        "id": "w75vmZlffGae"
      }
    },
    {
      "cell_type": "markdown",
      "source": [
        "## サッカー選手のデータを使って検定する\n",
        "\n",
        "前回使ったサッカー選手のデータを使って試して見ます。"
      ],
      "metadata": {
        "id": "8xEUT_8Ft-bU"
      }
    },
    {
      "cell_type": "markdown",
      "source": [
        "## t検定\n",
        "「検定」と呼ばれるものの中で最もポピュラーな**t検定**というものをやってみます。\n",
        "\n",
        "t検定とは、ものすごく簡単に言うと**2組のデータについて平均値に有意な差があるかどうか統計的に調べる方法**です。\n",
        "\n",
        "(有意な差とは、誤差では済まされない意味のある差、という感じです。)\n",
        "\n",
        "\n",
        "---\n",
        "\n",
        "\n",
        "今回は**「ポジションがDefenderとForwardの選手の間で、得点数の平均値に差があるのか」**、**統計的に**確認してみましょう。\n",
        "\n",
        "得点数は`goals_overall`という列のデータです。"
      ],
      "metadata": {
        "id": "B6KxwO6cuQR-"
      }
    },
    {
      "cell_type": "code",
      "source": [
        "# web上のデータを読む\n",
        "df <- read.csv(\"https://raw.githubusercontent.com/slt666666/informatics_agri_1st/main/source/_static/data/england-premier-league-players-2018-to-2019-stats.csv\")\n",
        "# head(データフレーム) ... データフレームの最初の数行だけ表示\n",
        "head(df)"
      ],
      "metadata": {
        "id": "EjTntYaAFVE6"
      },
      "execution_count": null,
      "outputs": []
    },
    {
      "cell_type": "markdown",
      "source": [
        "### 平均値を計算してみる\n",
        "\n",
        "まずは、データフレームからデータを取り出し、`mean`関数を使うことでDefender, Forwardそれぞれのゴール数の平均値を計算してみます。"
      ],
      "metadata": {
        "id": "w-90ky3HzHjj"
      }
    },
    {
      "cell_type": "code",
      "source": [
        "# 平均値を計算してみる\n",
        "# Defenderの得点平均値\n",
        "DF_score <- df[df$position == \"Defender\", \"goals_overall\"]\n",
        "print(mean(DF_score))\n",
        "\n",
        "# Forwardの得点平均値\n",
        "FW_score <- df[df$position == \"Forward\", \"goals_overall\"]\n",
        "print(mean(FW_score))"
      ],
      "metadata": {
        "id": "3gQz3xJXyLnF"
      },
      "execution_count": null,
      "outputs": []
    },
    {
      "cell_type": "markdown",
      "source": [
        "### グラフで確認してみる\n",
        "\n",
        "単純に得点数の平均を見ると、(当然ですが)Forwardの方が高い平均値になっています。\n",
        "\n",
        "次に、前回扱った`ggplot2`ライブラリを使ってグラフを描き、差をもう少し詳しく見てみます。"
      ],
      "metadata": {
        "id": "sGJkK1aiu7_p"
      }
    },
    {
      "cell_type": "code",
      "source": [
        "library(ggplot2)\n",
        "g <- ggplot(df, aes(x = position, y = goals_overall, color=position)) # データの指定、x軸にposition, y軸にゴール数を指定。色はポジションごとに分ける。\n",
        "g <- g + geom_jitter() # 点が重ならない様にプロット\n",
        "g <- g + stat_summary(fun = \"mean\", geom = \"crossbar\", colour = \"black\") # 平均値の黒線を引く関数があります。\n",
        "plot(g)"
      ],
      "metadata": {
        "id": "jgOHWAm1vAvx"
      },
      "execution_count": null,
      "outputs": []
    },
    {
      "cell_type": "markdown",
      "source": [
        "### t検定をして統計的に確認してみる\n",
        "\n",
        "グラフからも明らかにForwardの選手の方がDefenderの選手達よりたくさん得点していることが分かりますね。\n",
        "\n",
        "それではこの差を**t検定**を使って、**統計的に**確認してみましょう。\n",
        "\n",
        "Rでは、`t.test(データ1, データ2)`という関数でt検定を行うことが出来ます。まずはやってみましょう。\n",
        "\n",
        "---\n",
        "\n",
        "<small>※厳密には`t.test(データ1, データ2, var.equal=T)`という形でデータの等分散性を指定する必要がありますが今回は省略しています。</small>\n",
        "\n",
        "<small>t検定について学んだ際に思い出してみて下さい。</small>"
      ],
      "metadata": {
        "id": "wjC-iAwv3lCC"
      }
    },
    {
      "cell_type": "code",
      "source": [
        "# Defenderの得点\n",
        "DF_score <- df[df$position == \"Defender\", \"goals_overall\"]\n",
        "\n",
        "# Forwardの得点平均値\n",
        "FW_score <- df[df$position == \"Forward\", \"goals_overall\"]\n",
        "\n",
        " t.test(DF_score, FW_score)"
      ],
      "metadata": {
        "id": "58wxJwDkzwTp"
      },
      "execution_count": null,
      "outputs": []
    },
    {
      "cell_type": "markdown",
      "source": [
        "<small>※読み飛ばして貰ってもOKです</small>\n",
        "\n",
        "　3行目あたりにp-value(p値)というものが出てきていると思いますが、p値がどれだけ**小さいか**が統計検定では非常に重要になってきます。\n",
        "\n",
        "検定では、ある仮説を立てて(FWとDFでゴール数に差が無い、等)、その仮説にデータが従っているかどうかを確認しています。\n",
        "\n",
        "p値とは簡単に言うと、その仮説の下で、実際に観測された結果を取得する確率です。\n",
        "\n",
        "* p値が小さい = 立てた仮説のもとでは発生しにくいデータである(=仮説が間違っている可能性が高い)\n",
        "\n",
        "* p値が大きい = 立てた仮説のもとで発生しうるデータである(=仮説通りの可能性が高い)\n",
        "\n",
        "ということを表します。\n",
        "\n",
        "　今回の検定で説明すると、まずDefenderとForwardのゴール数の平均値に**差が無い**という仮説を立てています。\n",
        "\n",
        "そしてt検定の結果として、とても小さなp値が得られたということは、今回の様なデータは**ゴール数の平均値に差が無いという仮説の下ではほとんど起きない**データということになります。\n",
        "\n",
        "→ つまり、仮説(ゴール数の平均値に差が無い)が間違っている\n",
        "\n",
        "→ つまり、ゴール数の平均値に差がある、というのが正しかった\n",
        "\n",
        "という様な形です。\n",
        "\n",
        "　サイエンスでは、p値に0.05や0.01といった基準を設けて、p値がそれ以下であれば、「ゴール数の差は5%水準で有意である」という風な言い方をしたりします。"
      ],
      "metadata": {
        "id": "lpce0xdudp0N"
      }
    },
    {
      "cell_type": "markdown",
      "source": [
        "### 実習\n",
        "\n",
        "先程はDefenderとForwardのゴール数の平均値に差が有るか無いかをt検定で確認しました。\n",
        "\n",
        "ここでは練習として、DefenderとForwardの年齢(age)の平均値に差が有るか無いかをt検定で確認してみましょう。\n",
        "\n",
        "下のコードの`???`を埋めてみましょう。\n"
      ],
      "metadata": {
        "id": "KD2qYQzXmGj8"
      }
    },
    {
      "cell_type": "code",
      "source": [
        "# グラフでポジションごとの年齢を可視化\n",
        "library(ggplot2)\n",
        "g <- ggplot(df, aes(x = position, y = ???, color=position)) # データの指定、x軸にposition, y軸にageを指定。色はポジションごとに分ける。\n",
        "g <- g + geom_jitter() # 点が重ならない様にプロット\n",
        "g <- g + stat_summary(fun = \"mean\", geom = \"crossbar\", colour = \"black\") # 平均値の黒線を引く関数があります。\n",
        "plot(g)\n",
        "\n",
        "# このコードを埋めて下さい。\n",
        "# ageの差をt検定\n",
        "DF_age <- df[df$position == \"Defender\", ???]\n",
        "FW_age <- df[df$position == \"Forward\", ???]\n",
        "t.test(???, ???)"
      ],
      "metadata": {
        "id": "mRTnVmLccn8i"
      },
      "execution_count": null,
      "outputs": []
    },
    {
      "cell_type": "markdown",
      "source": [
        "### 差を統計的に確認する必要がある理由\n",
        "\n",
        "　そもそもなぜこの様な「検定」をする必要があるのでしょうか。\n",
        "\n",
        "たとえばあるコインを投げて表になるか裏になるか調べたいとします。\n",
        "\n",
        "そこで、\n",
        "\n",
        "* コインを3回だけ投げて3回とも裏だった場合、「このコインは100%の確率で裏が出ます」と言ってしまって良いでしょうか？\n",
        "  * 感覚的にはダメな気がするんじゃないでしょうか。\n",
        "* では、10回投げて3回表7回裏だった場合、「このコインは表が30%の確率で出るコインです」と言えるでしょうか？\n",
        "  * やっぱりまだ感覚的にはダメな気がしますね。\n",
        "* 最後に、1000000000回投げて500000000回表、500000000回裏が出た場合はどうでしょうか。\n",
        "  * 感覚的には...表裏が同じ確率出るコインだと言ってしまえそうな感じがしますね。\n",
        "\n",
        "　最初の2つの例の様に、限られた試行回数やサンプル数をもとに差があるかどうか(今回だと表裏の確率に差があるかどうか)を断言するというのは、中々難しい場合が多いです。\n",
        "\n",
        "　そこで、科学の世界では、検定と呼ばれる統計処理を行うことで、今回得られたデータからどの程度「差がある/ない」と言ってしまえるかを定量的に示すことが必要になります。\n",
        "\n",
        "　今回のサッカー選手の例でいうと、DefenderとForwardの得点数の差は何億回試合をしても生じるようなものなのか、それとも今年度だけたまたまそういう結果になってしまう程度の差なのか、それを定量的に知る方法の1つが統計の検定になります。\n",
        "\n",
        "　恐らく遅くとも2回生には統計学について触れることになると思いますが、その際に様々な検定や統計手法について詳しく学んでみてください。\n"
      ],
      "metadata": {
        "id": "akOR3YyXFlv0"
      }
    },
    {
      "cell_type": "markdown",
      "source": [
        "## 回帰分析\n",
        "\n",
        "　次は簡単な回帰分析も少しやっておきます。Excelでも少しやりましたね。\n",
        "\n",
        "先程のグラフから、ポジションがForwardの選手達が(当然なんですが)主にゴールしていることが分かりました。ただ、Forwardの選手の中でもたくさんゴールしてる選手としていない選手がいることが分かります。\n",
        "\n",
        "では、その原因を探るために、今回はポジションがForwardの選手達において、プレイ時間`minutes_played_overall`とゴール数`goals_overall`に関係性があるのか回帰分析で調べてみます。"
      ],
      "metadata": {
        "id": "A-QsDUym0Cc4"
      }
    },
    {
      "cell_type": "markdown",
      "source": [
        "### グラフで確認してみる\n",
        "\n",
        "なにはともあれまずは目で見て関係性がありそうか、見てみます。\n",
        "\n",
        "`ggplot2`で可視化してみましょう。"
      ],
      "metadata": {
        "id": "sk9d0bZN0NcJ"
      }
    },
    {
      "cell_type": "code",
      "source": [
        "# positionがForwardの選手のデータだけforward_dfとして取り出す\n",
        "forward_df <- df[df$position == \"Forward\", ]\n",
        "\n",
        "g <- ggplot(forward_df, aes(x = minutes_played_overall, y = goals_overall)) \n",
        "g <- g + geom_point()\n",
        "plot(g)"
      ],
      "metadata": {
        "id": "VeJ45bsWFY0U"
      },
      "execution_count": null,
      "outputs": []
    },
    {
      "cell_type": "markdown",
      "source": [
        "### 回帰分析してみる\n",
        "\n",
        "グラフを見ると、どうやら(当たり前のことですが)プレイ時間が長い選手ほどゴール数が多いみたいですね。\n",
        "\n",
        "プレイ時間とゴール数には正の関係がありそうです。この関係を回帰分析によって詳しく見てみます。\n",
        "\n",
        "Rでは、`lm(y ~ x, data = データフレーム)`という関数で単回帰分析を行うことが出来ます。\n",
        "\n",
        "($y = a x + e$の様なイメージです。)\n",
        "\n",
        "ゴール数を`y`、プレイ時間を`x`として回帰分析してみましょう。"
      ],
      "metadata": {
        "id": "FgQeyMlJ2gVI"
      }
    },
    {
      "cell_type": "code",
      "source": [
        " result <- lm(goals_overall ~ minutes_played_overall, data = forward_df) # 回帰分析を行う\n",
        " summary(result) # 分析結果の要約"
      ],
      "metadata": {
        "id": "oHW6b1LR2RN0"
      },
      "execution_count": null,
      "outputs": []
    },
    {
      "cell_type": "markdown",
      "source": [
        "ここでは、`Coefficients:`と書いてある項目を確認します。\n",
        "\n",
        "その下の`minutes_played_overall`と書いてある行の最後(`Pr(>|t|)`の列)に`< 2e-16 ***`と書いてありますね。この値が先程説明したp値の様なものです。\n",
        "\n",
        "ここでも検定が行われており、詳しくは省略しますが、**プレイ時間はゴール数に影響を与えているかどうか**を検定しています。\n",
        "\n",
        "2×10の－16乗未満ということで非常に小さいので、プレイ時間とゴール数の間に何の関係もないという仮説ではありえない結果である\n",
        "\n",
        "→仮説が間違っていて、プレイ時間はゴール数に影響を与えていると統計的に言える、という形になります。\n",
        "\n",
        "ちなみにggplotで回帰直線を引くことも出来ます。"
      ],
      "metadata": {
        "id": "S1mq1WjEcdQf"
      }
    },
    {
      "cell_type": "code",
      "source": [
        "# 回帰直線を加える\n",
        "g <- ggplot(forward_df, aes(x = minutes_played_overall, y = goals_overall)) \n",
        "g <- g + geom_point()\n",
        "g <- g + geom_smooth(method = \"lm\")\n",
        "plot(g)"
      ],
      "metadata": {
        "id": "1sw6ultpcZ2z"
      },
      "execution_count": null,
      "outputs": []
    },
    {
      "cell_type": "markdown",
      "source": [
        "### 実習\n",
        "\n",
        "先程はForwardのゴール数とプレイ時間の関係性を回帰分析で確認しました。\n",
        "\n",
        "ここでは練習として、Forwardの年齢(age)とゴール数(goals_overall)の関係性を回帰分析で確認してみましょう。\n",
        "\n",
        "下のコードの`???`を埋めてみましょう。"
      ],
      "metadata": {
        "id": "wg6V4Fw3-oVU"
      }
    },
    {
      "cell_type": "code",
      "source": [
        "# 下記のコードを埋めてみて下さい。\n",
        "\n",
        "# 年齢0のデータを省く\n",
        "forward_df <- forward_df[forward_df$age > 0, ]\n",
        "\n",
        "# まずはグラフで確認してみる\n",
        "g <- ggplot(forward_df, aes(x = ???, y = goals_overall)) \n",
        "g <- g + geom_point()\n",
        "g <- g + geom_smooth(method = \"lm\")\n",
        "plot(g)\n",
        "\n",
        "# ageとgoals_overallで回帰分析\n",
        "result <- lm(??? ~ ???, data = forward_df) # 回帰分析を行う\n",
        "summary(result) # 分析結果の要約"
      ],
      "metadata": {
        "id": "n_UCKLg0AD8s"
      },
      "execution_count": null,
      "outputs": []
    },
    {
      "cell_type": "markdown",
      "source": [
        "# 様々なパッケージ\n",
        "Rでは様々なパッケージが用意されており、目的に応じた解析やグラフ描写を行うことが出来ます。\n",
        "\n",
        "今回は、生物学で使いそうな幾つかのパッケージを試しに使ってみましょう。\n",
        "\n",
        "使い方を覚えるのでは無く、どの様なことが出来るかを知ってもらうことが目的なので、関数などを覚える必要はありません。\n",
        "\n",
        "研究等が始まった際に、各自必要だと思うものを探して使っていくような形になります。\n",
        "\n",
        "<small>パッケージのインストールは`install.packages(\"パッケージ名\")`で行うと前回言いましたが、時間がかかるので、予め用意しておきました</small>"
      ],
      "metadata": {
        "id": "kfsR69u-2j8s"
      }
    },
    {
      "cell_type": "code",
      "source": [
        "# あらかじめ用意しておいたパッケージをインストールする\n",
        "system(\"wget -q -O library.tgz https://github.com/slt666666/informatics_agri_1st/raw/main/source/_static/colab_notebook/library.tgz\")\n",
        "system(\"tar zxvf library.tgz\")\n",
        ".libPaths(\"library\")"
      ],
      "metadata": {
        "id": "x0auEU4sZiH6"
      },
      "execution_count": null,
      "outputs": []
    },
    {
      "cell_type": "markdown",
      "source": [
        "## ネットワーク図\n",
        "\n",
        "ゲノム解析の世界では、遺伝子ネットワーク図というものが描かれることがあります。\n",
        "\n",
        "<img src=\"https://github.com/slt666666/informatics_agri_1st/raw/main/source/_static/images/programming/network.png\" alt=\"network\" height=\"400px\">\n",
        "\n",
        "機能的に関係のある遺伝子同士を結んだり、同じ経路上で動く遺伝子をつなぐことで、\n",
        "\n",
        "遺伝子間の関係性や働き方を可視化する方法の1つです。\n",
        "\n",
        "この様な遺伝子ネットワークをはじめとして、様々な事象の関係性を分析する方法の１つとして、ネットワーク分析やネットワーク図と呼ばれるものが用いられています。\n",
        "\n",
        "しかし実際にネットワーク図を手で描いたり、PowerPointで作成するのは手間がかかります。"
      ],
      "metadata": {
        "id": "MueKrOQquDFb"
      }
    },
    {
      "cell_type": "markdown",
      "source": [
        "### igraphによるネットワーク図の描写\n",
        "\n",
        "そこで、ネットワーク図の描写には`igraph`というパッケージが良く用いられます。\n",
        "\n",
        "今回は`igraph`パッケージを使用して、簡単なネットワーク図を描いてみましょう。\n",
        "\n",
        "<small>(今回は基本的な機能しか使いませんが、より複雑な図を作ってみたい場合は以下のサイトなどを参考にしてみて下さい。\n",
        "\n",
        "http://www.nemotos.net/igraph-tutorial/NetSciX_2016_Workshop_ja.html )</small>\n",
        "\n",
        "---\n",
        "\n",
        "`igraph`の一番基本的な使い方としては、結びたい点と点のデータからなるデータフレームを作成して、ネットワーク図を描く方法になります。\n",
        "\n",
        "以下の例では、\n",
        "* aとbがつながっている\n",
        "* aとcがつながっている\n",
        "* bとcがつながっている\n",
        "* ...\n",
        "\n",
        "というデータを用意してみます。"
      ],
      "metadata": {
        "id": "Se9VZWxxZaiu"
      }
    },
    {
      "cell_type": "code",
      "source": [
        "# 例\n",
        "# データフレームの作成\n",
        "gene1=c(\"a\", \"a\", \"b\", \"c\", \"d\")\n",
        "gene2=c(\"b\", \"c\", \"c\", \"a\", \"a\")\n",
        "test_data <- data.frame(node1=gene1, node2=gene2)\n",
        "test_data"
      ],
      "metadata": {
        "id": "DQRvQoPv573s"
      },
      "execution_count": null,
      "outputs": []
    },
    {
      "cell_type": "code",
      "source": [
        "# igraphパッケージの呼び出し\n",
        "library(igraph)\n",
        "\n",
        "# test_dataをもとにgraph.data.frame関数でネットワーク図を描く\n",
        "g <- graph.data.frame(test_data, directed = F)\n",
        "plot(g)"
      ],
      "metadata": {
        "id": "F2j21sxu7Wxx"
      },
      "execution_count": null,
      "outputs": []
    },
    {
      "cell_type": "markdown",
      "source": [
        "### 実習:共発現している遺伝子のネットワーク図\n",
        "\n",
        "次世代シーケンサー技術の普及により、遺伝子の発現量の測定が簡単に出来る様になっています。\n",
        "\n",
        "同じような発現の仕方をしている遺伝子同士を共発現していると言います。\n",
        "\n",
        "今回扱うデータには遺伝子1、遺伝子2、この2遺伝子の共発現の度合い(0~1)の順に値が入っています。\n",
        "\n",
        "今回は共発現の度合いが0.75より大きい遺伝子1と遺伝子2の組み合わせに線を引いてネットワーク図を描いてみましょう。"
      ],
      "metadata": {
        "id": "g3Ddc48V85LZ"
      }
    },
    {
      "cell_type": "code",
      "source": [
        "# データの読み込み\n",
        "df <- read.table(\"https://raw.githubusercontent.com/slt666666/informatics_agri_1st/main/source/_static/data/Gene_expression.csv\", sep=\",\", header=T)\n",
        "head(df)"
      ],
      "metadata": {
        "id": "X9Im3qraerGa"
      },
      "execution_count": null,
      "outputs": []
    },
    {
      "cell_type": "markdown",
      "source": [
        "以下の「???」の部分を埋めて、図を描いてみて下さい。\n",
        "\n",
        "(やることはデータフレームの操作です。)"
      ],
      "metadata": {
        "id": "zZ7aaNN8hKqy"
      }
    },
    {
      "cell_type": "code",
      "source": [
        "# データの読み込み\n",
        "df <- read.table(\"https://raw.githubusercontent.com/slt666666/informatics_agri_1st/main/source/_static/data/Gene_expression.csv\", sep=\",\", header=T)\n",
        "df_coexpressed <- df[df$value >= ???, ]\n",
        "g <- graph.data.frame(???, directed = F)\n",
        "\n",
        "# 見栄えを色々設定出来る\n",
        "node_num <- length(V(g))\n",
        "V(g)$size  <- rep(10, node_num)\n",
        "V(g)$label.cex   <- rep(1, node_num)\n",
        "plot(g)"
      ],
      "metadata": {
        "id": "LigKty0p8ivH"
      },
      "execution_count": null,
      "outputs": []
    },
    {
      "cell_type": "markdown",
      "source": [
        "## 系統樹\n",
        "\n",
        "進化的な解析をする際に、系統樹を描くことがあります。遺伝子レベルでの系統樹や生物種レベルでの系統樹など、目的は様々です。\n",
        "\n",
        "生物を扱う研究をすることになれば、系統解析をする機会も出て来るかと思われます。\n",
        "\n",
        "系統解析の流れとしては、\n",
        "\n",
        "1. DNA配列やアミノ酸配列等の情報を元に、RAxML, BEAST, MEGAといった系統樹推定を行えるソフトによって系統樹を推定(通常テキストファイルで出力されます)\n",
        "2. その結果を描写ソフト・プログラム等で図にし、解釈を行う\n",
        "\n",
        "という形になります。\n",
        "\n",
        "系統樹の描写に関しては、RやPythonなどのプログラムを使ったり、Figtreeといったソフトウェアや、最近はiTOLなどのwebアプリケーションが使われることも多いです。"
      ],
      "metadata": {
        "id": "42MzZZBy9gBD"
      }
    },
    {
      "cell_type": "markdown",
      "source": [
        "### apeによる系統樹の描写\n",
        "\n",
        "今回は`ape`パッケージを使用して、簡単な系統樹を描いてみましょう。\n",
        "\n",
        "<small>(こちらも基本的な機能しか使わないので、より複雑な系統樹を作ってみたい場合は以下のサイトなどを参考にしてみて下さい。\n",
        "\n",
        "https://cran.r-project.org/web/packages/ape/vignettes/DrawingPhylogenies.pdf )</small>"
      ],
      "metadata": {
        "id": "nQvD5r37kqGb"
      }
    },
    {
      "cell_type": "code",
      "source": [
        "library(ape)\n",
        "\n",
        "# 系統樹の推定結果はこのようなテキストになります。newickフォーマットと言います。\n",
        "tree_text <- \"(((((Stickleback:0.1,Fugu:0.75)68:0.1,Medaka:0.1)93:0.1,Zebrafish:1.85)90:0.1,((Chicken:0.1,Human:0.1)92:0.1,Xenopus:0.1)87:0.1)99:0.1,SeaSquirt:0.1)100;\"\n",
        "mytree <- read.tree(text = tree_text)\n",
        "plot(mytree)"
      ],
      "metadata": {
        "id": "vreDEPKhhUVx"
      },
      "execution_count": null,
      "outputs": []
    },
    {
      "cell_type": "markdown",
      "source": [
        "## 地図の描写\n",
        "フィールドワークなどを行う研究をする人は、地図を描写する機会が多くなります。\n",
        "\n",
        "PowerPointで作成したり、模式的な図を自分で描いたりしても良いのですが、Rを使うことで座標レベルで指定した地図を容易に描写することが出来ます。\n",
        "\n",
        "`maps`パッケージや`leaflet`パッケージ等が有名です。\n",
        "\n",
        "---\n",
        "\n",
        "`maps`パッケージのマニュアル\n",
        "\n",
        "https://cran.r-project.org/web/packages/maps/maps.pdf\n",
        "\n",
        "`leaflet`パッケージのマニュアル\n",
        "\n",
        "https://cran.r-project.org/web/packages/leaflet/leaflet.pdf\n"
      ],
      "metadata": {
        "id": "mgEhp_wY-M47"
      }
    },
    {
      "cell_type": "markdown",
      "source": [
        "### mapsによる地図の描写\n",
        "\n",
        "mapsパッケージを使う事で、基本的な地図の描写が出来ます。\n",
        "\n",
        "ベースとなる地図の領域を表示して、あとは画像編集ソフトで色分けやデザイン等を編集していくと良いかもしれません。"
      ],
      "metadata": {
        "id": "l_7nqwsnthte"
      }
    },
    {
      "cell_type": "code",
      "source": [
        "# パッケージの読み込み\n",
        "library(maps)\n",
        "library(mapdata)\n",
        "\n",
        "# 世界地図を表示\n",
        "map()"
      ],
      "metadata": {
        "id": "E9tk17qcpz-4"
      },
      "execution_count": null,
      "outputs": []
    },
    {
      "cell_type": "code",
      "source": [
        "# 世界地図の中で日本を描写\n",
        "map(\"world2\", \"Japan\")\n",
        "# 地図上に都市を描写\n",
        "map.cities(country = \"Japan\", capitals = 1)\n",
        "#  緯度経度を描写\n",
        "map.axes()"
      ],
      "metadata": {
        "id": "3MCY-ncrpJ30"
      },
      "execution_count": null,
      "outputs": []
    },
    {
      "cell_type": "code",
      "source": [
        "# 緯度経度を指定して描写(経度135~137度、緯度34~36度)\n",
        "map(\"japan\", interior = FALSE, xlim = c(135, 137), ylim = c(34, 36))\n",
        "# 都道府県で境界線を描写\n",
        "map(\"japan\", boundary = FALSE, lty = 2, add = TRUE)\n",
        "# 緯度経度を指定した点に点を描写\n",
        "points(135.782545, 35.027638, col = \"red\", pch = 20)\n",
        "# 緯度経度を指定した点に文字を描写\n",
        "text(135.782545, 35.127638, \"KyotoUiv\", col = \"red\")\n",
        "# 緯度経度を描く\n",
        "map.axes()"
      ],
      "metadata": {
        "id": "CB2c0QXFqIs-"
      },
      "execution_count": null,
      "outputs": []
    },
    {
      "cell_type": "markdown",
      "source": [
        "### 実習\n",
        "???を埋めて、緯度経度を適当に設定して好きな地図を描いてみて下さい。\n"
      ],
      "metadata": {
        "id": "w8p28l9RqvS-"
      }
    },
    {
      "cell_type": "code",
      "source": [
        "# 緯度経度を指定して描写\n",
        "map(xlim = c(???, ???), ylim = c(???, ???))\n",
        "# 緯度経度を描く\n",
        "map.axes()"
      ],
      "metadata": {
        "id": "WX2k22z5sLL4"
      },
      "execution_count": null,
      "outputs": []
    },
    {
      "cell_type": "markdown",
      "source": [
        "### leafletによる地図の描写\n",
        "\n",
        "よりカラフルかつ機能的な地図を作成したければ、leafletというパッケージが良いです。\n",
        "\n",
        "(Google Colabのシステム上表示が難しいので、htmlファイルとして作成する形にしています。)"
      ],
      "metadata": {
        "id": "G4Ax3yIRtbt9"
      }
    },
    {
      "cell_type": "code",
      "source": [
        "# パッケージの読み込み(leafletと、htmlファイル作成に必要なパッケージ等。)\n",
        "library(magrittr)\n",
        "library(leaflet)\n",
        "library(htmlwidgets)\n",
        "\n",
        "# 京都大学と舞鶴の研究所を表示する地図\n",
        "m <- leaflet()\n",
        "m <- addTiles(m)\n",
        "m <- setView(m, lng=135.5, lat=35.25, zoom=9)\n",
        "m <- addPopups(m, lng=135.782545,lat=35.027638,popup=\"Kyoto University\")\n",
        "m <- addPopups(m, lng=135.368182,lat=35.488623,popup=\"Maizuru Campus\")\n",
        "m <- addPolylines(m, lng=c(135.782545, 135.368182), lat=c(35.027638, 35.488623), color=\"#f30\", weight=\"10\")\n",
        "saveWidget(m, file=\"japan.html\")"
      ],
      "metadata": {
        "id": "04PPu86sqnmh"
      },
      "execution_count": null,
      "outputs": []
    },
    {
      "cell_type": "markdown",
      "source": [
        "# 最後に\n",
        "\n",
        "今回はR言語を使ってプログラミングの基礎・幾つかのパッケージの紹介を行ってきました。\n",
        "\n",
        "少しパッケージを使うと分かったと思いますが、パッケージ毎に様々な文法・関数が用意されています。\n",
        "\n",
        "なので、基本的な関数の使い方やfor構文、if構文、データフレームの扱いあたりが出来る様になっていれば、後は目的に応じて(必要なら)パッケージ等を探し、マニュアルや使い方のページを参考に関数の使い方等を知っていくという流れになると思います。\n",
        "\n",
        "他のプログラミング言語に関しても、同じように基本的な関数の使い方・for・if構文などの書き方が分かれば、あとは目的に応じたライブラリ(パッケージ)の使い方を知っていく流れは変わりません。\n",
        "\n",
        "今回は４~5回の講義で基本的な部分しか触れられませんでしたが、興味の出た方は色々調べてみて下さい。"
      ],
      "metadata": {
        "id": "VlhZULNOyJ8L"
      }
    }
  ]
}