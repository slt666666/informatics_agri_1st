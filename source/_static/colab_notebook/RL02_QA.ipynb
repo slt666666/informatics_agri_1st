{
  "nbformat": 4,
  "nbformat_minor": 0,
  "metadata": {
    "colab": {
      "name": "RL02_QA.ipynb",
      "provenance": [],
      "collapsed_sections": [
        "WOglWe2_AQWv",
        "zBp_bpS4Arnr",
        "TzC0qomQWWmo"
      ],
      "toc_visible": true
    },
    "kernelspec": {
      "name": "ir",
      "display_name": "R"
    }
  },
  "cells": [
    {
      "cell_type": "markdown",
      "source": [
        "# RL02の質問回答\n"
      ],
      "metadata": {
        "id": "Rghww9Mg3uA7"
      }
    },
    {
      "cell_type": "markdown",
      "source": [
        "## 質問1\n",
        "\n",
        "どうして x <- x+1 のように同じ文字xを再度使って新しく変数を設定できるのでしょうか。\n",
        "\n",
        "---\n",
        "\n",
        "A. `x <- 数式`は数式の結果をxに代入することを意味しています。\n",
        "\n",
        "その際、右辺がまず計算され、その値を左辺に設定する、という順序で処理されます。\n",
        "\n",
        "そのため、上記の式では、まず`x+1`を計算し、その結果を`x`に設定する。という処理が行われています。"
      ],
      "metadata": {
        "id": "84E0Iek73zy9"
      }
    },
    {
      "cell_type": "code",
      "source": [
        "x <- 1\n",
        "# x + 10を計算して、その値を変数xに再設定する\n",
        "x <- x + 10\n",
        "x"
      ],
      "metadata": {
        "id": "yTY_2u1LMBZQ"
      },
      "execution_count": null,
      "outputs": []
    },
    {
      "cell_type": "markdown",
      "source": [
        "## 質問2\n",
        "\n",
        "```R\n",
        "x = 2500\n",
        "for (i in 1:100) {\n",
        "  x <- x * i\n",
        "}\n",
        "print(x)\n",
        "```\n",
        "という解答例を出力したところ、2500, 5000,7500, ...250000となると思ったら2.333155e+161と出てきました。何故ですか？\n",
        "\n",
        "\n",
        "---\n",
        "\n",
        "\n",
        "実習７－２で、繰り返したい処理のところに`print(x*i)`と記入すると`2500*1、2500*2、…、2500*100`の100個の数字が表示されてしまいました。なぜ正しい解答が表示されないのかを教えていただきたいです。\n",
        "\n",
        "\n",
        "---\n",
        "\n",
        "\n",
        "for構文について\n",
        "\n",
        "```R\n",
        "x = 2500\n",
        "for ( i in 1:100 ) {\n",
        "  x <- x * i\n",
        "}\n",
        "print( x )\n",
        "```\n",
        "はxに1から100までかけることを繰り返し、最後にまとめて表記することを、\n",
        "\n",
        "```R\n",
        "x = 2500\n",
        "for ( i in 1:100 ) {\n",
        "  x <- x * i\n",
        "  print( x )\n",
        "}\n",
        "```\n",
        "はxにかけ算して表示することを1から100まで繰り返すことを表すという解釈であっていますか？\n",
        "\n",
        "\n",
        "\n",
        "---\n",
        "\n",
        "A. あっています。最初の2つの質問にも関連するのでまとめてそれぞれの挙動を説明すると\n",
        "\n",
        "```R\n",
        "x = 2500\n",
        "for ( i in 1:100 ) {\n",
        "  x <- x * i\n",
        "}\n",
        "print( x )\n",
        "```\n",
        "\n",
        "こちらのコードでは、\n",
        "\n",
        "i = 1として{}内の処理を行う... `x <- x * i` → `x <- 2500 * 1` (xに2500×1を代入)\n",
        "\n",
        "i = 2として{}内の処理を行う... `x <- x * i` → `x <- 2500 * 2` (xに2500×1×2を代入) \n",
        "\n",
        "i = 3として{}内の処理を行う... `x <- x * i` → `x <- 5000 * 3` (xに2500×1×2×3を代入) \n",
        "\n",
        "i = 4として{}内の処理を行う... `x <- x * i` → `x <- 15000 * 4` (xに2500×1×2×3×4を代入) \n",
        "\n",
        "...\n",
        "\n",
        "i = 100として{}内の処理を行う... `x <- x * i` (xに2500×1×2×3×4×...×100を代入)\n",
        "\n",
        "そして最後に`print(x)`でxに代入された`2500×1×2×3×4×...×100`の結果を表示するという処理を行っています。\n",
        "\n",
        "一方で、\n",
        "\n",
        "```R\n",
        "x = 2500\n",
        "for ( i in 1:100 ) {\n",
        "  x <- x * i\n",
        "  print( x )\n",
        "}\n",
        "```\n",
        "\n",
        "こちらのコードでは、\n",
        "\n",
        "i = 1として{}内の処理を行う... `x`に2500×1を代入、そして`x`(2500×1)を表示\n",
        "\n",
        "i = 2として{}内の処理を行う... `x`に2500×2を代入、そして`x`(2500×1×2)を表示\n",
        "\n",
        "i = 3として{}内の処理を行う... `x`に5000×3を代入、そして`x`(2500×1×2×3)を表示\n",
        "\n",
        "...\n",
        "\n",
        "i = 100として{}内の処理を行う... `x`に2.333155e+159×100を代入、そして`x`(2500×1×2×3×...×100)を表示\n",
        "\n",
        "という処理を行っています。"
      ],
      "metadata": {
        "id": "6NmHH78i4Hnf"
      }
    },
    {
      "cell_type": "code",
      "source": [
        "x = 2500\n",
        "for ( i in 1:100 ) {\n",
        "  x <- x * i\n",
        "}\n",
        "print( x )"
      ],
      "metadata": {
        "id": "mmQpLnLX_EYl"
      },
      "execution_count": null,
      "outputs": []
    },
    {
      "cell_type": "markdown",
      "source": [
        "## 質問3\n",
        "for構文やif構文の時に中括弧内で改行していたと思います。改行しなくても同じように実行できたのですが、改行するのはあくまで見やすさのためですか。\n",
        "\n",
        "A. 見やすさのためです。問題無ければ一行で書いたりしても大丈夫です。"
      ],
      "metadata": {
        "id": "JvPLxVkT4HtB"
      }
    },
    {
      "cell_type": "code",
      "source": [
        "x = 2500\n",
        "for (i in 1:100) {\n",
        "  x <- x * i\n",
        "}\n",
        "print(x)"
      ],
      "metadata": {
        "id": "UnoRgq7N5hWq"
      },
      "execution_count": null,
      "outputs": []
    },
    {
      "cell_type": "code",
      "source": [
        "x = 2500; for (i in 1:100) {x <- x * i}; print(x)"
      ],
      "metadata": {
        "id": "RMo7B_ux5iT-"
      },
      "execution_count": null,
      "outputs": []
    },
    {
      "cell_type": "markdown",
      "source": [
        "## 質問4\n",
        "どうやってもRにおいて、sin(pi) を計算して０にすることはできないのですか？\n",
        "\n",
        "\n",
        "---\n",
        "\n",
        "A. 細かい話になってしまいますが、Rの内部では 10 進数を 2 進数に直して計算しているため，小数計算の種類によっては近似値になり，計算結果に誤差が生じる場合があります。\n",
        "\n",
        "この様な計算誤差はRに限らず、Excelや他のプログラミング言語など、コンピュータで計算(特に小数の計算)する上で必ず伴う現象です。\n",
        "\n",
        "Rの場合は`Rmpfr`というパッケージを使ったりして小数計算の精度をコントロールしたりします。\n",
        "\n",
        "この様な演算誤差を小さくとどめるかというのもコンピュータによる演算の課題の1つだったりします。\n",
        "\n",
        "以下は例"
      ],
      "metadata": {
        "id": "WnPdqhul4HyT"
      }
    },
    {
      "cell_type": "code",
      "source": [
        "0.4-0.3-0.1 \n",
        "\n",
        "0.4-0.2-0.2"
      ],
      "metadata": {
        "id": "7OBOX2cSKRhc"
      },
      "execution_count": null,
      "outputs": []
    },
    {
      "cell_type": "code",
      "source": [
        "sin(pi)\n",
        "\n",
        "sin(pi/2)"
      ],
      "metadata": {
        "id": "XYiOhvyOKSKY"
      },
      "execution_count": null,
      "outputs": []
    },
    {
      "cell_type": "code",
      "source": [
        ""
      ],
      "metadata": {
        "id": "Ho7q0JwgLVev"
      },
      "execution_count": null,
      "outputs": []
    }
  ]
}