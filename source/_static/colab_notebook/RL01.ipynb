{
  "nbformat": 4,
  "nbformat_minor": 0,
  "metadata": {
    "colab": {
      "name": "RL01.ipynb",
      "provenance": [],
      "collapsed_sections": [
        "GCvov-22cbuZ",
        "F1LT-36VzmfL",
        "LZedukk8kiUd",
        "7iISjW5SFMiM",
        "9POOz23j-uVC",
        "CHTj7WeRiQ8M",
        "svIe4WIG0Mtx",
        "f8aQtx7pG4YI",
        "DUJPIMkMFnGt",
        "WtLcB07NaLLi",
        "H4i4EtK_e3W-",
        "WAnAGWbyHXBr",
        "Z_575L3ju8zN"
      ],
      "toc_visible": true
    },
    "kernelspec": {
      "name": "ir",
      "display_name": "R"
    }
  },
  "cells": [
    {
      "cell_type": "markdown",
      "metadata": {
        "id": "ae_R54dp315N"
      },
      "source": [
        "# **はじめに**\n",
        "　情報基礎演習 [農学部] (金1)では、**R** とよばれるプログラミング言語を使って、プログラミングの実習をおこなっていきます。\n",
        "\n",
        "今回の実習では、Rプログラミングをおこなう際に、この **Google Colaboratory** というオンラインサービスを使って学びます。\n",
        "\n",
        "* **プログラミング (Programming)** ... 規程された一連の動作をおこなうもののことをプログラム (Program) といいます。 プログラミング はプログラムを作る（書く）ことを指します。\n",
        "\n",
        "* **R** ... プログラミング言語のひとつです。Rは、データ解析用の追加機能（パッケージ）が充実しており、統計処理やデータ解析、グラフの作成でよく使われています。R以外にも多くのプログラミング言語があります（C、C#、C++、Java、Ruby、PHP、Javascript、Pythonなど）。\n",
        "\n",
        "* **Google Coraboratory** ... Rプログラミングをおこなうための便利なオンラインサービスです。名称からわかるとおり、Google社が提供しているサービスです。基本的にPythonを動かすことが多いですが、今回の講義ではRを動かすのに使っています。\n"
      ]
    },
    {
      "cell_type": "markdown",
      "metadata": {
        "id": "g9YuYjU9w96Q"
      },
      "source": [
        "# Google Coraboratoryの基本的な使い方\n",
        "\n",
        "初めに、最低限ですがGoogle CoraboratoryでRのプログラミングをする基本的な方法を学びます。"
      ]
    },
    {
      "cell_type": "markdown",
      "metadata": {
        "id": "fjoQMwIO0twl"
      },
      "source": [
        "## **ノートブック**\n",
        "　\n",
        "現在、ウェブブラウザ（Google Chrome、FireFox、Safari など）を通して、Google Colabにアクセスして、**ノートブック** と呼ばれるもの見ています。Rプログラミングをおこなうためのファイルのことを、Google Colabでは「ノートブック」と呼んでいます。以降の実習では、ノートブックを操作して、Rプログラミングをおこなっていきます。\n",
        "\n",
        "- 「Google Colab」は、Google社のサーバー（Colabサーバー）上で、ノートブックを表示・編集・実行できるオンラインサービス\n",
        "- 「ノートブック」は、PythonやRプログラミングをおこなうファイル\n",
        "\n",
        "\n",
        "<img src=\"https://lh3.googleusercontent.com/rGFAR5vGV9lYsnnb1QhFUZlWbOtHVTwhLq4wBjIIxgJ05Dldb6ELwBTpmkBM-1i7XQ1ir1JIkxK3fcfQ20HK0VkraOPPZdClaM9caTbvsewYMU-lvsIhvXvtcDuhm8VHL495z-m9Cq_oktsqtYg-EAZXpc6_-3ebHARqVPE-q2d6EM_fq6Zcnjq3BODbYdxmAyOrS0lycbTJBvcGNWAkAJ-ECJBPyKAevUEXSCUDx7NkYgjh1Wj02VTP2POVBmpJTZhegRVyWMVryUjeKeJd9mEcoCNRWV7dEk8O80ETmOh0512AuMqzLUivD6mGxItX24uAChpt64ToJq2lAvDeg2gYk7fIKPUGPvroLFKy_UN3dlKSeC1upQsdEwDHEcgp5RK3tggn1eERsLKxqY-QDjL-LlcRyYrRqSjiTWFIkNBeif3v0R8K80JN8R2b49ukgR-Y3jOJQ1Sq23Vt16Nz98dhAXGADKNXnnmPcoeLtoHkGXIO0XxNCXj568wyC4q4WiPt82ATSORKpM-EQis-tcjh840FMsJ0fuHe-jOtLYtWqbvnmXDYJBtX_K-HDu3Vf0tD6wWks2A10NTlyh_W9Id5KRmBfq5bpqxYhv21Knrl7EFYCyF3UofbJ5MZGvjuFu-4yUwW5m5d6KsgKzs2KIUSAvF6WtCH2Vqz-HynVTMx0Q1pyRDXw8QBThSW=w1341-h510-no?authuser=0\" alt=\"colab_server\" height=\"150px\">\n"
      ]
    },
    {
      "cell_type": "markdown",
      "metadata": {
        "id": "L3g9ztbHxDuc"
      },
      "source": [
        "# **プログラムを書く/実行する**\n",
        "\n",
        "どのようにしてRプログラミングをするのか？\n",
        "\n",
        "Google Colabにはプログラムを書く「コードセル」と呼ばれるスペースがあります。\n",
        "\n",
        "実習では、このコードセルを作成し、必要に応じてRのプログラムをそこに書き込み実行していきます。\n",
        "\n",
        "### **コードを動かす練習**\n",
        "\n",
        "新しい「コードセル」を作って、簡単なプログラムを書いて実行してみましょう。\n",
        "\n",
        "ここでは Hello World という文字を表示するプログラムを作ります。\n",
        "\n",
        "```\n",
        "手順\n",
        "1. ヘッダーのすぐ下にある「+ コード」をクリックして、「コードセル」を作成する\n",
        "2. 作られたコードセルに、下記のプログラムを書く \n",
        "    print(\"Hello World!!\")\n",
        "3. プログラムを実行する\n",
        "\n",
        "プログラムの実行方法: \n",
        "  - コードセルの左にある「▶︎」をクリックする\n",
        "  - コードセルを選択し、「Shift + Enter」キーを押す\n",
        "```"
      ]
    },
    {
      "cell_type": "code",
      "metadata": {
        "id": "r4iLl7CYhNV5"
      },
      "source": [
        ""
      ],
      "execution_count": null,
      "outputs": []
    },
    {
      "cell_type": "markdown",
      "source": [
        "# コードをまとめて動かす\n",
        "もちろん、プログラムは1行である必要は無いです。\n",
        "複数行のプログラムを記述してまとめて動かすことも可能です。\n",
        "試しに下のコードを動かしてみましょう。錯視図を描写するプログラムになります。\n"
      ],
      "metadata": {
        "id": "YUUKl3I5qOOr"
      }
    },
    {
      "cell_type": "code",
      "source": [
        "library(grid)\n",
        "\n",
        "nt <- 41; nr <- 15; br <- 0.8\n",
        "col1 <- c(\"black\", \"white\")\n",
        "col2 <- c(\"aquamarine4\", \"gold2\")\n",
        "\n",
        "f <- function(x0, y0) {\n",
        "  r <- embed(br^(0:nr), 2)\n",
        "  t <- embed(seq(0, 2*pi, length=nt), 2)\n",
        "  i <- as.matrix(expand.grid(1:nrow(r), 1:nrow(t)))\n",
        "  ci <- 1 + (i[,2]%%2 + i[,1]%%2) %% 2\n",
        "\n",
        "  p <- t(apply(i, 1, function(x) c(r[x[1], ], t[x[2], ])))\n",
        "  x <- c(p[,1]*cos(p[,3]), p[,1]*cos(p[,4]), p[,2]*cos(p[,4]), p[,2]*cos(p[,3]))\n",
        "  y <- c(p[,1]*sin(p[,3]), p[,1]*sin(p[,4]), p[,2]*sin(p[,4]), p[,2]*sin(p[,3]))\n",
        "  grid.polygon(x0+x/2, y0+y/2, id = rep.int(1:nrow(p), 4),\n",
        "               gp = gpar(fill = col1[ci], col=NA), default.units=\"native\")\n",
        "\n",
        "  p <- expand.grid(1:nrow(r), sign((abs(x0-y0)==1)-0.5)*seq(0, 2*pi, length=41)[-1])\n",
        "  p <- cbind(p[,2], rowMeans(r)[p[,1]], (r[,2]-r[,1])[p[,1]]/2)\n",
        "  t <- seq(0, 2*pi, length=20)[-1]\n",
        "  x <- c(apply(p, 1, function(a) a[2]*cos(a[1])+a[3]*(cos(a[1])*cos(t)-0.5*sin(a[1])*sin(t))))\n",
        "  y <- c(apply(p, 1, function(a) a[2]*sin(a[1])+a[3]*(sin(a[1])*cos(t)+0.5*cos(a[1])*sin(t))))\n",
        "  col <- if(abs(x0-y0)==1) {col2} else {rev(col2)}\n",
        "  grid.polygon(x0+x/2, y0+y/2, id = rep(1:nrow(p), each=length(t)),\n",
        "               gp = gpar(fill = col[ci], col=NA), default.units=\"native\")\n",
        "\n",
        "}\n",
        "\n",
        "grid.newpage()\n",
        "pushViewport(viewport(xscale = c(0, 3), yscale = c(0, 3)))\n",
        "for (x0 in 0.5+0:2) for (y0 in 0.5+0:2) f(x0, y0)\n",
        "for (x0 in 1:2) for (y0 in 1:2) f(x0, y0)"
      ],
      "metadata": {
        "id": "zKsTcLaKq_mv"
      },
      "execution_count": null,
      "outputs": []
    },
    {
      "cell_type": "markdown",
      "metadata": {
        "id": "_vyli7ZLzpCc"
      },
      "source": [
        "# テキストを書く\n",
        "\n",
        "コードセル以外にもプログラムに関する説明文などの文章を書き込む **テキストセル** があります。 この文章もテキストセルに書いています。\n",
        "\n",
        "### **テキストを書く練習**\n",
        "　テキストセルを作成して何か書いてみましょう。\n",
        "\n",
        "```\n",
        "手順\n",
        "1. ヘッダーのすぐ下にある「+ テキスト」をクリックし、テキストセルを作成する\n",
        "2. 作成したテキストセルに何か書く\n",
        "```\n",
        "```python\n",
        "# 書き込むテキスト例\n",
        "情報基礎演習\n",
        "```\n"
      ]
    },
    {
      "cell_type": "markdown",
      "metadata": {
        "id": "9J01Qg5h2PHW"
      },
      "source": [
        "# その他の機能\n",
        "\n",
        "今回の講義では使用しませんが、Google Colabには様々な便利な機能があります。\n",
        "\n",
        "* ノートブックを保存したり、アップロードして配布したりすることが出来ます。本講義もあらかじめ作成したノートブックをアップロードしたものに皆さんがアクセスしている形になります。\n",
        "* Pythonによるプログラミング。通常はPythonのプログラミングで利用する場合が殆どです。2回生の講義「ゲノム情報解析入門」ではGoogle ColabでPythonを利用する予定です。\n",
        "* GPUやTPUの利用。機械学習では計算処理にGPUやTPUと呼ばれる演算装置が用いられることがあります。個人で購入するには高価ですが、Google Colabではそれなりのスペックのものを無料で(時間制限はありますが)利用することが出来ます。"
      ]
    },
    {
      "cell_type": "markdown",
      "metadata": {
        "id": "1LiHMAOm4tFO"
      },
      "source": [
        "それでは次のノートブックを開いてRでのプログラミング実習を始めていきましょう。"
      ]
    }
  ]
}