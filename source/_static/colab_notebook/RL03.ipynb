{
  "nbformat": 4,
  "nbformat_minor": 0,
  "metadata": {
    "colab": {
      "name": "RL03.ipynb",
      "provenance": [],
      "collapsed_sections": [
        "dQCq3qdRHlCp",
        "L9kpSlDHowPq",
        "TzC0qomQWWmo",
        "5pFLk7PFBHRM",
        "6AUviWtHWjKD",
        "5vG-8XJUKAf4",
        "y9OAuF6-kpT_",
        "Yczgrn42MZuk",
        "LQKlirh9SYpN"
      ],
      "toc_visible": true
    },
    "kernelspec": {
      "name": "ir",
      "display_name": "R"
    }
  },
  "cells": [
    {
      "cell_type": "markdown",
      "source": [
        "# **データを読み込んで処理する**"
      ],
      "metadata": {
        "id": "TZIryA7vb6Ve"
      }
    },
    {
      "cell_type": "markdown",
      "source": [
        "## **データフレームとは**\n",
        "\n",
        "Rにはデータを扱いやすくした「データフレーム」という形式があります。数値ベクトルや文字ベクトル，因子ベクトル（文字型ベクトル）などの異なる型のデータを行列の様にまとめて扱うことが出来ます。"
      ],
      "metadata": {
        "id": "vjvndnp7cE4g"
      }
    },
    {
      "cell_type": "markdown",
      "metadata": {
        "id": "PT4HhDaqnLEl"
      },
      "source": [
        "### データフレームの作成\n",
        "データフレームを0から作成するには、以下の様な書き方で作成できます。\n",
        "```R\n",
        "data.frame(列名=データ, 列名=データ, ... 列名=データ)\n",
        "```\n",
        "実際に適当なデータで作成してみると、"
      ]
    },
    {
      "cell_type": "code",
      "source": [
        "# データフレームの作成例\n",
        "\n",
        "# 各列のデータを用意\n",
        "a <- c(\"Tomato\",\"Tomato\",\"Tomato\",\"Pepper\",\"Pepper\",\"Pepper\")\n",
        "b <- c(58,62,77,73,66,69)\n",
        "c <- c(12,15,13,21,22,19)\n",
        "\n",
        "# データフレームを作成\n",
        "x <- data.frame(Specie=a, Height=b, Weight=c)\n",
        "x"
      ],
      "metadata": {
        "id": "VcU7HkrjaZIo"
      },
      "execution_count": null,
      "outputs": []
    },
    {
      "cell_type": "markdown",
      "source": [
        "データフレームにしておくことで、基本統計量などを簡単に表示することが出来ます。\n",
        "```R\n",
        "summary(データフレームの変数)\n",
        "```\n",
        "\n",
        "基本統計量は、ある列の値毎に算出したりも出来ます。\n",
        "\n",
        "```R\n",
        "by(データフレームの変数，データを分ける変数，関数名)\n",
        "```"
      ],
      "metadata": {
        "id": "k0T-AEyNffrK"
      }
    },
    {
      "cell_type": "code",
      "source": [
        "# 例\n",
        "summary(x)"
      ],
      "metadata": {
        "id": "tCFX5bTqfr3v"
      },
      "execution_count": null,
      "outputs": []
    },
    {
      "cell_type": "code",
      "source": [
        "#種ごとに基本統計量を表示\n",
        "by(x, x$Specie, summary)"
      ],
      "metadata": {
        "id": "cEU4d1iug5Z-"
      },
      "execution_count": null,
      "outputs": []
    },
    {
      "cell_type": "markdown",
      "source": [
        "### データフレームの各要素へのアクセス\n",
        "\n",
        "データフレームの一部のデータを抽出したい時には、以下の様な書き方になります。\n",
        "\n",
        "```R\n",
        "# 列データの抽出\n",
        "x$列名\n",
        "x[ ,列番号]\n",
        "\n",
        "# 行データの抽出\n",
        "x[行番号, ]\n",
        "\n",
        "# a行目b列目の値の抽出\n",
        "x[行番号, 列番号]\n",
        "```"
      ],
      "metadata": {
        "id": "c1LK3sAkbxhC"
      }
    },
    {
      "cell_type": "code",
      "source": [
        "# 例\n",
        "# 高さのデータだけ取り出す\n",
        "x$Height"
      ],
      "metadata": {
        "id": "ZoWtVLP5-DzN"
      },
      "execution_count": null,
      "outputs": []
    },
    {
      "cell_type": "code",
      "source": [
        "# 2行目のデータを取り出す\n",
        "x[2, ]"
      ],
      "metadata": {
        "id": "qEhTLn4K-HL1"
      },
      "execution_count": null,
      "outputs": []
    },
    {
      "cell_type": "code",
      "source": [
        "# 2列目のデータを取り出す\n",
        "x[, 2]"
      ],
      "metadata": {
        "id": "Bz6Rx72IB5kL"
      },
      "execution_count": null,
      "outputs": []
    },
    {
      "cell_type": "markdown",
      "source": [
        "こうして取り出したデータに対して、平均値を計算する関数を適用したりすることも出来ます。"
      ],
      "metadata": {
        "id": "YH9OMRPU-RnP"
      }
    },
    {
      "cell_type": "code",
      "source": [
        "# (例) 高さの平均値を見る\n",
        "takasa <- x$Height # 高さを取り出す\n",
        "mean(takasa)         # mean関数を適用\n",
        "\n",
        "# まとめてしまっても良い\n",
        "mean(x$Height)"
      ],
      "metadata": {
        "id": "98GjUUWqrwJa"
      },
      "execution_count": null,
      "outputs": []
    },
    {
      "cell_type": "markdown",
      "source": [
        "また、条件を指定して条件に合うデータのみを抽出してくることも可能です。\n",
        "\n",
        "前回If構文で学んだ比較演算子をここでも使います。\n",
        "\n",
        "```R\n",
        "# Specie列がTomatoのデータのみ抽出\n",
        "x[x$Specie == \"Tomato\", ]\n",
        "\n",
        "# Heightが70以上のデータのみ抽出\n",
        "x[x$Height >= 70, ]\n",
        "```"
      ],
      "metadata": {
        "id": "H8_skJOu-AZ1"
      }
    },
    {
      "cell_type": "markdown",
      "source": [
        "データフレームの`Specie`の列が\"Tomato\"の行を取り出す場合は"
      ],
      "metadata": {
        "id": "3AdH5bYODajR"
      }
    },
    {
      "cell_type": "code",
      "source": [
        "# 例\n",
        "# トマトのデータを取り出す\n",
        "x[x$Specie == \"Tomato\", ]"
      ],
      "metadata": {
        "id": "hgfOO5cS-KbW"
      },
      "execution_count": null,
      "outputs": []
    },
    {
      "cell_type": "markdown",
      "source": [
        "データフレームのHeightの列が70以上の行を取り出す場合は"
      ],
      "metadata": {
        "id": "8y5hnLFNDhyc"
      }
    },
    {
      "cell_type": "code",
      "source": [
        "# 例\n",
        "# Heightが70以上のデータを取り出す\n",
        "x[x$Height >= 70, ]"
      ],
      "metadata": {
        "id": "S10QeLDbDoRK"
      },
      "execution_count": null,
      "outputs": []
    },
    {
      "cell_type": "markdown",
      "source": [
        "### **実習1**\n",
        "**実習1-1**\n",
        "\n",
        "下記のコードを埋めて、作成したデータフレーム`x`から、\n",
        "\n",
        "重さ(Weight)が20以上のデータを取り出してください"
      ],
      "metadata": {
        "id": "KVRaZxGMCIzV"
      }
    },
    {
      "cell_type": "code",
      "source": [
        "# 各列のデータを用意\n",
        "a <- c(\"Tomato\",\"Tomato\",\"Tomato\",\"Pepper\",\"Pepper\",\"Pepper\")\n",
        "b <- c(58,62,77,73,66,69)\n",
        "c <- c(12,15,13,21,22,19)\n",
        "\n",
        "# データフレームを作成\n",
        "x <- data.frame(Specie=a, Height=b, Weight=c)\n",
        "\n",
        "# Weightが20以上のデータを取り出す\n",
        "\n"
      ],
      "metadata": {
        "id": "UNGheE7LCPNn"
      },
      "execution_count": null,
      "outputs": []
    },
    {
      "cell_type": "markdown",
      "source": [
        "**実習1-2**\n",
        "\n",
        "下記のコードを埋めて、作成したデータフレームxから、\n",
        "\n",
        "Specieが\"Pepper\"のデータを取り出し、重さ(Weight)の平均値を求めて下さい。"
      ],
      "metadata": {
        "id": "fctdHyeaD1aG"
      }
    },
    {
      "cell_type": "code",
      "source": [
        "# 各列のデータを用意\n",
        "a <- c(\"Tomato\",\"Tomato\",\"Tomato\",\"Pepper\",\"Pepper\",\"Pepper\")\n",
        "b <- c(58,62,77,73,66,69)\n",
        "c <- c(12,15,13,21,22,19)\n",
        "\n",
        "# データフレームを作成\n",
        "x <- data.frame(Specie=a, Height=b, Weight=c)\n",
        "\n",
        "# Specieが\"Pepper\"のデータを取り出す\n",
        "x_pepper <- \n",
        "\n",
        "# 取り出したデータのWeightの平均値を求める\n",
        "\n"
      ],
      "metadata": {
        "id": "_4GuhLEYEPOs"
      },
      "execution_count": null,
      "outputs": []
    },
    {
      "cell_type": "markdown",
      "source": [
        "### **CSVファイル(Excelファイル)からデータを読み込む**\n",
        "\n",
        "自分で手入力できるデータくらいなら、Excelでやってしまって、わざわざデータフレームにする必要を感じられないかもしれないですが、\n",
        "\n",
        "より大きなデータを扱うときにデータフレームは便利になってきます。\n",
        "\n",
        "\n",
        "今回はエクセルでは手動で見きれないような様なファイルをデータフレームとして読み込んでみましょう。\n",
        "\n",
        "以下のサッカー選手のデータを読み込んでみます。\n",
        "\n",
        "[2018-2019年のイングランドプレミアリーグのサッカー選手データ](https://github.com/slt666666/informatics_agri_1st/blob/main/source/_static/data/england-premier-league-players-2018-to-2019-stats.csv)\n",
        "\n",
        "データをデータフレームとして読むには以下のように書きます。\n",
        "```R\n",
        "read.csv(\"ファイル名\")\n",
        "```"
      ],
      "metadata": {
        "id": "MYDL7laxfMFx"
      }
    },
    {
      "cell_type": "code",
      "source": [
        "# web上のデータを読む\n",
        "df <- read.csv(\"https://raw.githubusercontent.com/slt666666/informatics_agri_1st/main/source/_static/data/england-premier-league-players-2018-to-2019-stats.csv\")\n",
        "# head(データフレーム) ... データフレームの最初の数行だけ表示\n",
        "head(df)"
      ],
      "metadata": {
        "id": "yt6JhE_ylF5R"
      },
      "execution_count": null,
      "outputs": []
    },
    {
      "cell_type": "markdown",
      "source": [
        "#### **ExcelファイルとCSVファイル**\n",
        "プログラムなどで扱えるようにするにはX「XXX.xlsx」というExcel用のフォーマットから「XXX.csv」というCSV()というカンマ(\",\")でデータが区切られたフォーマットに変える必要があります。\n",
        "\n",
        "フォーマットを変えるにはExcelで保存するときに、フォーマットを変更して保存します。\n",
        "\n",
        "<img src=\"https://github.com/slt666666/informatics_agri_1st/raw/main/source/_static/images/programming/excel_to_csv.png\" alt=\"excel_to_csv\" height=\"500px\">"
      ],
      "metadata": {
        "id": "gywtJNy7lkTn"
      }
    },
    {
      "cell_type": "markdown",
      "source": [
        "#### **Colabノートブックでのデータのアップロード**\n",
        "今回はweb上のデータをダウンロードしてきましたが、皆さんが自分のデータを読み込ませたいときには、Colabノートブックにデータをアップロードする必要があります。左のフォルダマークからアップロードしましょう。\n",
        "\n",
        "<img src=\"https://github.com/slt666666/informatics_agri_1st/raw/main/source/_static/images/programming/file_upload.png\" alt=\"file_upload\" height=\"450px\">"
      ],
      "metadata": {
        "id": "PuYrsn7GmaJ9"
      }
    },
    {
      "cell_type": "markdown",
      "source": [
        "### **実習2**\n",
        "先程のサッカー選手のデータについて、\n",
        "\n",
        "**課題2_1.** \n",
        "\n",
        "年齢が30歳以上の選手の総プレイ時間(minutes_played_overall)の最大値を求めて下さい。\n",
        "\n",
        "最大値は`max`関数で求まります。\n",
        "\n",
        "**課題2_2.** \n",
        "\n",
        "年齢が20歳以下のポジション(position)がDefenderの選手のデータを表示してください。\n",
        "\n"
      ],
      "metadata": {
        "id": "jANQgg9LyTKW"
      }
    },
    {
      "cell_type": "code",
      "source": [
        "# web上のデータを読む\n",
        "df <- read.csv(\"https://raw.githubusercontent.com/slt666666/informatics_agri_1st/main/source/_static/data/england-premier-league-players-2018-to-2019-stats.csv\")\n",
        "\n",
        "# 課題1_1\n",
        "\n",
        "\n",
        "# 課題1_2\n",
        "\n",
        "\n"
      ],
      "metadata": {
        "id": "4fGEulmdrKDI"
      },
      "execution_count": 7,
      "outputs": []
    },
    {
      "cell_type": "markdown",
      "source": [
        "#### 解答例"
      ],
      "metadata": {
        "id": "TzC0qomQWWmo"
      }
    },
    {
      "cell_type": "code",
      "source": [
        "# web上のデータを読む\n",
        "df <- read.csv(\"https://raw.githubusercontent.com/slt666666/informatics_agri_1st/main/source/_static/data/england-premier-league-players-2018-to-2019-stats.csv\")\n",
        "\n",
        "# 課題1_1\n",
        "max(df[df$age >= 30, \"minutes_played_overall\"])\n",
        "# 課題1_2\n",
        "df[(df$age <= 20) & (df$position == \"Defender\"), ]"
      ],
      "metadata": {
        "id": "w-8ULToEWZEo"
      },
      "execution_count": null,
      "outputs": []
    },
    {
      "cell_type": "markdown",
      "source": [
        "### **データフレームの出力**\n",
        "\n",
        "作成したり編集したデータフレームは、ファイルとして出力することが出来ます。\n",
        "```R\n",
        "write.table(データフレーム名変数, \"出力するファイルの名前\", sep=区切り文字)\n",
        "```"
      ],
      "metadata": {
        "id": "LY4BO2IsbPIp"
      }
    },
    {
      "cell_type": "code",
      "source": [
        "# 例えば35歳以上の選手のデータをover35.csvというファイル名で出力するには\n",
        "new_df <- df[df$age >= 35, ]\n",
        "print(new_df)\n",
        "write.table(new_df, \"over35.csv\", sep=\",\")"
      ],
      "metadata": {
        "id": "L3hATgNdqElN"
      },
      "execution_count": null,
      "outputs": []
    },
    {
      "cell_type": "markdown",
      "source": [
        "今回は全ての機能を紹介することは出来ませんが、他にもデータフレームを結合したり、データをソートしたりと、様々な機能があります。"
      ],
      "metadata": {
        "id": "CXv44ZAoyRXb"
      }
    },
    {
      "cell_type": "markdown",
      "source": [
        "# **関数を作る**\n",
        "\n",
        "文字を表示する`print`関数や平均値を計算する`mean`関数など、Rには様々な関数が用意されていますが、自分でこの関数を作成することも出来ます。\n",
        "\n",
        "以下の様な書き方をします。\n",
        "```R\n",
        "関数名 <- function(引数) {\n",
        "  処理内容\n",
        "  return(返す値)\n",
        "}\n",
        "```\n",
        "\n",
        "例えば、$x$を入力すると、$x^2+3$の値を計算して返してくれる機能を持った関数を作りたいとすると、下記の様なコードになります。"
      ],
      "metadata": {
        "id": "S0gotqwkR07n"
      }
    },
    {
      "cell_type": "code",
      "source": [
        "# 引数の2乗+3の値を返す関数\n",
        "new_kansuu <- function(x) {\n",
        "  answer <- x*x + 3\n",
        "  return (answer)\n",
        "}\n",
        "\n",
        "new_kansuu(8)"
      ],
      "metadata": {
        "id": "Z2sKNHW6ScaY"
      },
      "execution_count": null,
      "outputs": []
    },
    {
      "cell_type": "markdown",
      "source": [
        "# 統計解析\n",
        "\n",
        "Rは統計解析が得意な言語のひとつなので、様々な統計処理を行うことが可能です。\n",
        "\n",
        "回帰分析をやってみましょう。"
      ],
      "metadata": {
        "id": "yWegJv_UGuJW"
      }
    },
    {
      "cell_type": "code",
      "source": [
        ""
      ],
      "metadata": {
        "id": "ZBY7PkHrG6Md"
      },
      "execution_count": null,
      "outputs": []
    },
    {
      "cell_type": "markdown",
      "metadata": {
        "id": "rwbSm1T7f7sG"
      },
      "source": [
        "# **簡単なグラフを描く**\n",
        "\n",
        "`plot`関数で散布図や折れ線グラフなど様々なグラフを描くことが出来ます。\n",
        "\n",
        "ただし、Rでグラフを描写する際にはこの後紹介するggplotというパッケージ(パッケージに関しても後述)を使うことが多いので、ここでは`plot`関数の基本的な使い方のみ紹介します。\n",
        "\n",
        "基本的にはグラフ化したいデータを用意して、`plot`関数の引数に指定する形になります。\n",
        "```R\n",
        "x <- ベクトルなどのデータ\n",
        "plot(x)\n",
        "```"
      ]
    },
    {
      "cell_type": "markdown",
      "source": [
        "直接データを入れると、散布図が描かれます。"
      ],
      "metadata": {
        "id": "nKRJ_CAf5XE4"
      }
    },
    {
      "cell_type": "code",
      "source": [
        "# 例\n",
        "x <- c(1, 3, 5, 7, 9, 10, 8, 6, 4, 2)\n",
        "plot(x)"
      ],
      "metadata": {
        "id": "Yayt8cVc5HkQ"
      },
      "execution_count": null,
      "outputs": []
    },
    {
      "cell_type": "markdown",
      "source": [
        "`plot`関数は引数で`type`を指定することで様々なグラフを描くことが出来ます。\n",
        "\n",
        "```R\n",
        "x <- ベクトルなどのデータ\n",
        "plot(x, type=\"l\")\n",
        "```\n",
        "* type=\"l\" ... 線プロット(折れ線グラフ)\n",
        "* type=\"b\" ... 点と線のプロット\n",
        "* type=\"c\" ... \"b\" において点を描かないプロット\n",
        "* type=\"o\" ... 点プロットと線プロットの重ね書き\n",
        "* type=\"h\" ... 各点から x 軸までの垂線プロット\n",
        "* type=\"s\" ... 左側の値にもとづいて階段状に結ぶ"
      ],
      "metadata": {
        "id": "vwWF1wwO4mUn"
      }
    },
    {
      "cell_type": "code",
      "source": [
        "# 例\n",
        "x <- c(1, 3, 5, 7, 9, 10, 8, 6, 4, 2)\n",
        "plot(x, type=\"l\")"
      ],
      "metadata": {
        "id": "4wPyNpgi6E1I"
      },
      "execution_count": null,
      "outputs": []
    },
    {
      "cell_type": "markdown",
      "source": [
        "また、数学の関数をデータとして入れることで、そのグラフを描くことも出来ます。\n",
        "\n",
        " ```\n",
        " plot(関数名, 下限, 上限)\n",
        " ```\n",
        " ここでの関数名とはsinやcosといった三角関数や、$x^2+4x+3$の様な任意の関数式を示します。"
      ],
      "metadata": {
        "id": "3hTY7xIR6eDo"
      }
    },
    {
      "cell_type": "code",
      "source": [
        "kansuu <- function(x) {\n",
        "  return (x*x + 4*x +3)\n",
        "}\n",
        "plot(kansuu, 0, 10)"
      ],
      "metadata": {
        "id": "y5fKj9aU7M70"
      },
      "execution_count": null,
      "outputs": []
    },
    {
      "cell_type": "markdown",
      "source": [
        "# **パッケージを使う**\n",
        "\n",
        "パッケージとは、関数やデータセットを集めたものです。 Rでは、パッケージをインストールすることで、 機能を拡張することが出来る仕組みになっています。\n",
        "\n",
        "例えば、Rには綺麗なグラフ図を描くggplot2パッケージというものがあります。\n",
        "先程描いたグラフでも最低限の描写は出来ますが、ライブラリを使うことでより見やすいグラフの描写が出来る関数が使えるようになります。\n",
        "\n",
        "他にも、データフレームをより扱いやすくするdplyrパッケージや、機械学習・統計解析・3Dモデル・ネットワーク図の作成など、それぞれの目的に応じたパッケージが数多く開発されています。\n",
        "\n",
        "<img src=\"https://github.com/slt666666/informatics_agri_1st/raw/main/source/_static/images/programming/packages.png\" alt=\"packages\" height=\"250px\">\n",
        "\n",
        "Google colaboratoryでは、有名なパッケージはインストールされているので、パッケージを読み込むだけで使えるのですが、通常(自分のPCで動かす場合など)は、一度パッケージをインストールする必要があります。\n",
        "```R\n",
        "install.packages(\"インストールしたいパッケージ名\")\n",
        "```\n",
        "\n",
        "一度インストールしたパッケージは下記のコードで呼び出せるようになります。\n",
        "```R\n",
        "library(パッケージ名)\n",
        "```"
      ],
      "metadata": {
        "id": "Caw_vvzAbL0V"
      }
    },
    {
      "cell_type": "markdown",
      "source": [
        "さきほど読み込んだサッカー選手のデータをggplotで可視化してみましょう。\n",
        "\n",
        "データとしては、\n",
        "```R\n",
        "df$age ... 年齢\n",
        "df$position ... ポジション ('Defender''Midfielder''Forward''Goalkeeper')\n",
        "df$minutes_played_overall ... 総プレイ時間\n",
        "df$goals_overall ... ゴール数\n",
        "df$assists_overall ... アシスト数\n",
        "```\n",
        "あたりを使います。\n",
        "\n",
        "ggplotの使い方は\n",
        "```R\n",
        "# データの指定\n",
        "p <- ggplot(データフレーム名, aes(x=データフレームの列名, y=データフレームの列名))\n",
        "# 描くグラフの種類を加えていく\n",
        "p <- p + geom_point()\n",
        "# グラフを表示\n",
        "p\n",
        "```"
      ],
      "metadata": {
        "id": "DroVDTcLgmtr"
      }
    },
    {
      "cell_type": "markdown",
      "source": [
        "サッカー選手の年齢をx軸に、総ゴール数をy軸に設定して散布図を描いてみます。"
      ],
      "metadata": {
        "id": "DcfgpRIEjiC6"
      }
    },
    {
      "cell_type": "code",
      "source": [
        "# ggplot2を呼び出す\n",
        "library(ggplot2)\n",
        "\n",
        "p <- ggplot(df, aes(x=age, y=goals_overall))\n",
        "p <- p + geom_point()\n",
        "p"
      ],
      "metadata": {
        "id": "8JiWXo7XfSBL"
      },
      "execution_count": null,
      "outputs": []
    },
    {
      "cell_type": "markdown",
      "source": [
        "どうやら0歳の人が混ざっているようです。こういった外れ値や入力ミスなどを見つけやすくなるのもグラフ化の良い所ですね。\n",
        "\n",
        "この0歳の人を省いてグラフ化してみましょう。"
      ],
      "metadata": {
        "id": "FxTMneighmql"
      }
    },
    {
      "cell_type": "code",
      "source": [
        "df <- df[df$age > 0, ]\n",
        "p <- ggplot(df, aes(x=age, y=goals_overall))\n",
        "p <- p + geom_point()\n",
        "p"
      ],
      "metadata": {
        "id": "hSR57LaMh0Wj"
      },
      "execution_count": null,
      "outputs": []
    },
    {
      "cell_type": "markdown",
      "source": [
        "また、データに基づいて色を分けて表示することも出来ます。\n",
        "下記の様にデータ指定の際に、`colour=列名`を追加します。\n",
        "\n",
        "```R\n",
        "# データの指定\n",
        "p <- ggplot(データフレーム名, aes(x=データフレームの列名, y=データフレームの列名, colour=データフレームの列名))\n",
        "# 描くグラフの種類を加えていく\n",
        "p <- p + geom_point()\n",
        "# グラフを表示\n",
        "p\n",
        "```"
      ],
      "metadata": {
        "id": "7JW848YCizcE"
      }
    },
    {
      "cell_type": "markdown",
      "source": [
        "今回は先程の散布図にポジションごとに色を付けてみます。"
      ],
      "metadata": {
        "id": "YA84dN5_jcbA"
      }
    },
    {
      "cell_type": "code",
      "source": [
        "p <- ggplot(df, aes(x=age, y=goals_overall, colour=position))\n",
        "p <- p + geom_point()\n",
        "p"
      ],
      "metadata": {
        "id": "W8i2Rz-9jPGP"
      },
      "execution_count": null,
      "outputs": []
    },
    {
      "cell_type": "markdown",
      "source": [
        "# シミュレーションをRで実行してみる。\n",
        "Excelの実習の際に、ロトカ・ヴォルテラ方程式というものを実装してみました。\n",
        "\n",
        "被食者・捕食者の数が時間の経過とともにどの様に移り変わっていくのか、というモデルですね。\n",
        "\n",
        "<img src=\"https://github.com/slt666666/informatics_agri_1st/raw/main/source/_static/images/programming/simulation.png\" alt=\"simulation\" height=\"200px\">\n",
        "\n",
        "<img src=\"https://informatics-agri-1st.readthedocs.io/ja/latest/_images/Lotka_Volterra_equation_Maple_plot.png\" alt=\"packages\" height=\"250px\">\n",
        "\n",
        "Excelでは関数やオートフィルを使って実装しましたが、今回はRでの実装例を見てみましょう。\n",
        "計算した結果をggplotで可視化してみます。"
      ],
      "metadata": {
        "id": "deMuzAugLWL6"
      }
    },
    {
      "cell_type": "code",
      "source": [
        "library(ggplot2)\n",
        "\n",
        "#各パラメータの設定\n",
        "a <- 1.2\n",
        "b <- 1\n",
        "c <- 1\n",
        "d <- 1\n",
        "\n",
        "# x, yのベクトル(入れ物)を作り初期値を入れる\n",
        "x <- c(1)\n",
        "y <- c(3)\n",
        "\n",
        "# dx/dt, dy/dtの初期値\n",
        "dx_dt <- -4\n",
        "dy_dt <- 0\n",
        "\n",
        "# 経過時間とx,yを確認した時間の入れ物\n",
        "passed_time <- 0.01\n",
        "times <- c(0)\n",
        "\n",
        "# 時間0.01を1000回進めた場合\n",
        "for (t in 1:3000) {\n",
        "\n",
        "  # 時間(0.01)経過後のx, yの個体数\n",
        "  new_x <- x[length(x)] + passed_time * dx_dt\n",
        "  new_y <- y[length(y)] + passed_time * dy_dt\n",
        "\n",
        "  # x, y, timesの入れ物に加える\n",
        "  x <- c(x, new_x)\n",
        "  y <- c(y, new_y)\n",
        "\n",
        "  # 現在の時間を計算し、入れ物に加える\n",
        "  times <- c(times, times[length(times)]+passed_time)\n",
        "\n",
        "  # 次のdx/dt, dy/dtの計算\n",
        "  dx_dt <- a * new_x - b * new_x * new_y\n",
        "  dy_dt <- c * new_x * new_y - d * new_y\n",
        "\n",
        "}\n",
        "\n",
        "# データフレームを作成\n",
        "data <- data.frame(time=times, x=x, y=y)\n",
        "\n",
        "# ggplotでグラフ描写\n",
        "p1 <- ggplot(data) + geom_point(aes(x=times,y=x),color=\"red\")\n",
        "p2 <-geom_point(aes(x=time,y=y),color=\"blue\")\n",
        "p <- p1 + p2 + coord_fixed(5) # サイズを調整\n",
        "print(p)"
      ],
      "metadata": {
        "id": "3a7xyDn5OIqz",
        "outputId": "6c8253ca-f056-4ebb-e085-511f06ed476f",
        "colab": {
          "base_uri": "https://localhost:8080/",
          "height": 437
        }
      },
      "execution_count": 64,
      "outputs": [
        {
          "output_type": "display_data",
          "data": {
            "image/png": "[encoded data removed]",
            "text/plain": [
              "plot without title"
            ]
          },
          "metadata": {
            "image/png": {
              "width": 420,
              "height": 420
            }
          }
        }
      ]
    },
    {
      "cell_type": "markdown",
      "metadata": {
        "id": "0x7enzMdMk80"
      },
      "source": [
        "---\n",
        "## まとめ\n",
        "\n",
        "　今回のページでは、Rの基礎その2を勉強しました。\n",
        "- データベースについて\n",
        "- 関数の作成\n",
        "- 簡単な統計解析\n",
        "- 簡単なグラフを描く\n",
        "- パッケージの使い方\n",
        "- シミュレーション\n",
        "\n",
        "など。\n",
        "\n",
        "それぞれについてあまり深くは説明しませんでしたが、\n",
        "\n",
        "このあたりまでくれば、自分で必要なパッケージなどを探してきて、\n",
        "\n",
        "様々な用途にRを使えるようになっているはずです。"
      ]
    },
    {
      "cell_type": "code",
      "source": [
        ""
      ],
      "metadata": {
        "id": "yTY_2u1LMBZQ"
      },
      "execution_count": null,
      "outputs": []
    }
  ]
}