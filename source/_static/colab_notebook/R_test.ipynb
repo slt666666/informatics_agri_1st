{
  "nbformat": 4,
  "nbformat_minor": 0,
  "metadata": {
    "colab": {
      "name": "L01_first_googlecolab.ipynb",
      "provenance": [],
      "collapsed_sections": [
        "GCvov-22cbuZ",
        "F1LT-36VzmfL",
        "LZedukk8kiUd",
        "7iISjW5SFMiM",
        "9POOz23j-uVC",
        "CHTj7WeRiQ8M",
        "svIe4WIG0Mtx",
        "f8aQtx7pG4YI",
        "DUJPIMkMFnGt",
        "WtLcB07NaLLi",
        "H4i4EtK_e3W-",
        "WAnAGWbyHXBr",
        "Z_575L3ju8zN"
      ]
    },
    "kernelspec": {
      "name": "python3",
      "display_name": "Python 3"
    }
  },
  "cells": [
    {
      "cell_type": "markdown",
      "metadata": {
        "id": "wTl2PRy45ifF"
      },
      "source": [
        "# Google Colaboratoryの使い方"
      ]
    },
    {
      "cell_type": "markdown",
      "metadata": {
        "id": "ae_R54dp315N"
      },
      "source": [
        "## はじめに\n",
        "　情報基礎演習 [農学部] (金1)では、**R** とよばれるプログラミング言語を使って、プログラミングの実習をおこなっていきます。\n",
        "\n",
        "　今回の実習では、Rプログラミングをおこなう前に、この **Google Colaboratory** というオンラインサービスの使い方を学びます。\n"
      ]
    },
    {
      "cell_type": "code",
      "metadata": {
        "id": "r4iLl7CYhNV5"
      },
      "source": [
        ""
      ],
      "execution_count": null,
      "outputs": []
    }
  ]
}